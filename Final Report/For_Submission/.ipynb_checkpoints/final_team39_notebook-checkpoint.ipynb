{
 "cells": [
  {
   "cell_type": "markdown",
   "metadata": {
    "button": false,
    "deletable": false,
    "new_sheet": false,
    "run_control": {
     "read_only": false
    }
   },
   "source": [
    "# <img style=\"float: left; padding-right: 10px; width: 45px\" src=\"https://raw.githubusercontent.com/Harvard-IACS/2018-CS109A/master/content/styles/iacs.png\"> CS109A Introduction to Data Science\n",
    "\n",
    "## Final Project: Police Violence Investigation\n",
    "\n",
    "### Models and Supporting Analysis\n",
    "\n",
    "**Harvard University**<br/>\n",
    "**Fall 2020**<br/>\n",
    "**Team Members**: Chika Okafor, Vasco Meerman, Matthew Parker, and David Koupaei\n",
    "\n",
    "<hr style=\"height:2pt\">\n",
    "\n"
   ]
  },
  {
   "cell_type": "code",
   "execution_count": 1,
   "metadata": {
    "button": false,
    "deletable": false,
    "editable": false,
    "jupyter": {
     "outputs_hidden": false
    },
    "new_sheet": false,
    "run_control": {
     "read_only": false
    }
   },
   "outputs": [
    {
     "data": {
      "text/html": [
       "<style>\n",
       "blockquote { background: #AEDE94; }\n",
       "h1 { \n",
       "    padding-top: 25px;\n",
       "    padding-bottom: 25px;\n",
       "    text-align: left; \n",
       "    padding-left: 10px;\n",
       "    background-color: #DDDDDD; \n",
       "    color: black;\n",
       "}\n",
       "h2 { \n",
       "    padding-top: 10px;\n",
       "    padding-bottom: 10px;\n",
       "    text-align: left; \n",
       "    padding-left: 5px;\n",
       "    background-color: #EEEEEE; \n",
       "    color: black;\n",
       "}\n",
       "\n",
       "div.exercise {\n",
       "\tbackground-color: #ffcccc;\n",
       "\tborder-color: #E9967A; \t\n",
       "\tborder-left: 5px solid #800080; \n",
       "\tpadding: 0.5em;\n",
       "}\n",
       "\n",
       "div.exercise-r {\n",
       "\tbackground-color: #fce8e8;\n",
       "\tborder-color: #E9967A; \t\n",
       "\tborder-left: 5px solid #800080; \n",
       "\tpadding: 0.5em;\n",
       "}\n",
       "\n",
       "\n",
       "span.sub-q {\n",
       "\tfont-weight: bold;\n",
       "}\n",
       "div.theme {\n",
       "\tbackground-color: #DDDDDD;\n",
       "\tborder-color: #E9967A; \t\n",
       "\tborder-left: 5px solid #800080; \n",
       "\tpadding: 0.5em;\n",
       "\tfont-size: 18pt;\n",
       "}\n",
       "div.gc { \n",
       "\tbackground-color: #AEDE94;\n",
       "\tborder-color: #E9967A; \t \n",
       "\tborder-left: 5px solid #800080; \n",
       "\tpadding: 0.5em;\n",
       "\tfont-size: 12pt;\n",
       "}\n",
       "p.q1 { \n",
       "    padding-top: 5px;\n",
       "    padding-bottom: 5px;\n",
       "    text-align: left; \n",
       "    padding-left: 5px;\n",
       "    background-color: #EEEEEE; \n",
       "    color: black;\n",
       "}\n",
       "header {\n",
       "   padding-top: 35px;\n",
       "    padding-bottom: 35px;\n",
       "    text-align: left; \n",
       "    padding-left: 10px;\n",
       "    background-color: #DDDDDD; \n",
       "    color: black;\n",
       "}\n",
       "</style>\n",
       "\n"
      ],
      "text/plain": [
       "<IPython.core.display.HTML object>"
      ]
     },
     "execution_count": 1,
     "metadata": {},
     "output_type": "execute_result"
    }
   ],
   "source": [
    "#RUN THIS CELL \n",
    "import requests\n",
    "from IPython.core.display import HTML, display\n",
    "styles = requests.get(\"https://raw.githubusercontent.com/Harvard-IACS/2018-CS109A/master/content/styles/cs109.css\").text\n",
    "HTML(styles)"
   ]
  },
  {
   "cell_type": "markdown",
   "metadata": {
    "button": false,
    "deletable": false,
    "new_sheet": false,
    "run_control": {
     "read_only": false
    }
   },
   "source": [
    "<hr style=\"height:2pt\">\n",
    "\n",
    "## README\n",
    "\n",
    "### Layout\n",
    "#### Section 1: Look at mapping police data set\n",
    "\n",
    "* Goals\n",
    "    * See the state of the data\n",
    "    * Determine if any cleaning is necessary\n",
    "    * Perform cleaning\n",
    "    * Initial snapshot look for trends\n",
    "    * Identify which predictors might be useful\n",
    "    \n",
    "#### Section 2: Look at Wapo data set\n",
    "\n",
    "* Goals\n",
    "    * See the state of the data\n",
    "    * Determine if any cleaning is necessary\n",
    "    * Perform cleaning\n",
    "    * Initial snapshot look for trends\n",
    "    * Identify which predictors might be useful\n",
    "    \n",
    "#### Section 3: Make some Plots\n",
    "\n",
    "* Goals\n",
    "    * Start to generate plots\n",
    "    * Continue EDA on primarily the Washington Post Dataset\n",
    "    \n",
    "    \n",
    "#### Section 4: Initial look at models\n",
    "\n",
    "* Goals\n",
    "    * Now that the data is understood, take a look at initial models\n",
    "    * Try a few options and review for feasibility and utility\n",
    "    \n",
    "#### Section 5: Extending Models Further\n",
    "\n",
    "* Goals\n",
    "    * Based on initial results of very little correlation with year and race for violent police shooting events, this section will switch gears to attempt to predict other items.  \n",
    "\n",
    "  *Models:*\n",
    " * Logistic Regression baseline\n",
    " * Polynomial Features (3rd order) Regression\n",
    " * Lasso Regularized Model\n",
    " * Random Forest\n",
    " * Neural Net\n",
    " \n",
    "  *Predictions:*\n",
    " 1. Predict race based on all other WaPo predictors. \n",
    " 2. Predict mental illness based on other WaPo predictors.\n",
    " 3. Predict justification of shootings with police violence predictors\n",
    "    \n",
    "#### Section 6: Additional Models and Analysis   \n",
    " * Other Models Attempted:\n",
    "  1. Predict mental illness based on other WaPo predictors.\n",
    "  2. Predict justification of shootings with police violence predictors\n",
    "  3. Adjusted model for mentall illness using different predictors\n",
    "    \n",
    "\n",
    "## Contents\n",
    "- [Section 1: Looking at Mapping Police Violence Dataset](#Section-1:-Looking-at-Mapping-Police-Violence-Dataset) \n",
    "- [Section 2: Now look at Washington Post Data](#Section-2:-Now-look-at-Washington-Post-Data) \n",
    "- [Section 3: Make some Plots!](#Section-3:-Make-some-Plots!)\n",
    "- [Section 4: Initial Look at Models](#Section-4:-Initial-Look-at-Models)\n",
    "- [Section 5: Extending the Models](#Section-5:-Extending-The-Models-Further)\n",
    "- [Section 6: Supporting Models and Other Analysis](#Section-6:-Supporting-Models)\n",
    "<hr style=\"height:2pt\">\n",
    "\n",
    "\n",
    "\n"
   ]
  },
  {
   "cell_type": "code",
   "execution_count": 2,
   "metadata": {
    "button": false,
    "deletable": false,
    "new_sheet": false,
    "run_control": {
     "read_only": false
    }
   },
   "outputs": [],
   "source": [
    "import numpy as np\n",
    "import pandas as pd\n",
    "import matplotlib.pyplot as plt\n",
    "\n",
    "from sklearn.model_selection import cross_val_score\n",
    "from sklearn.utils import resample\n",
    "from sklearn.tree import DecisionTreeClassifier\n",
    "from sklearn.ensemble import RandomForestClassifier\n",
    "from sklearn.ensemble import AdaBoostClassifier\n",
    "from sklearn.metrics import accuracy_score\n",
    "\n",
    "%matplotlib inline\n",
    "\n",
    "import seaborn as sns\n",
    "sns.set(style='whitegrid')\n",
    "pd.set_option('display.width', 1500)\n",
    "pd.set_option('display.max_columns', 100)\n",
    "\n",
    "import censusdata\n",
    "import reverse_geocode\n",
    "\n",
    "import warnings\n",
    "warnings.filterwarnings('ignore')"
   ]
  },
  {
   "cell_type": "markdown",
   "metadata": {},
   "source": [
    "## Information about the datasets\n",
    "\n",
    "#### Washingpost dataset\n",
    "In 2015, The Post began tracking more than a dozen details about each killing — including the race of the deceased, the circumstances of the shooting, whether the person was armed and whether the person was experiencing a mental-health crisis — by culling local news reports, law enforcement websites and social media, and by monitoring independent databases such as Killed by Police and Fatal Encounters. The Post conducted additional reporting in many cases.\n",
    "\n",
    "#### Mapping Police Violence\n",
    "This information has been meticulously sourced from the three largest, most comprehensive and impartial crowdsourced databases on police killings in the country: FatalEncounters.org, the U.S. Police Shootings Database and KilledbyPolice.net. \n",
    "\n",
    "#### Important notes\n",
    "The mapping police violence dataset has more predictors and data entries which could still be of interest for this analysis, but it also has some NaN values and incomplete data. Washington Post sources their data from the mapping police violence and that datasets that mapping police violence also uses, but they cleaned the data more completely making it more useful for many required comparisons in this investigation. Therefore, the best data source to answer the proposed analysis questions is the Washington Post dataset."
   ]
  },
  {
   "cell_type": "code",
   "execution_count": 3,
   "metadata": {
    "button": false,
    "deletable": false,
    "jupyter": {
     "outputs_hidden": false
    },
    "new_sheet": false,
    "run_control": {
     "read_only": false
    }
   },
   "outputs": [
    {
     "name": "stdout",
     "output_type": "stream",
     "text": [
      "8507 mapping police violence samples\n",
      "5716 Washington Post Fatal Police Shootings samples\n",
      "\n",
      "Mapping Columns:\n",
      "Victim's name, Victim's age, Victim's gender, Victim's race, URL of image of victim, Date of Incident (month/day/year), Street Address of Incident, City, State, Zipcode, County, Agency responsible for death, ORI Agency Identifier (if available), Cause of death, A brief description of the circumstances surrounding the death, Official disposition of death (justified or other), Criminal Charges?, Link to news article or photo of official document, Symptoms of mental illness?, Unarmed/Did Not Have an Actual Weapon, Alleged Weapon (Source: WaPo and Review of Cases Not Included in WaPo Database), Alleged Threat Level (Source: WaPo), Fleeing (Source: WaPo), Body Camera (Source: WaPo), WaPo ID (If included in WaPo database), Off-Duty Killing?, Geography (via Trulia methodology based on zipcode population density: http://jedkolko.com/wp-content/uploads/2015/05/full-ZCTA-urban-suburban-rural-classification.xlsx ), MPV ID, Fatal Encounters ID\n",
      "\n",
      "WaPo Fatal Shootings Columns:\n",
      "id, name, date, manner_of_death, armed, age, gender, race, city, state, signs_of_mental_illness, threat_level, flee, body_camera, longitude, latitude, is_geocoding_exact\n"
     ]
    }
   ],
   "source": [
    "# Data dir path from root of project\n",
    "data_dir = \"../../data\"\n",
    "\n",
    "# Load data\n",
    "data_mapping = pd.read_csv(f'{data_dir}/mapping-police-violence-24oct2020.csv')\n",
    "# https://github.com/washingtonpost/data-police-shootings\n",
    "data_wapo = pd.read_csv(f'{data_dir}/fatal-police-shootings-data-wsp.csv')\n",
    "\n",
    "# Population Data\n",
    "population_df = pd.read_csv(f'{data_dir}/nst-est2019-alldata.csv')\n",
    "\n",
    "print(f\"{len(data_mapping)} mapping police violence samples\")\n",
    "print(f\"{len(data_wapo)} Washington Post Fatal Police Shootings samples\")\n",
    "print(\"\\nMapping Columns:\")\n",
    "print(', '.join(data_mapping.columns))\n",
    "print(\"\\nWaPo Fatal Shootings Columns:\")\n",
    "print(', '.join(data_wapo.columns))"
   ]
  },
  {
   "cell_type": "markdown",
   "metadata": {
    "button": false,
    "deletable": false,
    "new_sheet": false,
    "run_control": {
     "read_only": false
    }
   },
   "source": [
    "### <div class='exercise'><b>Section 1: Looking at Mapping Police Violence Dataset</b></div>\n",
    "[▲ Return to contents](#Contents)\n",
    "<div class='exercise'>\n",
    "    \n",
    "\n",
    "    \n",
    "</div>"
   ]
  },
  {
   "cell_type": "code",
   "execution_count": 4,
   "metadata": {
    "deletable": false
   },
   "outputs": [
    {
     "data": {
      "text/html": [
       "<div>\n",
       "<style scoped>\n",
       "    .dataframe tbody tr th:only-of-type {\n",
       "        vertical-align: middle;\n",
       "    }\n",
       "\n",
       "    .dataframe tbody tr th {\n",
       "        vertical-align: top;\n",
       "    }\n",
       "\n",
       "    .dataframe thead th {\n",
       "        text-align: right;\n",
       "    }\n",
       "</style>\n",
       "<table border=\"1\" class=\"dataframe\">\n",
       "  <thead>\n",
       "    <tr style=\"text-align: right;\">\n",
       "      <th></th>\n",
       "      <th>Victim's name</th>\n",
       "      <th>Victim's age</th>\n",
       "      <th>Victim's gender</th>\n",
       "      <th>Victim's race</th>\n",
       "      <th>URL of image of victim</th>\n",
       "      <th>Date of Incident (month/day/year)</th>\n",
       "      <th>Street Address of Incident</th>\n",
       "      <th>City</th>\n",
       "      <th>State</th>\n",
       "      <th>Zipcode</th>\n",
       "      <th>County</th>\n",
       "      <th>Agency responsible for death</th>\n",
       "      <th>ORI Agency Identifier (if available)</th>\n",
       "      <th>Cause of death</th>\n",
       "      <th>A brief description of the circumstances surrounding the death</th>\n",
       "      <th>Official disposition of death (justified or other)</th>\n",
       "      <th>Criminal Charges?</th>\n",
       "      <th>Link to news article or photo of official document</th>\n",
       "      <th>Symptoms of mental illness?</th>\n",
       "      <th>Unarmed/Did Not Have an Actual Weapon</th>\n",
       "      <th>Alleged Weapon (Source: WaPo and Review of Cases Not Included in WaPo Database)</th>\n",
       "      <th>Alleged Threat Level (Source: WaPo)</th>\n",
       "      <th>Fleeing (Source: WaPo)</th>\n",
       "      <th>Body Camera (Source: WaPo)</th>\n",
       "      <th>WaPo ID (If included in WaPo database)</th>\n",
       "      <th>Off-Duty Killing?</th>\n",
       "      <th>Geography (via Trulia methodology based on zipcode population density: http://jedkolko.com/wp-content/uploads/2015/05/full-ZCTA-urban-suburban-rural-classification.xlsx )</th>\n",
       "      <th>MPV ID</th>\n",
       "      <th>Fatal Encounters ID</th>\n",
       "    </tr>\n",
       "  </thead>\n",
       "  <tbody>\n",
       "    <tr>\n",
       "      <th>0</th>\n",
       "      <td>Name withheld by police</td>\n",
       "      <td>NaN</td>\n",
       "      <td>Male</td>\n",
       "      <td>NaN</td>\n",
       "      <td>NaN</td>\n",
       "      <td>10/14/2020</td>\n",
       "      <td>NaN</td>\n",
       "      <td>Cookson</td>\n",
       "      <td>OK</td>\n",
       "      <td>NaN</td>\n",
       "      <td>Cherokee</td>\n",
       "      <td>Cherokee County Sheriff's Department</td>\n",
       "      <td>OK0110000</td>\n",
       "      <td>Gunshot, Taser</td>\n",
       "      <td>A deputy responded to a disturbance called aro...</td>\n",
       "      <td>Pending investigation</td>\n",
       "      <td>No known charges</td>\n",
       "      <td>https://www.newson6.com/story/5f87912629c6bb05...</td>\n",
       "      <td>No</td>\n",
       "      <td>Allegedly Armed</td>\n",
       "      <td>spear</td>\n",
       "      <td>attack</td>\n",
       "      <td>Not fleeing</td>\n",
       "      <td>No</td>\n",
       "      <td>6232.0</td>\n",
       "      <td>NaN</td>\n",
       "      <td>NaN</td>\n",
       "      <td>NaN</td>\n",
       "      <td>NaN</td>\n",
       "    </tr>\n",
       "    <tr>\n",
       "      <th>1</th>\n",
       "      <td>Name withheld by police</td>\n",
       "      <td>NaN</td>\n",
       "      <td>Male</td>\n",
       "      <td>NaN</td>\n",
       "      <td>NaN</td>\n",
       "      <td>10/14/2020</td>\n",
       "      <td>NaN</td>\n",
       "      <td>South Los Angeles</td>\n",
       "      <td>CA</td>\n",
       "      <td>NaN</td>\n",
       "      <td>Los Angeles</td>\n",
       "      <td>Los Angeles Police Department</td>\n",
       "      <td>CA0194200</td>\n",
       "      <td>Gunshot</td>\n",
       "      <td>Around 9:50PM officers were driving by the 76 ...</td>\n",
       "      <td>Pending investigation</td>\n",
       "      <td>No known charges</td>\n",
       "      <td>https://ktla.com/news/local-news/lapd-suspect-...</td>\n",
       "      <td>No</td>\n",
       "      <td>Allegedly Armed</td>\n",
       "      <td>gun</td>\n",
       "      <td>attack</td>\n",
       "      <td>Not fleeing</td>\n",
       "      <td>No</td>\n",
       "      <td>6231.0</td>\n",
       "      <td>NaN</td>\n",
       "      <td>NaN</td>\n",
       "      <td>NaN</td>\n",
       "      <td>NaN</td>\n",
       "    </tr>\n",
       "    <tr>\n",
       "      <th>2</th>\n",
       "      <td>Name withheld by police</td>\n",
       "      <td>NaN</td>\n",
       "      <td>Male</td>\n",
       "      <td>White</td>\n",
       "      <td>NaN</td>\n",
       "      <td>10/14/2020</td>\n",
       "      <td>NaN</td>\n",
       "      <td>Chico</td>\n",
       "      <td>CA</td>\n",
       "      <td>NaN</td>\n",
       "      <td>Butte</td>\n",
       "      <td>Chico Police Department</td>\n",
       "      <td>CA0040200</td>\n",
       "      <td>Gunshot</td>\n",
       "      <td>A man who reportedly brandished a knife and th...</td>\n",
       "      <td>Pending investigation</td>\n",
       "      <td>No known charges</td>\n",
       "      <td>https://www.chicoer.com/2020/10/15/chico-polic...</td>\n",
       "      <td>No</td>\n",
       "      <td>Allegedly Armed</td>\n",
       "      <td>knife</td>\n",
       "      <td>attack</td>\n",
       "      <td>foot</td>\n",
       "      <td>No</td>\n",
       "      <td>6230.0</td>\n",
       "      <td>NaN</td>\n",
       "      <td>NaN</td>\n",
       "      <td>NaN</td>\n",
       "      <td>NaN</td>\n",
       "    </tr>\n",
       "    <tr>\n",
       "      <th>3</th>\n",
       "      <td>Marcos Ramirez</td>\n",
       "      <td>27</td>\n",
       "      <td>Male</td>\n",
       "      <td>Hispanic</td>\n",
       "      <td>NaN</td>\n",
       "      <td>10/13/2020</td>\n",
       "      <td>NaN</td>\n",
       "      <td>Bakersfield</td>\n",
       "      <td>CA</td>\n",
       "      <td>NaN</td>\n",
       "      <td>Kern</td>\n",
       "      <td>Bakersfield Police Department</td>\n",
       "      <td>CA0150200</td>\n",
       "      <td>Gunshot</td>\n",
       "      <td>Bakersfield police shot and killed a man they ...</td>\n",
       "      <td>Pending investigation</td>\n",
       "      <td>No known charges</td>\n",
       "      <td>https://www.turnto23.com/news/crime/bpd-invest...</td>\n",
       "      <td>No</td>\n",
       "      <td>Allegedly Armed</td>\n",
       "      <td>knife</td>\n",
       "      <td>attack</td>\n",
       "      <td>foot</td>\n",
       "      <td>Yes</td>\n",
       "      <td>6228.0</td>\n",
       "      <td>NaN</td>\n",
       "      <td>NaN</td>\n",
       "      <td>NaN</td>\n",
       "      <td>NaN</td>\n",
       "    </tr>\n",
       "    <tr>\n",
       "      <th>4</th>\n",
       "      <td>Anthony Jones</td>\n",
       "      <td>24</td>\n",
       "      <td>Male</td>\n",
       "      <td>NaN</td>\n",
       "      <td>NaN</td>\n",
       "      <td>10/12/2020</td>\n",
       "      <td>NaN</td>\n",
       "      <td>Bethel Springs</td>\n",
       "      <td>TN</td>\n",
       "      <td>NaN</td>\n",
       "      <td>McNairy</td>\n",
       "      <td>NaN</td>\n",
       "      <td>NaN</td>\n",
       "      <td>Gunshot</td>\n",
       "      <td>Jones was shot in McNairy County after police ...</td>\n",
       "      <td>Pending investigation</td>\n",
       "      <td>No known charges</td>\n",
       "      <td>https://www.wkrn.com/news/tennessee-news/tenne...</td>\n",
       "      <td>No</td>\n",
       "      <td>Unarmed/Did Not Have an Actual Weapon</td>\n",
       "      <td>no object</td>\n",
       "      <td>other</td>\n",
       "      <td>car</td>\n",
       "      <td>No</td>\n",
       "      <td>6229.0</td>\n",
       "      <td>NaN</td>\n",
       "      <td>NaN</td>\n",
       "      <td>NaN</td>\n",
       "      <td>NaN</td>\n",
       "    </tr>\n",
       "  </tbody>\n",
       "</table>\n",
       "</div>"
      ],
      "text/plain": [
       "             Victim's name Victim's age Victim's gender Victim's race URL of image of victim Date of Incident (month/day/year) Street Address of Incident               City State  Zipcode       County          Agency responsible for death ORI Agency Identifier (if available)  Cause of death A brief description of the circumstances surrounding the death Official disposition of death (justified or other) Criminal Charges? Link to news article or photo of official document Symptoms of mental illness?  Unarmed/Did Not Have an Actual Weapon Alleged Weapon (Source: WaPo and Review of Cases Not Included in WaPo Database) Alleged Threat Level (Source: WaPo) Fleeing (Source: WaPo) Body Camera (Source: WaPo)  WaPo ID (If included in WaPo database) Off-Duty Killing? Geography (via Trulia methodology based on zipcode population density: http://jedkolko.com/wp-content/uploads/2015/05/full-ZCTA-urban-suburban-rural-classification.xlsx )  MPV ID  Fatal Encounters ID\n",
       "0  Name withheld by police          NaN            Male           NaN                    NaN                        10/14/2020                        NaN            Cookson    OK      NaN     Cherokee  Cherokee County Sheriff's Department                            OK0110000  Gunshot, Taser  A deputy responded to a disturbance called aro...                                          Pending investigation  No known charges  https://www.newson6.com/story/5f87912629c6bb05...                          No                        Allegedly Armed                                              spear                                                           attack            Not fleeing                         No                                  6232.0               NaN                                                NaN                                                                                                                             NaN                  NaN\n",
       "1  Name withheld by police          NaN            Male           NaN                    NaN                        10/14/2020                        NaN  South Los Angeles    CA      NaN  Los Angeles         Los Angeles Police Department                            CA0194200         Gunshot  Around 9:50PM officers were driving by the 76 ...                                          Pending investigation  No known charges  https://ktla.com/news/local-news/lapd-suspect-...                          No                        Allegedly Armed                                                gun                                                           attack            Not fleeing                         No                                  6231.0               NaN                                                NaN                                                                                                                             NaN                  NaN\n",
       "2  Name withheld by police          NaN            Male         White                    NaN                        10/14/2020                        NaN              Chico    CA      NaN        Butte               Chico Police Department                            CA0040200         Gunshot  A man who reportedly brandished a knife and th...                                          Pending investigation  No known charges  https://www.chicoer.com/2020/10/15/chico-polic...                          No                        Allegedly Armed                                              knife                                                           attack                   foot                         No                                  6230.0               NaN                                                NaN                                                                                                                             NaN                  NaN\n",
       "3           Marcos Ramirez           27            Male      Hispanic                    NaN                        10/13/2020                        NaN        Bakersfield    CA      NaN         Kern         Bakersfield Police Department                            CA0150200         Gunshot  Bakersfield police shot and killed a man they ...                                          Pending investigation  No known charges  https://www.turnto23.com/news/crime/bpd-invest...                          No                        Allegedly Armed                                              knife                                                           attack                   foot                        Yes                                  6228.0               NaN                                                NaN                                                                                                                             NaN                  NaN\n",
       "4            Anthony Jones           24            Male           NaN                    NaN                        10/12/2020                        NaN     Bethel Springs    TN      NaN      McNairy                                   NaN                                  NaN         Gunshot  Jones was shot in McNairy County after police ...                                          Pending investigation  No known charges  https://www.wkrn.com/news/tennessee-news/tenne...                          No  Unarmed/Did Not Have an Actual Weapon                                          no object                                                            other                    car                         No                                  6229.0               NaN                                                NaN                                                                                                                             NaN                  NaN"
      ]
     },
     "metadata": {},
     "output_type": "display_data"
    },
    {
     "name": "stdout",
     "output_type": "stream",
     "text": [
      "<class 'pandas.core.frame.DataFrame'>\n",
      "RangeIndex: 8507 entries, 0 to 8506\n",
      "Data columns (total 29 columns):\n",
      " #   Column                                                                                                                                                                      Non-Null Count  Dtype  \n",
      "---  ------                                                                                                                                                                      --------------  -----  \n",
      " 0   Victim's name                                                                                                                                                               8507 non-null   object \n",
      " 1   Victim's age                                                                                                                                                                8492 non-null   object \n",
      " 2   Victim's gender                                                                                                                                                             8494 non-null   object \n",
      " 3   Victim's race                                                                                                                                                               8503 non-null   object \n",
      " 4   URL of image of victim                                                                                                                                                      4568 non-null   object \n",
      " 5   Date of Incident (month/day/year)                                                                                                                                           8507 non-null   object \n",
      " 6   Street Address of Incident                                                                                                                                                  8412 non-null   object \n",
      " 7   City                                                                                                                                                                        8501 non-null   object \n",
      " 8   State                                                                                                                                                                       8507 non-null   object \n",
      " 9   Zipcode                                                                                                                                                                     8465 non-null   float64\n",
      " 10  County                                                                                                                                                                      8493 non-null   object \n",
      " 11  Agency responsible for death                                                                                                                                                8491 non-null   object \n",
      " 12  ORI Agency Identifier (if available)                                                                                                                                        8505 non-null   object \n",
      " 13  Cause of death                                                                                                                                                              8507 non-null   object \n",
      " 14  A brief description of the circumstances surrounding the death                                                                                                              8490 non-null   object \n",
      " 15  Official disposition of death (justified or other)                                                                                                                          8496 non-null   object \n",
      " 16  Criminal Charges?                                                                                                                                                           8507 non-null   object \n",
      " 17  Link to news article or photo of official document                                                                                                                          8496 non-null   object \n",
      " 18  Symptoms of mental illness?                                                                                                                                                 8496 non-null   object \n",
      " 19  Unarmed/Did Not Have an Actual Weapon                                                                                                                                       8507 non-null   object \n",
      " 20  Alleged Weapon (Source: WaPo and Review of Cases Not Included in WaPo Database)                                                                                             8505 non-null   object \n",
      " 21  Alleged Threat Level (Source: WaPo)                                                                                                                                         6056 non-null   object \n",
      " 22  Fleeing (Source: WaPo)                                                                                                                                                      5614 non-null   object \n",
      " 23  Body Camera (Source: WaPo)                                                                                                                                                  5511 non-null   object \n",
      " 24  WaPo ID (If included in WaPo database)                                                                                                                                      5592 non-null   float64\n",
      " 25  Off-Duty Killing?                                                                                                                                                           239 non-null    object \n",
      " 26  Geography (via Trulia methodology based on zipcode population density: http://jedkolko.com/wp-content/uploads/2015/05/full-ZCTA-urban-suburban-rural-classification.xlsx )  8499 non-null   object \n",
      " 27  MPV ID                                                                                                                                                                      8485 non-null   float64\n",
      " 28  Fatal Encounters ID                                                                                                                                                         8417 non-null   float64\n",
      "dtypes: float64(4), object(25)\n",
      "memory usage: 1.9+ MB\n"
     ]
    },
    {
     "data": {
      "text/plain": [
       "None"
      ]
     },
     "metadata": {},
     "output_type": "display_data"
    },
    {
     "data": {
      "text/html": [
       "<div>\n",
       "<style scoped>\n",
       "    .dataframe tbody tr th:only-of-type {\n",
       "        vertical-align: middle;\n",
       "    }\n",
       "\n",
       "    .dataframe tbody tr th {\n",
       "        vertical-align: top;\n",
       "    }\n",
       "\n",
       "    .dataframe thead th {\n",
       "        text-align: right;\n",
       "    }\n",
       "</style>\n",
       "<table border=\"1\" class=\"dataframe\">\n",
       "  <thead>\n",
       "    <tr style=\"text-align: right;\">\n",
       "      <th></th>\n",
       "      <th>Zipcode</th>\n",
       "      <th>WaPo ID (If included in WaPo database)</th>\n",
       "      <th>MPV ID</th>\n",
       "      <th>Fatal Encounters ID</th>\n",
       "    </tr>\n",
       "  </thead>\n",
       "  <tbody>\n",
       "    <tr>\n",
       "      <th>count</th>\n",
       "      <td>8465.000000</td>\n",
       "      <td>5592.000000</td>\n",
       "      <td>8485.000000</td>\n",
       "      <td>8417.000000</td>\n",
       "    </tr>\n",
       "    <tr>\n",
       "      <th>mean</th>\n",
       "      <td>60584.679622</td>\n",
       "      <td>3116.519134</td>\n",
       "      <td>4261.408721</td>\n",
       "      <td>20024.425686</td>\n",
       "    </tr>\n",
       "    <tr>\n",
       "      <th>std</th>\n",
       "      <td>28088.279417</td>\n",
       "      <td>1765.307092</td>\n",
       "      <td>2454.204918</td>\n",
       "      <td>5196.315249</td>\n",
       "    </tr>\n",
       "    <tr>\n",
       "      <th>min</th>\n",
       "      <td>1085.000000</td>\n",
       "      <td>3.000000</td>\n",
       "      <td>1.000000</td>\n",
       "      <td>350.000000</td>\n",
       "    </tr>\n",
       "    <tr>\n",
       "      <th>25%</th>\n",
       "      <td>33525.000000</td>\n",
       "      <td>1591.750000</td>\n",
       "      <td>2139.000000</td>\n",
       "      <td>15550.000000</td>\n",
       "    </tr>\n",
       "    <tr>\n",
       "      <th>50%</th>\n",
       "      <td>67203.000000</td>\n",
       "      <td>3111.500000</td>\n",
       "      <td>4262.000000</td>\n",
       "      <td>18525.000000</td>\n",
       "    </tr>\n",
       "    <tr>\n",
       "      <th>75%</th>\n",
       "      <td>85756.000000</td>\n",
       "      <td>4639.250000</td>\n",
       "      <td>6386.000000</td>\n",
       "      <td>25052.000000</td>\n",
       "    </tr>\n",
       "    <tr>\n",
       "      <th>max</th>\n",
       "      <td>99801.000000</td>\n",
       "      <td>6232.000000</td>\n",
       "      <td>8511.000000</td>\n",
       "      <td>28933.000000</td>\n",
       "    </tr>\n",
       "  </tbody>\n",
       "</table>\n",
       "</div>"
      ],
      "text/plain": [
       "            Zipcode  WaPo ID (If included in WaPo database)       MPV ID  Fatal Encounters ID\n",
       "count   8465.000000                             5592.000000  8485.000000          8417.000000\n",
       "mean   60584.679622                             3116.519134  4261.408721         20024.425686\n",
       "std    28088.279417                             1765.307092  2454.204918          5196.315249\n",
       "min     1085.000000                                3.000000     1.000000           350.000000\n",
       "25%    33525.000000                             1591.750000  2139.000000         15550.000000\n",
       "50%    67203.000000                             3111.500000  4262.000000         18525.000000\n",
       "75%    85756.000000                             4639.250000  6386.000000         25052.000000\n",
       "max    99801.000000                             6232.000000  8511.000000         28933.000000"
      ]
     },
     "metadata": {},
     "output_type": "display_data"
    },
    {
     "name": "stdout",
     "output_type": "stream",
     "text": [
      "Police Mapping Dataset size is: (8507, 29)\n"
     ]
    }
   ],
   "source": [
    "display(data_mapping.head())\n",
    "display(data_mapping.info())\n",
    "display(data_mapping.describe())\n",
    "print(\"Police Mapping Dataset size is:\", data_mapping.shape)\n"
   ]
  },
  {
   "cell_type": "code",
   "execution_count": 5,
   "metadata": {
    "deletable": false
   },
   "outputs": [
    {
     "data": {
      "text/plain": [
       "<seaborn.axisgrid.PairGrid at 0x1a23aa6490>"
      ]
     },
     "execution_count": 5,
     "metadata": {},
     "output_type": "execute_result"
    },
    {
     "data": {
      "image/png": "[encoded data removed]",
      "text/plain": [
       "<Figure size 720x720 with 20 Axes>"
      ]
     },
     "metadata": {},
     "output_type": "display_data"
    }
   ],
   "source": [
    "sns.pairplot(data=data_mapping)\n"
   ]
  },
  {
   "cell_type": "code",
   "execution_count": 6,
   "metadata": {},
   "outputs": [
    {
     "name": "stdout",
     "output_type": "stream",
     "text": [
      "Victim's name :  0\n",
      "Victim's age :  15\n",
      "Victim's gender :  13\n",
      "Victim's race :  4\n",
      "URL of image of victim :  3939\n",
      "Date of Incident (month/day/year) :  0\n",
      "Street Address of Incident :  95\n",
      "City :  6\n",
      "State :  0\n",
      "Zipcode :  42\n",
      "County :  14\n",
      "Agency responsible for death :  16\n",
      "ORI Agency Identifier (if available) :  2\n",
      "Cause of death :  0\n",
      "A brief description of the circumstances surrounding the death :  17\n",
      "Official disposition of death (justified or other) :  11\n",
      "Criminal Charges? :  0\n",
      "Link to news article or photo of official document :  11\n",
      "Symptoms of mental illness? :  11\n",
      "Unarmed/Did Not Have an Actual Weapon :  0\n",
      "Alleged Weapon (Source: WaPo and Review of Cases Not Included in WaPo Database) :  2\n",
      "Alleged Threat Level (Source: WaPo) :  2451\n",
      "Fleeing (Source: WaPo) :  2893\n",
      "Body Camera (Source: WaPo) :  2996\n",
      "WaPo ID (If included in WaPo database) :  2915\n",
      "Off-Duty Killing? :  8268\n",
      "Geography (via Trulia methodology based on zipcode population density: http://jedkolko.com/wp-content/uploads/2015/05/full-ZCTA-urban-suburban-rural-classification.xlsx ) :  8\n",
      "MPV ID :  22\n",
      "Fatal Encounters ID :  90\n"
     ]
    }
   ],
   "source": [
    "# do we have any null values?\n",
    "\n",
    "data_mapping.isnull().values.any()\n",
    "\n",
    "# where are they?\n",
    "\n",
    "for col in data_mapping.columns:\n",
    "    null_count = data_mapping[col].isnull().sum()\n",
    "    print(col, \": \", null_count)"
   ]
  },
  {
   "cell_type": "code",
   "execution_count": 7,
   "metadata": {},
   "outputs": [],
   "source": [
    "# drop some of the columns which have too many N/A or don't really help us\n",
    "\n",
    "# not used and lots of missing\n",
    "df1 = data_mapping.drop('URL of image of victim', axis=1)\n",
    "\n",
    "# almost all NaN\n",
    "df1 = df1.drop('Off-Duty Killing?', axis=1)\n",
    "\n",
    "# not really used\n",
    "df1 = df1.drop(['Street Address of Incident',\n",
    "                'A brief description of the circumstances surrounding the death',\n",
    "                \"Victim's name\",\n",
    "                'Link to news article or photo of official document',\n",
    "                'ORI Agency Identifier (if available)'],\n",
    "                axis=1)\n",
    "\n",
    "# rename a few annoying columns\n",
    "df1.rename(columns={'Geography (via Trulia methodology based on zipcode population density: http://jedkolko.com/wp-content/uploads/2015/05/full-ZCTA-urban-suburban-rural-classification.xlsx )':'geography'}, inplace=True)\n",
    "df1.rename(columns={'Alleged Weapon (Source: WaPo and Review of Cases Not Included in WaPo Database)':'Alleged Weapon'}, inplace=True)\n",
    "\n",
    "# fix a few of the duplicate groupings\n",
    "\n",
    "df1['Symptoms of mental illness?'] = df1['Symptoms of mental illness?'].str.replace('unknown', 'Unknown')\n",
    "df1['Symptoms of mental illness?'] = df1['Symptoms of mental illness?'].str.replace('Unkown', 'Unknown')\n",
    "\n",
    "df1['Alleged Threat Level (Source: WaPo)'] = df1['Alleged Threat Level (Source: WaPo)'].str.replace('Other', 'other')\n",
    "\n",
    "df1['Fleeing (Source: WaPo)'] = df1['Fleeing (Source: WaPo)'].str.replace('other', 'Other')\n",
    "df1['Fleeing (Source: WaPo)'] = df1['Fleeing (Source: WaPo)'].str.replace('not fleeing', 'Not fleeing')\n",
    "df1['Fleeing (Source: WaPo)'] = df1['Fleeing (Source: WaPo)'].str.replace('Not Fleeing', 'Not fleeing')\n",
    "df1['Fleeing (Source: WaPo)'] = df1['Fleeing (Source: WaPo)'].str.replace('foot', 'Foot')\n",
    "df1['Fleeing (Source: WaPo)'] = df1['Fleeing (Source: WaPo)'].str.replace('car', 'Car')\n",
    "\n",
    "df1['Body Camera (Source: WaPo)'] = df1['Body Camera (Source: WaPo)'].str.replace('no', 'No')\n",
    "df1['Body Camera (Source: WaPo)'] = df1['Body Camera (Source: WaPo)'].str.replace('Dashcam video', 'Dashcam Video')\n"
   ]
  },
  {
   "cell_type": "markdown",
   "metadata": {},
   "source": [
    "#### Now see what needs further cleaning"
   ]
  },
  {
   "cell_type": "code",
   "execution_count": 8,
   "metadata": {
    "scrolled": false
   },
   "outputs": [
    {
     "data": {
      "text/plain": [
       "25         279\n",
       "31         275\n",
       "27         268\n",
       "Unknown    268\n",
       "28         266\n",
       "          ... \n",
       "88           1\n",
       "93           1\n",
       "7            1\n",
       "40s          1\n",
       "107          1\n",
       "Name: Victim's age, Length: 88, dtype: int64"
      ]
     },
     "metadata": {},
     "output_type": "display_data"
    },
    {
     "data": {
      "text/plain": [
       "Male           8055\n",
       "Female          425\n",
       "Transgender       9\n",
       "Unknown           4\n",
       "Male              1\n",
       "Name: Victim's gender, dtype: int64"
      ]
     },
     "metadata": {},
     "output_type": "display_data"
    },
    {
     "data": {
      "text/plain": [
       "White               3739\n",
       "Black               2138\n",
       "Hispanic            1467\n",
       "Unknown race         863\n",
       "Asian                131\n",
       "Native American      119\n",
       "Pacific Islander      46\n",
       "Name: Victim's race, dtype: int64"
      ]
     },
     "metadata": {},
     "output_type": "display_data"
    },
    {
     "data": {
      "text/plain": [
       "6/16/2013     10\n",
       "12/26/2017     9\n",
       "2/1/2018       9\n",
       "5/3/2020       9\n",
       "1/28/2019      9\n",
       "              ..\n",
       "12/27/2014     1\n",
       "11/3/2015      1\n",
       "11/12/2015     1\n",
       "7/2/2017       1\n",
       "3/20/2013      1\n",
       "Name: Date of Incident (month/day/year), Length: 2675, dtype: int64"
      ]
     },
     "metadata": {},
     "output_type": "display_data"
    },
    {
     "data": {
      "text/plain": [
       "Los Angeles       121\n",
       "Phoenix           121\n",
       "Houston           109\n",
       "Chicago            84\n",
       "San Antonio        66\n",
       "                 ... \n",
       "Pawleys Island      1\n",
       "Bass River          1\n",
       "Hueytown            1\n",
       "La Plata            1\n",
       "Wenonah             1\n",
       "Name: City, Length: 3102, dtype: int64"
      ]
     },
     "metadata": {},
     "output_type": "display_data"
    },
    {
     "data": {
      "text/plain": [
       "CA    1312\n",
       "TX     785\n",
       "FL     613\n",
       "AZ     376\n",
       "GA     299\n",
       "CO     267\n",
       "WA     245\n",
       "OK     236\n",
       "NC     236\n",
       "OH     229\n",
       "MO     226\n",
       "TN     201\n",
       "IL     190\n",
       "PA     185\n",
       "NY     174\n",
       "LA     167\n",
       "NM     158\n",
       "AL     153\n",
       "NV     144\n",
       "IN     141\n",
       "MD     139\n",
       "KY     137\n",
       "VA     136\n",
       "MI     133\n",
       "SC     133\n",
       "WI     125\n",
       "OR     124\n",
       "AR     117\n",
       "MS     115\n",
       "NJ     113\n",
       "UT      94\n",
       "MN      92\n",
       "KS      80\n",
       "WV      76\n",
       "MA      58\n",
       "ID      53\n",
       "IA      52\n",
       "MT      48\n",
       "AK      47\n",
       "CT      40\n",
       "NE      39\n",
       "HI      39\n",
       "ME      34\n",
       "DC      27\n",
       "SD      26\n",
       "WY      22\n",
       "DE      21\n",
       "NH      18\n",
       "ND      14\n",
       "VT      12\n",
       "RI       6\n",
       "Name: State, dtype: int64"
      ]
     },
     "metadata": {},
     "output_type": "display_data"
    },
    {
     "data": {
      "text/plain": [
       "88001.0    11\n",
       "93307.0    10\n",
       "90044.0    10\n",
       "87121.0    10\n",
       "85009.0    10\n",
       "           ..\n",
       "30428.0     1\n",
       "78942.0     1\n",
       "67132.0     1\n",
       "85085.0     1\n",
       "37888.0     1\n",
       "Name: Zipcode, Length: 5329, dtype: int64"
      ]
     },
     "metadata": {},
     "output_type": "display_data"
    },
    {
     "data": {
      "text/plain": [
       "Los Angeles      361\n",
       "Maricopa         231\n",
       "Harris           136\n",
       "Jefferson        124\n",
       "Orange           123\n",
       "                ... \n",
       "Philadephia        1\n",
       "Isle of Wight      1\n",
       "Geauga             1\n",
       "Deaf Smith         1\n",
       "Woodford           1\n",
       "Name: County, Length: 1152, dtype: int64"
      ]
     },
     "metadata": {},
     "output_type": "display_data"
    },
    {
     "data": {
      "text/plain": [
       "Los Angeles Police Department                                   132\n",
       "Phoenix Police Department                                       116\n",
       "Los Angeles County Sheriff's Department                         101\n",
       "Chicago Police Department                                        81\n",
       "New York Police Department                                       79\n",
       "                                                               ... \n",
       "Illinois Department of Natural Resources Conservation Police      1\n",
       "Green Township Police Department, Cheviot Police Department       1\n",
       "Union Township Police Department                                  1\n",
       "Simpson County Sheriff's Office                                   1\n",
       "Wapato Police Department                                          1\n",
       "Name: Agency responsible for death, Length: 3091, dtype: int64"
      ]
     },
     "metadata": {},
     "output_type": "display_data"
    },
    {
     "data": {
      "text/plain": [
       "Gunshot                                    7833\n",
       "Gunshot, Taser                              253\n",
       "Taser                                       247\n",
       "Vehicle                                      44\n",
       "Beaten                                       31\n",
       "Physical Restraint                           25\n",
       "Tasered                                      18\n",
       "Physical restraint                            9\n",
       "Asphyxiated                                   9\n",
       "Gunshot, Police Dog                           5\n",
       "Other                                         5\n",
       "Pepper Spray                                  4\n",
       "Gunshot, Pepper Spray                         4\n",
       "Taser, Physical Restraint                     2\n",
       "Bean bag                                      2\n",
       "Gunshot, Stabbed                              1\n",
       "Taser, Pepper spray, beaten                   1\n",
       "Gunshot, Beanbag Gun                          1\n",
       "Baton, Pepper Spray, Physical Restraint       1\n",
       "Gunshot, Unspecified Less Lethal Weapon       1\n",
       "Gunshot, Bean Bag Gun                         1\n",
       "Gunshot, Vehicle                              1\n",
       "Chemical agent/Pepper spray                   1\n",
       "Taser, Beaten                                 1\n",
       "Beaten/Bludgeoned with instrument             1\n",
       "Gunshot, Taser, Beanbag Shotgun               1\n",
       "Bomb                                          1\n",
       "Taser, Baton                                  1\n",
       "Taser, Pepper Spray, Beaten                   1\n",
       "Gunshot, Taser, Baton                         1\n",
       "Gunshot, Taser, Pepper spray                  1\n",
       "Name: Cause of death, dtype: int64"
      ]
     },
     "metadata": {},
     "output_type": "display_data"
    },
    {
     "data": {
      "text/plain": [
       "Pending investigation/No Known Charges                                    4862\n",
       "Unreported                                                                1225\n",
       "Justified                                                                  651\n",
       "Pending investigation                                                      446\n",
       "Justified by District Attorney                                             350\n",
       "                                                                          ... \n",
       "Unjustified, Officer fired                                                   1\n",
       "Charged with manslaughter and reckless discharge of firearm                  1\n",
       "Charged, Convicted of reckless homicide, sentenced to 1 year in prison       1\n",
       "Justified by County Prosecuting Attorney                                     1\n",
       "Charged with manslaughter, acquitted                                         1\n",
       "Name: Official disposition of death (justified or other), Length: 145, dtype: int64"
      ]
     },
     "metadata": {},
     "output_type": "display_data"
    },
    {
     "data": {
      "text/plain": [
       "No known charges                                                                 8361\n",
       "Charged with a crime                                                               69\n",
       "Charged, Acquitted                                                                 29\n",
       "Charged, Mistrial                                                                   6\n",
       "Charged, Charges Dropped                                                            5\n",
       "Charged, Convicted                                                                  4\n",
       "Charged, Convicted, Sentenced to 5 years probation.                                 2\n",
       "Charged, Convicted, Sentenced to life in prison                                     2\n",
       "Charged, Convicted, Sentenced to 30 years in prison                                 2\n",
       "Charged, Convicted, Sentenced to 12 years in prison and 8 years in probation        1\n",
       "Charged, Convicted, Sentenced to 14 years in prison                                 1\n",
       "Charged, Convicted, Sentenced to 20 years in prison                                 1\n",
       "Charged, Convicted, Sentenced to 1 year in jail, 3 years suspended                  1\n",
       "Charged with a crime, Acquitted                                                     1\n",
       "Charged, Convicted, Sentenced to 40 years to Life in prison                         1\n",
       "Charged, Convicted, Sentenced to 10 years in prison                                 1\n",
       "Charged, Convicted, Sentenced to 18 months                                          1\n",
       "Charged, Convicted, Sentenced to 16 years in prison                                 1\n",
       "Charged, Convicted, Sentenced to life in prison without parole, plus 16 years       1\n",
       "Charged, Convicted, Sentenced to 6 years                                            1\n",
       "Charged, Convicted, Sentenced to 25 years in prison                                 1\n",
       "Charged, Convicted, Sentenced to Life in Prison                                     1\n",
       "Charged, Plead No Contest, Sentenced to 10 years probation                          1\n",
       "Charged, Mistrial, Plead Guilty to Civil Rights Charges                             1\n",
       "Charged, Convicted, Sentenced to 40 years in prison                                 1\n",
       "Charged, Convicted, Sentenced to 1 year in prison                                   1\n",
       "Charged, Convicted, Sentenced to 6 years in prison                                  1\n",
       "Charged, Convicted, Sentenced to 50 years                                           1\n",
       "Charged, Convicted of reckless homicide, sentenced to 1 year in prison              1\n",
       "Charged, Convicted, Sentenced to 3 months in jail                                   1\n",
       "Charged, Convicted, Sentenced to 5 years in prison                                  1\n",
       "Charged, Convicted, Sentenced to 7 years in prison                                  1\n",
       "Charged, Convicted, Sentenced to 4 years                                            1\n",
       "Charged, Convicted, Sentenced to 1 year in prison and 4 years probation             1\n",
       "Charged, Convicted, Sentenced to 2.5 years in prison                                1\n",
       "Charged, Convicted, Sentenced to 3 years probation                                  1\n",
       "Name: Criminal Charges?, dtype: int64"
      ]
     },
     "metadata": {},
     "output_type": "display_data"
    },
    {
     "data": {
      "text/plain": [
       "No                     5415\n",
       "Yes                    1598\n",
       "Unknown                1164\n",
       "Drug or alcohol use     318\n",
       "Unknown                   1\n",
       "Name: Symptoms of mental illness?, dtype: int64"
      ]
     },
     "metadata": {},
     "output_type": "display_data"
    },
    {
     "data": {
      "text/plain": [
       "Allegedly Armed                          6084\n",
       "Unarmed/Did Not Have an Actual Weapon    1164\n",
       "Unclear                                   697\n",
       "Vehicle                                   562\n",
       "Name: Unarmed/Did Not Have an Actual Weapon, dtype: int64"
      ]
     },
     "metadata": {},
     "output_type": "display_data"
    },
    {
     "data": {
      "text/plain": [
       "gun                    4432\n",
       "knife                  1129\n",
       "no object               888\n",
       "undetermined            532\n",
       "vehicle                 499\n",
       "                       ... \n",
       "Stapler                   1\n",
       "metal post                1\n",
       "wasp spray                1\n",
       "broken glass bottle       1\n",
       "knife and scissors        1\n",
       "Name: Alleged Weapon, Length: 170, dtype: int64"
      ]
     },
     "metadata": {},
     "output_type": "display_data"
    },
    {
     "data": {
      "text/plain": [
       "attack          3922\n",
       "other           1803\n",
       "undetermined     331\n",
       "Name: Alleged Threat Level (Source: WaPo), dtype: int64"
      ]
     },
     "metadata": {},
     "output_type": "display_data"
    },
    {
     "data": {
      "text/plain": [
       "Not fleeing    3770\n",
       "Car             937\n",
       "Foot            732\n",
       "Other           175\n",
       "Name: Fleeing (Source: WaPo), dtype: int64"
      ]
     },
     "metadata": {},
     "output_type": "display_data"
    },
    {
     "data": {
      "text/plain": [
       "No                    4905\n",
       "Yes                    592\n",
       "Surveillance Video       5\n",
       "Bystander Video          4\n",
       "Dashcam Video            3\n",
       "Surveillance video       2\n",
       "Name: Body Camera (Source: WaPo), dtype: int64"
      ]
     },
     "metadata": {},
     "output_type": "display_data"
    },
    {
     "data": {
      "text/plain": [
       "3232.0    2\n",
       "3784.0    2\n",
       "6117.0    2\n",
       "3516.0    2\n",
       "4731.0    1\n",
       "         ..\n",
       "6020.0    1\n",
       "4650.0    1\n",
       "3766.0    1\n",
       "3226.0    1\n",
       "6144.0    1\n",
       "Name: WaPo ID (If included in WaPo database), Length: 5588, dtype: int64"
      ]
     },
     "metadata": {},
     "output_type": "display_data"
    },
    {
     "data": {
      "text/plain": [
       "Suburban        4240\n",
       "Urban           2287\n",
       "Rural           1899\n",
       "Undetermined      73\n",
       "Name: geography, dtype: int64"
      ]
     },
     "metadata": {},
     "output_type": "display_data"
    },
    {
     "data": {
      "text/plain": [
       "5972.0    2\n",
       "4603.0    1\n",
       "4629.0    1\n",
       "497.0     1\n",
       "590.0     1\n",
       "         ..\n",
       "2906.0    1\n",
       "2268.0    1\n",
       "2129.0    1\n",
       "1794.0    1\n",
       "8448.0    1\n",
       "Name: MPV ID, Length: 8484, dtype: int64"
      ]
     },
     "metadata": {},
     "output_type": "display_data"
    },
    {
     "data": {
      "text/plain": [
       "28926.0    2\n",
       "24323.0    2\n",
       "28921.0    2\n",
       "28920.0    2\n",
       "20232.0    1\n",
       "          ..\n",
       "25960.0    1\n",
       "14498.0    1\n",
       "17377.0    1\n",
       "14854.0    1\n",
       "28160.0    1\n",
       "Name: Fatal Encounters ID, Length: 8413, dtype: int64"
      ]
     },
     "metadata": {},
     "output_type": "display_data"
    }
   ],
   "source": [
    "for col in df1.columns:\n",
    "    display(df1[col].value_counts())"
   ]
  },
  {
   "cell_type": "markdown",
   "metadata": {},
   "source": [
    "#### Taking a look at the victim's race"
   ]
  },
  {
   "cell_type": "code",
   "execution_count": 9,
   "metadata": {
    "autograde": "1.2",
    "button": false,
    "deletable": false,
    "new_sheet": false,
    "run_control": {
     "read_only": false
    }
   },
   "outputs": [
    {
     "data": {
      "text/plain": [
       "White               3739\n",
       "Black               2138\n",
       "Hispanic            1467\n",
       "Unknown race         863\n",
       "Asian                131\n",
       "Native American      119\n",
       "Pacific Islander      46\n",
       "Name: Victim's race, dtype: int64"
      ]
     },
     "execution_count": 9,
     "metadata": {},
     "output_type": "execute_result"
    }
   ],
   "source": [
    "data_mapping[\"Victim's race\"].value_counts()"
   ]
  },
  {
   "cell_type": "markdown",
   "metadata": {},
   "source": [
    "#### Where are most of the events taking place?\n"
   ]
  },
  {
   "cell_type": "code",
   "execution_count": 10,
   "metadata": {},
   "outputs": [
    {
     "data": {
      "text/plain": [
       "CA    1312\n",
       "TX     785\n",
       "FL     613\n",
       "AZ     376\n",
       "GA     299\n",
       "CO     267\n",
       "WA     245\n",
       "OK     236\n",
       "NC     236\n",
       "OH     229\n",
       "MO     226\n",
       "TN     201\n",
       "IL     190\n",
       "PA     185\n",
       "NY     174\n",
       "LA     167\n",
       "NM     158\n",
       "AL     153\n",
       "NV     144\n",
       "IN     141\n",
       "MD     139\n",
       "KY     137\n",
       "VA     136\n",
       "MI     133\n",
       "SC     133\n",
       "WI     125\n",
       "OR     124\n",
       "AR     117\n",
       "MS     115\n",
       "NJ     113\n",
       "UT      94\n",
       "MN      92\n",
       "KS      80\n",
       "WV      76\n",
       "MA      58\n",
       "ID      53\n",
       "IA      52\n",
       "MT      48\n",
       "AK      47\n",
       "CT      40\n",
       "NE      39\n",
       "HI      39\n",
       "ME      34\n",
       "DC      27\n",
       "SD      26\n",
       "WY      22\n",
       "DE      21\n",
       "NH      18\n",
       "ND      14\n",
       "VT      12\n",
       "RI       6\n",
       "Name: State, dtype: int64"
      ]
     },
     "metadata": {},
     "output_type": "display_data"
    },
    {
     "data": {
      "text/plain": [
       "Los Angeles       121\n",
       "Phoenix           121\n",
       "Houston           109\n",
       "Chicago            84\n",
       "San Antonio        66\n",
       "                 ... \n",
       "Pawleys Island      1\n",
       "Bass River          1\n",
       "Hueytown            1\n",
       "La Plata            1\n",
       "Wenonah             1\n",
       "Name: City, Length: 3102, dtype: int64"
      ]
     },
     "metadata": {},
     "output_type": "display_data"
    }
   ],
   "source": [
    "display(df1[\"State\"].value_counts())\n",
    "display(df1[\"City\"].value_counts())"
   ]
  },
  {
   "cell_type": "code",
   "execution_count": 11,
   "metadata": {},
   "outputs": [
    {
     "data": {
      "text/plain": [
       "Gunshot                        8103\n",
       "Taser                           271\n",
       "Vehicle                          44\n",
       "Physical Restraint               34\n",
       "Beaten                           33\n",
       "Asphyxiated                       9\n",
       "Other                             5\n",
       "Pepper Spray                      4\n",
       "Bean bag                          2\n",
       "Bomb                              1\n",
       "Chemical agent/Pepper spray       1\n",
       "Name: Cause of death, dtype: int64"
      ]
     },
     "execution_count": 11,
     "metadata": {},
     "output_type": "execute_result"
    }
   ],
   "source": [
    "# your code here \n",
    "\n",
    "\n",
    "\n",
    "df1['Cause of death'] = df1['Cause of death'].str.replace('Tasered', 'Taser')\n",
    "df1['Cause of death'] = df1['Cause of death'].str.replace('Taser, Beaten', 'Taser')\n",
    "df1['Cause of death'] = df1['Cause of death'].str.replace('Taser, Baton', 'Taser')\n",
    "df1['Cause of death'] = df1['Cause of death'].str.replace('Taser, Physical Restraint', 'Taser')\n",
    "df1['Cause of death'] = df1['Cause of death'].str.replace('Taser, Pepper Spray, Beaten', 'Taser')\n",
    "df1['Cause of death'] = df1['Cause of death'].str.replace('Taser, Pepper spray, beaten', 'Taser')\n",
    "\n",
    "df1['Cause of death'] = df1['Cause of death'].str.replace('Gunshot, Police Dog', 'Gunshot')\n",
    "df1['Cause of death'] = df1['Cause of death'].str.replace('Gunshot, Taser', 'Gunshot')\n",
    "df1['Cause of death'] = df1['Cause of death'].str.replace('Gunshot, Pepper Spray', 'Gunshot')\n",
    "df1['Cause of death'] = df1['Cause of death'].str.replace('Gunshot, Pepper spray', 'Gunshot')\n",
    "df1['Cause of death'] = df1['Cause of death'].str.replace('Gunshot, Pepper Spray', 'Gunshot')\n",
    "df1['Cause of death'] = df1['Cause of death'].str.replace('Gunshot, Bean Bag Gun', 'Gunshot')\n",
    "df1['Cause of death'] = df1['Cause of death'].str.replace('Gunshot, Beanbag Gun', 'Gunshot')\n",
    "df1['Cause of death'] = df1['Cause of death'].str.replace('Gunshot, Beanbag Shotgun', 'Gunshot')\n",
    "df1['Cause of death'] = df1['Cause of death'].str.replace('Gunshot, Stabbed', 'Gunshot')\n",
    "df1['Cause of death'] = df1['Cause of death'].str.replace('Gunshot, Unspecified Less Lethal Weapon', 'Gunshot')\n",
    "df1['Cause of death'] = df1['Cause of death'].str.replace('Gunshot, Vehicle', 'Gunshot')\n",
    "\n",
    "df1['Cause of death'] = df1['Cause of death'].str.replace('Physical restraint', 'Physical Restraint')\n",
    "df1['Cause of death'] = df1['Cause of death'].str.replace('Baton, Pepper Spray, Physical Restraint', 'Beaten')\n",
    "df1['Cause of death'] = df1['Cause of death'].str.replace('Beaten/Bludgeoned with instrument', 'Beaten')\n",
    "df1['Cause of death'] = df1['Cause of death'].str.replace('Chemical agent/Pepper spray ', 'Pepper Spray')\n",
    "\n",
    "\n",
    "\n",
    "df1['Cause of death'].value_counts()\n"
   ]
  },
  {
   "cell_type": "code",
   "execution_count": 12,
   "metadata": {},
   "outputs": [
    {
     "data": {
      "text/plain": [
       "No known charges        8361\n",
       "Charged with a crime      69\n",
       "Charged, Acquitted        35\n",
       "Charged, Convicted        35\n",
       "Charged, Mistrial          7\n",
       "Name: Criminal Charges?, dtype: int64"
      ]
     },
     "metadata": {},
     "output_type": "display_data"
    }
   ],
   "source": [
    "\n",
    "df1[\"Criminal Charges?\"] = df1[\"Criminal Charges?\"].str.replace('Charged, Convicted, Sentenced to 5 years probation.', 'Charged, Convicted')\n",
    "df1[\"Criminal Charges?\"] = df1[\"Criminal Charges?\"].str.replace('Charged, Convicted, Sentenced to 30 years in prison', 'Charged, Convicted')\n",
    "df1[\"Criminal Charges?\"] = df1[\"Criminal Charges?\"].str.replace('Charged, Convicted, Sentenced to life in prison', 'Charged, Convicted')\n",
    "df1[\"Criminal Charges?\"] = df1[\"Criminal Charges?\"].str.replace('Charged, Convicted, Sentenced to 1 year in prison and 4 years probation', 'Charged, Convicted')\n",
    "df1[\"Criminal Charges?\"] = df1[\"Criminal Charges?\"].str.replace('Charged, Convicted, Sentenced to 40 years in prison', 'Charged, Convicted')\n",
    "df1[\"Criminal Charges?\"] = df1[\"Criminal Charges?\"].str.replace('Charged, Convicted, Sentenced to 16 years in prison', 'Charged, Convicted')\n",
    "df1[\"Criminal Charges?\"] = df1[\"Criminal Charges?\"].str.replace('Charged, Convicted, Sentenced to 5 years in prison', 'Charged, Convicted')\n",
    "df1[\"Criminal Charges?\"] = df1[\"Criminal Charges?\"].str.replace('Charged, Convicted, Sentenced to 6 years', 'Charged, Convicted')\n",
    "df1[\"Criminal Charges?\"] = df1[\"Criminal Charges?\"].str.replace('Charged, Convicted, Sentenced to 1 year in jail, 3 years suspended', 'Charged, Convicted')\n",
    "df1[\"Criminal Charges?\"] = df1[\"Criminal Charges?\"].str.replace('Charged, Convicted without parole, plus 16 years', 'Charged, Convicted')\n",
    "df1[\"Criminal Charges?\"] = df1[\"Criminal Charges?\"].str.replace('Charged, Convicted, Sentenced to 14 years in prison', 'Charged, Convicted')\n",
    "df1[\"Criminal Charges?\"] = df1[\"Criminal Charges?\"].str.replace('Charged, Convicted, Sentenced to 7 years in prison', 'Charged, Convicted')\n",
    "df1[\"Criminal Charges?\"] = df1[\"Criminal Charges?\"].str.replace('Charged, Convicted, Sentenced to 12 years in prison and 8 years in probation', 'Charged, Convicted')\n",
    "df1[\"Criminal Charges?\"] = df1[\"Criminal Charges?\"].str.replace('Charged, Convicted, Sentenced to 20 years in prison', 'Charged, Convicted')\n",
    "df1[\"Criminal Charges?\"] = df1[\"Criminal Charges?\"].str.replace('Charged, Convicted, Sentenced to 2.5 years in prison', 'Charged, Convicted')\n",
    "df1[\"Criminal Charges?\"] = df1[\"Criminal Charges?\"].str.replace('Charged, Convicted, Sentenced to 3 years probation', 'Charged, Convicted')\n",
    "df1[\"Criminal Charges?\"] = df1[\"Criminal Charges?\"].str.replace('Charged, Convicted, Sentenced to 25 years in prison', 'Charged, Convicted')\n",
    "df1[\"Criminal Charges?\"] = df1[\"Criminal Charges?\"].str.replace('Charged, Convicted, Sentenced to 50 years', 'Charged, Convicted')\n",
    "df1[\"Criminal Charges?\"] = df1[\"Criminal Charges?\"].str.replace('Charged, Convicted, Sentenced to 4 years', 'Charged, Convicted')\n",
    "df1[\"Criminal Charges?\"] = df1[\"Criminal Charges?\"].str.replace('Charged, Convicted of reckless homicide, sentenced to 1 year in prison', 'Charged, Convicted')\n",
    "df1[\"Criminal Charges?\"] = df1[\"Criminal Charges?\"].str.replace('Charged, Convicted, Sentenced to 3 months in jail ', 'Charged, Convicted')\n",
    "df1[\"Criminal Charges?\"] = df1[\"Criminal Charges?\"].str.replace('Charged, Convicted, Sentenced to 1 year in prison', 'Charged, Convicted')\n",
    "df1[\"Criminal Charges?\"] = df1[\"Criminal Charges?\"].str.replace('Charged, Convicted, Sentenced to 10 years in prison', 'Charged, Convicted')\n",
    "df1[\"Criminal Charges?\"] = df1[\"Criminal Charges?\"].str.replace('Charged, Convicted, Sentenced to 40 years to Life in prison', 'Charged, Convicted')\n",
    "df1[\"Criminal Charges?\"] = df1[\"Criminal Charges?\"].str.replace('Charged, Convicted ', 'Charged, Convicted')\n",
    "df1[\"Criminal Charges?\"] = df1[\"Criminal Charges?\"].str.replace('Charged, Convicted, Sentenced to Life in Prison', 'Charged, Convicted')\n",
    "df1[\"Criminal Charges?\"] = df1[\"Criminal Charges?\"].str.replace('Charged, Convicted, Sentenced to 3 months in jail', 'Charged, Convicted')\n",
    "df1[\"Criminal Charges?\"] = df1[\"Criminal Charges?\"].str.replace('Charged, Plead No Contest, Sentenced to 10 years probation', 'Charged, Convicted')\n",
    "df1[\"Criminal Charges?\"] = df1[\"Criminal Charges?\"].str.replace('Charged, Convicted, Sentenced to 18 months', 'Charged, Convicted')\n",
    "df1[\"Criminal Charges?\"] = df1[\"Criminal Charges?\"].str.replace('Charged, Convictedin prison', 'Charged, Convicted')\n",
    "\n",
    "df1[\"Criminal Charges?\"] = df1[\"Criminal Charges?\"].str.replace('Charged, Charges Dropped', 'Charged, Acquitted')\n",
    "df1[\"Criminal Charges?\"] = df1[\"Criminal Charges?\"].str.replace('Charged with a crime, Acquitted', 'Charged, Acquitted')\n",
    "df1[\"Criminal Charges?\"] = df1[\"Criminal Charges?\"].str.replace('Charged, Mistrial, Plead Guilty to Civil Rights Charges', 'Charged, Mistrial')\n",
    "\n",
    "\n",
    "display(df1[\"Criminal Charges?\"].value_counts())"
   ]
  },
  {
   "cell_type": "code",
   "execution_count": 13,
   "metadata": {},
   "outputs": [
    {
     "data": {
      "text/plain": [
       "No                     5415\n",
       "Yes                    1598\n",
       "Unknown                1165\n",
       "Drug or alcohol use     318\n",
       "Name: Symptoms of mental illness?, dtype: int64"
      ]
     },
     "metadata": {},
     "output_type": "display_data"
    }
   ],
   "source": [
    "df1[\"Symptoms of mental illness?\"] = df1[\"Symptoms of mental illness?\"].str.replace('Unknown ', 'Unknown')\n",
    "df1[\"Symptoms of mental illness?\"] = df1[\"Symptoms of mental illness?\"].str.replace('nan', 'Unknown')\n",
    "display(df1[\"Symptoms of mental illness?\"].value_counts())"
   ]
  },
  {
   "cell_type": "code",
   "execution_count": 14,
   "metadata": {},
   "outputs": [
    {
     "data": {
      "text/plain": [
       "Allegedly Armed                          6084\n",
       "Unarmed/Did Not Have an Actual Weapon    1164\n",
       "Unclear                                   697\n",
       "Vehicle                                   562\n",
       "Name: Unarmed/Did Not Have an Actual Weapon, dtype: int64"
      ]
     },
     "metadata": {},
     "output_type": "display_data"
    }
   ],
   "source": [
    "display(df1[\"Unarmed/Did Not Have an Actual Weapon\"].value_counts())"
   ]
  },
  {
   "cell_type": "code",
   "execution_count": 15,
   "metadata": {},
   "outputs": [
    {
     "data": {
      "text/plain": [
       "Not fleeing    3770\n",
       "Car             937\n",
       "Foot            732\n",
       "Other           175\n",
       "Name: Fleeing (Source: WaPo), dtype: int64"
      ]
     },
     "metadata": {},
     "output_type": "display_data"
    }
   ],
   "source": [
    "display(df1[\"Fleeing (Source: WaPo)\"].value_counts())"
   ]
  },
  {
   "cell_type": "code",
   "execution_count": 16,
   "metadata": {},
   "outputs": [
    {
     "data": {
      "text/plain": [
       "No                    4905\n",
       "Yes                    592\n",
       "Surveillance Video       7\n",
       "Bystander Video          4\n",
       "Dashcam Video            3\n",
       "Name: Body Camera (Source: WaPo), dtype: int64"
      ]
     },
     "metadata": {},
     "output_type": "display_data"
    }
   ],
   "source": [
    "df1[\"Body Camera (Source: WaPo)\"] = df1[\"Body Camera (Source: WaPo)\"].str.replace('Surveillance video', 'Surveillance Video')\n",
    "df1[\"Body Camera (Source: WaPo)\"] = df1[\"Body Camera (Source: WaPo)\"].str.replace('nan', 'Unknown')\n",
    "\n",
    "display(df1[\"Body Camera (Source: WaPo)\"].value_counts())"
   ]
  },
  {
   "cell_type": "code",
   "execution_count": 17,
   "metadata": {},
   "outputs": [
    {
     "data": {
      "text/plain": [
       "Pending investigation/Pending investigation/No Known Charges                          4865\n",
       "Justified                                                                             1451\n",
       "Unreported                                                                            1225\n",
       "Pending investigation/No Known Charges                                                 460\n",
       "Unknown                                                                                254\n",
       "Charged, Convicted                                                                     151\n",
       "Charged, Acquitted                                                                      56\n",
       "Other justified (Civilian board/Coroner/Medical examiner)                               14\n",
       "Charged                                                                                  9\n",
       "Pending investigation/Pending investigation/Pending investigation/No Known Charges       4\n",
       "Other justified (Civilian board/Prosecutor/District Attorney/Coroner)                    3\n",
       "No Known Charges                                                                         2\n",
       "Charged with felony murder                                                               1\n",
       "Pending investigation/Pending investigation/No Known Charges                             1\n",
       "Name: Official disposition of death (justified or other), dtype: int64"
      ]
     },
     "metadata": {},
     "output_type": "display_data"
    }
   ],
   "source": [
    "\n",
    "df1['Official disposition of death (justified or other)'] = df1['Official disposition of death (justified or other)'].str.replace('Charged with murder, aquitted', 'Charged, Aquitted')\n",
    "df1['Official disposition of death (justified or other)'] = df1['Official disposition of death (justified or other)'].str.replace('Charged, Convicted, Sentenced to 18 months', 'Charged, Convicted')\n",
    "df1['Official disposition of death (justified or other)'] = df1['Official disposition of death (justified or other)'].str.replace('Charged with criminally negligent homicide, Acquitted', 'Charged, Aquitted')\n",
    "df1['Official disposition of death (justified or other)'] = df1['Official disposition of death (justified or other)'].str.replace('Justified by District Attorney/Civil suit/Pending', 'Justified')\n",
    "df1['Official disposition of death (justified or other)'] = df1['Official disposition of death (justified or other)'].str.replace(\"Justified by County Commonwealth's Attorney\", 'Justified')\n",
    "df1['Official disposition of death (justified or other)'] = df1['Official disposition of death (justified or other)'].str.replace(\"Justified by District Attorney\", 'Justified')\n",
    "df1['Official disposition of death (justified or other)'] = df1['Official disposition of death (justified or other)'].str.replace('Charged with manslaughter, Charges Tossed under Stand Your Ground law', 'Charged, Aquitted')\n",
    "df1['Official disposition of death (justified or other)'] = df1['Official disposition of death (justified or other)'].str.replace('Charged with murder and aggravated assault', 'Charged, Aquitted')\n",
    "df1['Official disposition of death (justified or other)'] = df1['Official disposition of death (justified or other)'].str.replace('Charged, charges dismissed', 'Charged, Aquitted')\n",
    "df1['Official disposition of death (justified or other)'] = df1['Official disposition of death (justified or other)'].str.replace('Charged, Convicted of murder, Sentenced to 30 years in prison', 'Charged, Convicted')\n",
    "df1['Official disposition of death (justified or other)'] = df1['Official disposition of death (justified or other)'].str.replace(\"Pending investigation/No Known Charges; Minnesota Bureau of Criminal Apprehension, Minnesota State Patrol, Anoka County Sheriff's Office, Fridley Police Department, Lino Lakes Police Department\", 'Pending investigation/No Known Charges')\n",
    "df1['Official disposition of death (justified or other)'] = df1['Official disposition of death (justified or other)'].str.replace('Pending investigation', 'Pending investigation/No Known Charges')\n",
    "df1['Official disposition of death (justified or other)'] = df1['Official disposition of death (justified or other)'].str.replace('Charged, Convicted of murder', 'Charged, Convicted')\n",
    "df1['Official disposition of death (justified or other)'] = df1['Official disposition of death (justified or other)'].str.replace('Charged, Convicted of involuntary manslaugher, Sentenced to 1 year in jail, 3 years suspended', 'Charged, Convicted')\n",
    "df1['Official disposition of death (justified or other)'] = df1['Official disposition of death (justified or other)'].str.replace('Charged with murder and involuntary manslaughter, Convicted, Sentenced to Life in Prison', 'Charged, Convicted')\n",
    "df1['Official disposition of death (justified or other)'] = df1['Official disposition of death (justified or other)'].str.replace('Justified by County Prosecuting Attorney', 'Justified')\n",
    "df1['Official disposition of death (justified or other)'] = df1['Official disposition of death (justified or other)'].str.replace('Charged, convicted of manslaughter', 'Charged, Convicted')\n",
    "df1['Official disposition of death (justified or other)'] = df1['Official disposition of death (justified or other)'].str.replace('Charged, Convicted, Sentenced to 5 years in prison', 'Charged, Convicted')\n",
    "df1['Official disposition of death (justified or other)'] = df1['Official disposition of death (justified or other)'].str.replace('Charged, Convicted, Sentenced to five years probation.', 'Charged, Convicted')\n",
    "df1['Official disposition of death (justified or other)'] = df1['Official disposition of death (justified or other)'].str.replace('Charged with murder, Convicted of manslaughter, Sentenced to 14 years in prison', 'Charged, Convicted')\n",
    "df1['Official disposition of death (justified or other)'] = df1['Official disposition of death (justified or other)'].str.replace('Charged with negligent homicide', 'Charged, Convicted')\n",
    "df1['Official disposition of death (justified or other)'] = df1['Official disposition of death (justified or other)'].str.replace('Justified/Civil Suit/Family awarded money', 'Justified')\n",
    "df1['Official disposition of death (justified or other)'] = df1['Official disposition of death (justified or other)'].str.replace(\"Justified; New York State Police investigation; Schwalm's brother offered condolences to the deputy because of his brother's illness.\", 'Justified')\n",
    "df1['Official disposition of death (justified or other)'] = df1['Official disposition of death (justified or other)'].str.replace('Charged, Convicted of involuntary manslaughter, Sentenced to 5 years in Prison', 'Charged, Convicted')\n",
    "df1['Official disposition of death (justified or other)'] = df1['Official disposition of death (justified or other)'].str.replace('Charged, Convicted of reckless manslaughter, Sentenced to 6 years', 'Charged, Convicted')\n",
    "df1['Official disposition of death (justified or other)'] = df1['Official disposition of death (justified or other)'].str.replace('Charged, Convicted of felony murder, Sentenced to life without parole, plus 16 years', 'Charged, Convicted')\n",
    "df1['Official disposition of death (justified or other)'] = df1['Official disposition of death (justified or other)'].str.replace('Unjustified, Officer fired', 'Pending investigation/No Known Charges')\n",
    "df1['Official disposition of death (justified or other)'] = df1['Official disposition of death (justified or other)'].str.replace('Charged with manslaughter, Plead no contest, Sentenced to 10 years probation', 'Charged, Convicted')\n",
    "df1['Official disposition of death (justified or other)'] = df1['Official disposition of death (justified or other)'].str.replace('Pending investigation/No Known Charges/No Known Charges/No Known Charges/No Known Charges/No Known Charges', 'No Known Charges')\n",
    "df1['Official disposition of death (justified or other)'] = df1['Official disposition of death (justified or other)'].str.replace('Charged with murder, Convicted of aggravated assault, violating the oath of his office and making a false statement, Sentenced to 12 years in prison and 8 years probation ', 'Charged, Convicted')\n",
    "df1['Official disposition of death (justified or other)'] = df1['Official disposition of death (justified or other)'].str.replace('unknown', 'Unknown')\n",
    "df1['Official disposition of death (justified or other)'] = df1['Official disposition of death (justified or other)'].str.replace('No Known Charges/No Known Charges', 'Pending investigation/No Known Charges')\n",
    "df1['Official disposition of death (justified or other)'] = df1['Official disposition of death (justified or other)'].str.replace(\"Cleared by coroner's inquest/Civil suit/Family awarded money\", 'Charged, Acquitted')\n",
    "df1['Official disposition of death (justified or other)'] = df1['Official disposition of death (justified or other)'].str.replace('Charged, Convicted of misdemeanor misconduct in office, Sentenced to 3 years probation', 'Charged, Convicted')\n",
    "df1['Official disposition of death (justified or other)'] = df1['Official disposition of death (justified or other)'].str.replace('Charged, Convicted and malfeasance', 'Charged, Convicted')\n",
    "df1['Official disposition of death (justified or other)'] = df1['Official disposition of death (justified or other)'].str.replace('Justified by external agency', 'Justified')\n",
    "df1['Official disposition of death (justified or other)'] = df1['Official disposition of death (justified or other)'].str.replace('Charged, Convicted of second-degree murder, Sentenced to 20 years in prison', 'Charged, Convicted')\n",
    "df1['Official disposition of death (justified or other)'] = df1['Official disposition of death (justified or other)'].str.replace('Charged with manslaughter, Mistrial', 'Charged, Acquitted')\n",
    "df1['Official disposition of death (justified or other)'] = df1['Official disposition of death (justified or other)'].str.replace('Charged, Convicted ', 'Charged, Convicted')\n",
    "df1['Official disposition of death (justified or other)'] = df1['Official disposition of death (justified or other)'].str.replace('Charged with first-degree murder', 'Charged, Convicted')\n",
    "df1['Official disposition of death (justified or other)'] = df1['Official disposition of death (justified or other)'].str.replace('Charged with 3rd degree murder', 'Charged, Convicted')\n",
    "df1['Official disposition of death (justified or other)'] = df1['Official disposition of death (justified or other)'].str.replace('Charged with reckless homicide, Acquitted', 'Charged, Acquitted')\n",
    "df1['Official disposition of death (justified or other)'] = df1['Official disposition of death (justified or other)'].str.replace('Charged, Convicted, Acquitted', 'Charged, Convicted')\n",
    "df1['Official disposition of death (justified or other)'] = df1['Official disposition of death (justified or other)'].str.replace('Pending investigation/No Known Charges/No Known Charges', 'Pending investigation/No Known Charges')\n",
    "df1['Official disposition of death (justified or other)'] = df1['Official disposition of death (justified or other)'].str.replace('Charged with murder, possession of a firearm during the commission of a crime and violation of oath', 'Charged, Convicted')\n",
    "df1['Official disposition of death (justified or other)'] = df1['Official disposition of death (justified or other)'].str.replace(\"Justified by State's Attorney/Civil suit/Pending\", 'Justified')\n",
    "df1['Official disposition of death (justified or other)'] = df1['Official disposition of death (justified or other)'].str.replace('Grand jury/No bill or Cleared/Justified', 'Justified')\n",
    "df1['Official disposition of death (justified or other)'] = df1['Official disposition of death (justified or other)'].str.replace('Charged, Convictedof manslaughter and attempted murder, Sentenced to 25 years', 'Charged, Convicted')\n",
    "df1['Official disposition of death (justified or other)'] = df1['Official disposition of death (justified or other)'].str.replace('Charged, Convictedof voluntary manslaughter, Sentenced to 6 years', 'Charged, Convicted')\n",
    "df1['Official disposition of death (justified or other)'] = df1['Official disposition of death (justified or other)'].str.replace('Unjustified by internal review', 'Unjustified')\n",
    "df1['Official disposition of death (justified or other)'] = df1['Official disposition of death (justified or other)'].str.replace(\"Charged, Mistrial declared, Pled Guilty for Violating Walter Scott's Civil Rights\", 'Charged, Acquitted')\n",
    "df1['Official disposition of death (justified or other)'] = df1['Official disposition of death (justified or other)'].str.replace('Grand jury/No bill or Cleared', 'Justified')\n",
    "df1['Official disposition of death (justified or other)'] = df1['Official disposition of death (justified or other)'].str.replace('Charged, Convictedof voluntary manslaughter, Sentenced to 3 months in jail', 'Charged, Convicted')\n",
    "df1['Official disposition of death (justified or other)'] = df1['Official disposition of death (justified or other)'].str.replace('Charged with involuntary manslaughter, Acquitted', 'Charged, Acquitted')\n",
    "df1['Official disposition of death (justified or other)'] = df1['Official disposition of death (justified or other)'].str.replace('Charged with 2nd degreee murder', 'Charged, Convicted')\n",
    "df1['Official disposition of death (justified or other)'] = df1['Official disposition of death (justified or other)'].str.replace('Charged, Convictedof misdemeanor reckless conduct with a firearm, Sentenced to 1 year in prison', 'Charged, Convicted')\n",
    "df1['Official disposition of death (justified or other)'] = df1['Official disposition of death (justified or other)'].str.replace('Charged with 1st degree wanton endangerment', 'Charged, Convicted')\n",
    "df1['Official disposition of death (justified or other)'] = df1['Official disposition of death (justified or other)'].str.replace('Justified by Prosecutor', 'Justified')\n",
    "df1['Official disposition of death (justified or other)'] = df1['Official disposition of death (justified or other)'].str.replace('Charged with felony negligent homicide, Acquitted', 'Charged, Acquitted')\n",
    "df1['Official disposition of death (justified or other)'] = df1['Official disposition of death (justified or other)'].str.replace('Justified by Department of Justice', 'Justified')\n",
    "df1['Official disposition of death (justified or other)'] = df1['Official disposition of death (justified or other)'].str.replace(\"Justified by State's Attorney\", 'Justified')\n",
    "df1['Official disposition of death (justified or other)'] = df1['Official disposition of death (justified or other)'].str.replace('No Known Chargess', 'Pending investigation/No Known Charges')\n",
    "df1['Official disposition of death (justified or other)'] = df1['Official disposition of death (justified or other)'].str.replace('Charged, Convictedof aggravated manslaughter and child endangerment, Sentenced to 30 years in prison', 'Charged, Convicted')\n",
    "df1['Official disposition of death (justified or other)'] = df1['Official disposition of death (justified or other)'].str.replace('Charged with murder, Convicted of aggravated assault, violating the oath of his office and making a false statement, Sentenced to 12 years in prison and 8 years probation', 'Charged, Convicted')\n",
    "df1['Official disposition of death (justified or other)'] = df1['Official disposition of death (justified or other)'].str.replace('Charged, Convictedof manslaughter, Sentenced to 2.5 years in prison', 'Charged, Convicted')\n",
    "df1['Official disposition of death (justified or other)'] = df1['Official disposition of death (justified or other)'].str.replace(\"Justified by coroner's inquest\", 'Justified')\n",
    "df1['Official disposition of death (justified or other)'] = df1['Official disposition of death (justified or other)'].str.replace('Justified by Attorney General', 'Justified')\n",
    "df1['Official disposition of death (justified or other)'] = df1['Official disposition of death (justified or other)'].str.replace('Charged, Convictedof Third Degree Murder', 'Charged, Convicted')\n",
    "df1['Official disposition of death (justified or other)'] = df1['Official disposition of death (justified or other)'].str.replace('Charged with manslaughter and reckless discharge of firearm', 'Charged, Convicted')\n",
    "df1['Official disposition of death (justified or other)'] = df1['Official disposition of death (justified or other)'].str.replace('Charged, Convictedof first-degree murder, Sentenced to life in prison', 'Charged, Convicted')\n",
    "df1['Official disposition of death (justified or other)'] = df1['Official disposition of death (justified or other)'].str.replace('Justified by Fifth Judicial Circuit Solicitor', 'Justified')\n",
    "df1['Official disposition of death (justified or other)'] = df1['Official disposition of death (justified or other)'].str.replace('Charged with murder, Ruled not guilty by reason of insanity', 'Charged, Acquittted')\n",
    "df1['Official disposition of death (justified or other)'] = df1['Official disposition of death (justified or other)'].str.replace('Charged, Acquittted', 'Charged, Acquitted')\n",
    "df1['Official disposition of death (justified or other)'] = df1['Official disposition of death (justified or other)'].str.replace('Charged with homicide and felony firearm charges, Acquitted', 'Charged, Acquitted')\n",
    "df1['Official disposition of death (justified or other)'] = df1['Official disposition of death (justified or other)'].str.replace('Charged with criminal homicide, assault, and reckless endangerment', 'Charged, Convicted')\n",
    "df1['Official disposition of death (justified or other)'] = df1['Official disposition of death (justified or other)'].str.replace('Charged, Convictedof felony murder, Sentenced to life in prison', 'Charged, Convicted')\n",
    "df1['Official disposition of death (justified or other)'] = df1['Official disposition of death (justified or other)'].str.replace('Charged, Convictedof reckless homicide, sentenced to 1 year in prison', 'Charged, Convicted')\n",
    "df1['Official disposition of death (justified or other)'] = df1['Official disposition of death (justified or other)'].str.replace('Charged with manslaughter, Convicted of violating oath of office, Sentenced to 1 year in prison and 4 years probation', 'Charged, Convicted')\n",
    "df1['Official disposition of death (justified or other)'] = df1['Official disposition of death (justified or other)'].str.replace('Charged with voluntary manslaughter', 'Charged, Convicted')\n",
    "df1['Official disposition of death (justified or other)'] = df1['Official disposition of death (justified or other)'].str.replace('Charged with involuntary manslaughter, Plead Guilty to Involuntary Manslaughter, Sentenced to 7 years in prison', 'Charged, Convicted')\n",
    "df1['Official disposition of death (justified or other)'] = df1['Official disposition of death (justified or other)'].str.replace('Charged, Convictedof 2nd degree manslaughter, Sentenced to 4 years', 'Charged, Convicted')\n",
    "df1['Official disposition of death (justified or other)'] = df1['Official disposition of death (justified or other)'].str.replace('Murder / Suicide', 'Charged, Convicted')\n",
    "df1['Official disposition of death (justified or other)'] = df1['Official disposition of death (justified or other)'].str.replace('Charged with 2nd degree murder or first degree manslaughter', 'Charged, Convicted')\n",
    "df1['Official disposition of death (justified or other)'] = df1['Official disposition of death (justified or other)'].str.replace('Charged, Convictedof second-degree manslaughter and one count of official misconduct, Sentenced to five years probation.', 'Charged, Convicted')\n",
    "df1['Official disposition of death (justified or other)'] = df1['Official disposition of death (justified or other)'].str.replace('Charged with manslaughter, acquitted', 'Charged, Acquitted')\n",
    "df1['Official disposition of death (justified or other)'] = df1['Official disposition of death (justified or other)'].str.replace(\"Justified by State Attorney's Office\", 'Justified')\n",
    "df1['Official disposition of death (justified or other)'] = df1['Official disposition of death (justified or other)'].str.replace('Charged, Convicted, Sentenced to 50 years', 'Charged, Convicted')\n",
    "df1['Official disposition of death (justified or other)'] = df1['Official disposition of death (justified or other)'].str.replace('Charged and Civil suit/Family awarded money', 'Charged, Convicted')\n",
    "df1['Official disposition of death (justified or other)'] = df1['Official disposition of death (justified or other)'].str.replace('No Known Charges; Snohomish County Multiagency Response Team', 'Pending investigation/No Known Charges')\n",
    "df1['Official disposition of death (justified or other)'] = df1['Official disposition of death (justified or other)'].str.replace('No Known Charges ', 'No Known Charges')\n",
    "df1['Official disposition of death (justified or other)'] = df1['Official disposition of death (justified or other)'].str.replace('Charged with second-degree murder, Acquitted', 'Charged, Acquitted')\n",
    "df1['Official disposition of death (justified or other)'] = df1['Official disposition of death (justified or other)'].str.replace('Charged witth 1st degree manslaughter, Acquitted', 'Charged, Acquitted')\n",
    "df1['Official disposition of death (justified or other)'] = df1['Official disposition of death (justified or other)'].str.replace('Charged with manslaughter, Charges Dismissed in Federal Court', 'Charged, Acquitted')\n",
    "df1['Official disposition of death (justified or other)'] = df1['Official disposition of death (justified or other)'].str.replace('Charged with 1st degree murder, armed criminal action and two counts of child endangerment, Acquitted', 'Charged, Acquitted')\n",
    "df1['Official disposition of death (justified or other)'] = df1['Official disposition of death (justified or other)'].str.replace('Justified by U.S. Attorney', 'Justified')\n",
    "df1['Official disposition of death (justified or other)'] = df1['Official disposition of death (justified or other)'].str.replace('Charged with murder and attemped murder', 'Charged, Convicted')\n",
    "df1['Official disposition of death (justified or other)'] = df1['Official disposition of death (justified or other)'].str.replace('Unjustified', 'Charged, Convicted')\n",
    "df1['Official disposition of death (justified or other)'] = df1['Official disposition of death (justified or other)'].str.replace('Charged, Convicted, Sentenced to 10 years in prison', 'Charged, Convicted')\n",
    "df1['Official disposition of death (justified or other)'] = df1['Official disposition of death (justified or other)'].str.replace(\"Justified by County Prosecutor's Office\", 'Justified')\n",
    "df1['Official disposition of death (justified or other)'] = df1['Official disposition of death (justified or other)'].str.replace('Charged with involuntary manslaughter', 'Charged, Convicted')\n",
    "df1['Official disposition of death (justified or other)'] = df1['Official disposition of death (justified or other)'].str.replace('Charged with 1st degree murder', 'Charged, Convicted')\n",
    "df1['Official disposition of death (justified or other)'] = df1['Official disposition of death (justified or other)'].str.replace('Pending investigaton', 'No Known Charges')\n",
    "df1['Official disposition of death (justified or other)'] = df1['Official disposition of death (justified or other)'].str.replace(\"Justified by County State's Attorney\", 'Justified')\n",
    "df1['Official disposition of death (justified or other)'] = df1['Official disposition of death (justified or other)'].str.replace('Cleared by district attorney', 'Charged, Acquitted')\n",
    "df1['Official disposition of death (justified or other)'] = df1['Official disposition of death (justified or other)'].str.replace('Justified by Special Prosecutor', 'Justified')\n",
    "df1['Official disposition of death (justified or other)'] = df1['Official disposition of death (justified or other)'].str.replace('Administrative discipline/Civil suit/Family awarded money', 'Charged, Convicted')\n",
    "df1['Official disposition of death (justified or other)'] = df1['Official disposition of death (justified or other)'].str.replace('Charged with manslaughter, Charges Dropped', 'Charged, Acquitted')\n",
    "df1['Official disposition of death (justified or other)'] = df1['Official disposition of death (justified or other)'].str.replace(\"Justified by Solicitor's Office\", 'Justified')\n",
    "df1['Official disposition of death (justified or other)'] = df1['Official disposition of death (justified or other)'].str.replace('Charged, Convictedof second-degree murder', 'Charged, Convicted')\n",
    "df1['Official disposition of death (justified or other)'] = df1['Official disposition of death (justified or other)'].str.replace('Justified/Civil suit/Family awarded money', 'Justified')\n",
    "df1['Official disposition of death (justified or other)'] = df1['Official disposition of death (justified or other)'].str.replace('Ruled accidental', 'Charged, Acquitted')\n",
    "df1['Official disposition of death (justified or other)'] = df1['Official disposition of death (justified or other)'].str.replace('No Known Charges; Georgia Bureau of Investigation', 'Pending investigation/No Known Charges')\n",
    "df1['Official disposition of death (justified or other)'] = df1['Official disposition of death (justified or other)'].str.replace('Charged with homicide', 'Charged, Convicted')\n",
    "df1['Official disposition of death (justified or other)'] = df1['Official disposition of death (justified or other)'].str.replace('Justified by outside agency/Civil suit/Family awarded money', 'Justified')\n",
    "df1['Official disposition of death (justified or other)'] = df1['Official disposition of death (justified or other)'].str.replace('Other justified (Civilian board/Prosecutor/District Attorney/Coroner)', 'Justified')\n",
    "df1['Official disposition of death (justified or other)'] = df1['Official disposition of death (justified or other)'].str.replace('Accidental', 'Charged, Acquitted')\n",
    "df1['Official disposition of death (justified or other)'] = df1['Official disposition of death (justified or other)'].str.replace('Charged with a crime', 'Charged, Convicted')\n",
    "df1['Official disposition of death (justified or other)'] = df1['Official disposition of death (justified or other)'].str.replace('Justified by Solicitor', 'Justified')\n",
    "df1['Official disposition of death (justified or other)'] = df1['Official disposition of death (justified or other)'].str.replace('Charged with 2nd degree murder', 'Charged, Convicted')\n",
    "df1['Official disposition of death (justified or other)'] = df1['Official disposition of death (justified or other)'].str.replace('Civil suit/Pending', 'Charged, Convicted')\n",
    "df1['Official disposition of death (justified or other)'] = df1['Official disposition of death (justified or other)'].str.replace('Charged with murder, Acquitted', 'Charged, Acquitted')\n",
    "df1['Official disposition of death (justified or other)'] = df1['Official disposition of death (justified or other)'].str.replace('Cleared', 'Charged, Acquitted')\n",
    "df1['Official disposition of death (justified or other)'] = df1['Official disposition of death (justified or other)'].str.replace('Charged with second-degree murder', 'Charged, Convicted')\n",
    "df1['Official disposition of death (justified or other)'] = df1['Official disposition of death (justified or other)'].str.replace('Other justified (Civilian board/Prosecutor/District Attorney/Coroner) ', 'Justified')\n",
    "df1['Official disposition of death (justified or other)'] = df1['Official disposition of death (justified or other)'].str.replace('Charged, Mistrial declared', 'Charged, Acquitted')\n",
    "df1['Official disposition of death (justified or other)'] = df1['Official disposition of death (justified or other)'].str.replace('Charged, Aquitted', 'Charged, Acquitted')\n",
    "df1['Official disposition of death (justified or other)'] = df1['Official disposition of death (justified or other)'].str.replace('Administrative discipline', 'Charged, Convicted')\n",
    "df1['Official disposition of death (justified or other)'] = df1['Official disposition of death (justified or other)'].str.replace(\"Justified's Office\", 'Justified')\n",
    "df1['Official disposition of death (justified or other)'] = df1['Official disposition of death (justified or other)'].str.replace('Justified by Prosecuting Attorney', 'Justified')\n",
    "df1['Official disposition of death (justified or other)'] = df1['Official disposition of death (justified or other)'].str.replace(\"Justified by Commonwealth's Attorney\", 'Justified')\n",
    "df1['Official disposition of death (justified or other)'] = df1['Official disposition of death (justified or other)'].str.replace('Found Excusable', 'Justified')\n",
    "df1['Official disposition of death (justified or other)'] = df1['Official disposition of death (justified or other)'].str.replace('Charged with manslaughter, Acquitted', 'Charged, Acquitted')\n",
    "df1['Official disposition of death (justified or other)'] = df1['Official disposition of death (justified or other)'].str.replace(\"Other justified (Civilian board/Prosecutor/District Attorney/Coroner)\", 'Charged, Convicted')\n",
    "df1['Official disposition of death (justified or other)'] = df1['Official disposition of death (justified or other)'].str.replace('Justified by County Attorney', 'Justified')\n",
    "df1['Official disposition of death (justified or other)'] = df1['Official disposition of death (justified or other)'].str.replace('Justified by State Attorney', 'Justified')\n",
    "df1['Official disposition of death (justified or other)'] = df1['Official disposition of death (justified or other)'].str.replace('Justified by outside agency', 'Justified')\n",
    "df1['Official disposition of death (justified or other)'] = df1['Official disposition of death (justified or other)'].str.replace('Justified by County Prosecutor', 'Justified')\n",
    "df1['Official disposition of death (justified or other)'] = df1['Official disposition of death (justified or other)'].str.replace('Other justified (Civilian board/Coroner/Medical examiner) ', 'Justified')\n",
    "df1['Official disposition of death (justified or other)'] = df1['Official disposition of death (justified or other)'].str.replace('Murder/suicide', 'Charged, Convicted')\n",
    "df1['Official disposition of death (justified or other)'] = df1['Official disposition of death (justified or other)'].str.replace('Charged with murder', 'Charged, Convicted')\n",
    "df1['Official disposition of death (justified or other)'] = df1['Official disposition of death (justified or other)'].str.replace('Charged with manslaughter', 'Charged, Convicted')\n",
    "df1['Official disposition of death (justified or other)'] = df1['Official disposition of death (justified or other)'].str.replace('Civil suit/Family awarded money', 'Charged, Convicted')\n",
    "df1['Official disposition of death (justified or other)'] = df1['Official disposition of death (justified or other)'].str.replace('Justified by internal review', 'Justified')\n",
    "df1['Official disposition of death (justified or other)'] = df1['Official disposition of death (justified or other)'].str.replace('Under investigation', 'Pending investigation/No Known Charges')\n",
    "df1['Official disposition of death (justified or other)'] = df1['Official disposition of death (justified or other)'].str.replace('Charged, Convictedwith felony murder', 'Charged, Convicted')\n",
    "df1['Official disposition of death (justified or other)'] = df1['Official disposition of death (justified or other)'].str.replace('Justified by Inspector General', 'Justified')\n",
    "\n",
    "\n",
    "\n",
    "\n",
    "display(df1['Official disposition of death (justified or other)'].value_counts())"
   ]
  },
  {
   "cell_type": "markdown",
   "metadata": {},
   "source": [
    "#### Let's convert all the boolean predictors"
   ]
  },
  {
   "cell_type": "code",
   "execution_count": 18,
   "metadata": {},
   "outputs": [],
   "source": [
    "# group all of the charges together for now\n",
    "df1[\"Criminal Charges?_bool\"]= df1[\"Criminal Charges?\"].apply(lambda x: 0 if x=='No known charges' else 1)\n",
    "\n",
    "# grouping all symptoms not classified as \"yes\"\n",
    "df1[\"Symptoms of mental illness?_bool\"]= df1[\"Symptoms of mental illness?\"].apply(lambda x: 1 if x=='Yes' else 0)\n",
    "\n",
    "# grouping all 'allegedly armed' as \"yes\" vs all other answers\n",
    "df1[\"Unarmed/Did Not Have an Actual Weapon_bool\"]= df1[\"Unarmed/Did Not Have an Actual Weapon\"].apply(lambda x: 1 if x=='Allegedly Armed' else 0)\n",
    "\n",
    "# grouping all spellings of 'not fleeing'\n",
    "df1[\"Fleeing (Source: WaPo)_bool\"]= df1[\"Fleeing (Source: WaPo)\"].apply(lambda x: 0 if x in ['Not fleeing', 'not fleeing', 'Not Fleeing'] else 1)\n",
    "\n",
    "# grouping all spellings of 'no'\n",
    "df1[\"Body Camera (Source: WaPo)_bool\"]= df1[\"Body Camera (Source: WaPo)\"].apply(lambda x: 0 if x in ['No', 'no'] else 1)\n"
   ]
  },
  {
   "cell_type": "code",
   "execution_count": 19,
   "metadata": {},
   "outputs": [
    {
     "name": "stdout",
     "output_type": "stream",
     "text": [
      "<class 'pandas.core.frame.DataFrame'>\n",
      "RangeIndex: 8507 entries, 0 to 8506\n",
      "Data columns (total 27 columns):\n",
      " #   Column                                              Non-Null Count  Dtype  \n",
      "---  ------                                              --------------  -----  \n",
      " 0   Victim's age                                        8492 non-null   object \n",
      " 1   Victim's gender                                     8494 non-null   object \n",
      " 2   Victim's race                                       8503 non-null   object \n",
      " 3   Date of Incident (month/day/year)                   8507 non-null   object \n",
      " 4   City                                                8501 non-null   object \n",
      " 5   State                                               8507 non-null   object \n",
      " 6   Zipcode                                             8465 non-null   float64\n",
      " 7   County                                              8493 non-null   object \n",
      " 8   Agency responsible for death                        8491 non-null   object \n",
      " 9   Cause of death                                      8507 non-null   object \n",
      " 10  Official disposition of death (justified or other)  8496 non-null   object \n",
      " 11  Criminal Charges?                                   8507 non-null   object \n",
      " 12  Symptoms of mental illness?                         8496 non-null   object \n",
      " 13  Unarmed/Did Not Have an Actual Weapon               8507 non-null   object \n",
      " 14  Alleged Weapon                                      8505 non-null   object \n",
      " 15  Alleged Threat Level (Source: WaPo)                 6056 non-null   object \n",
      " 16  Fleeing (Source: WaPo)                              5614 non-null   object \n",
      " 17  Body Camera (Source: WaPo)                          5511 non-null   object \n",
      " 18  WaPo ID (If included in WaPo database)              5592 non-null   float64\n",
      " 19  geography                                           8499 non-null   object \n",
      " 20  MPV ID                                              8485 non-null   float64\n",
      " 21  Fatal Encounters ID                                 8417 non-null   float64\n",
      " 22  Criminal Charges?_bool                              8507 non-null   int64  \n",
      " 23  Symptoms of mental illness?_bool                    8507 non-null   int64  \n",
      " 24  Unarmed/Did Not Have an Actual Weapon_bool          8507 non-null   int64  \n",
      " 25  Fleeing (Source: WaPo)_bool                         8507 non-null   int64  \n",
      " 26  Body Camera (Source: WaPo)_bool                     8507 non-null   int64  \n",
      "dtypes: float64(4), int64(5), object(18)\n",
      "memory usage: 1.8+ MB\n"
     ]
    },
    {
     "data": {
      "text/plain": [
       "None"
      ]
     },
     "metadata": {},
     "output_type": "display_data"
    }
   ],
   "source": [
    "display(df1.info())"
   ]
  },
  {
   "cell_type": "markdown",
   "metadata": {},
   "source": [
    "#### Some of these datatypes still need to be recast"
   ]
  },
  {
   "cell_type": "code",
   "execution_count": 20,
   "metadata": {},
   "outputs": [],
   "source": [
    "# Data type conversions\n",
    "\n",
    "# age still has some odd values\n",
    "# display(data_mapping[\"Victim's age\"].head())\n",
    "df1[\"Victim's age\"] = data_mapping[\"Victim's age\"].fillna(0)\n",
    "#print(df1[\"Victim's age\"].str.isdigit().sum())\n",
    "df1[\"Victim's age\"]= df1[\"Victim's age\"].apply(lambda x: x if str(x).isdigit() else 0).astype(\"int\")\n",
    "\n",
    "\n",
    "# drop a few more NaN\n",
    "#df1 = df1.fillna(str(0))\n",
    "df1.dropna()\n",
    "\n",
    "# recast some of the string categories as type string\n",
    "df1[\"Victim's gender\"] = df1[\"Victim's gender\"].astype('str')\n",
    "df1[\"Victim's race\"] = df1[\"Victim's race\"].astype('str')\n",
    "df1[\"City\"] = df1[\"City\"].astype('str')\n",
    "df1[\"State\"] = df1[\"State\"].astype('str')\n",
    "df1[\"County\"] = df1[\"County\"].astype('str')\n",
    "df1[\"Agency responsible for death\"] = df1[\"Agency responsible for death\"].astype('str')\n",
    "df1[\"Cause of death\"] = df1[\"Cause of death\"].astype('str')\n",
    "df1[\"Official disposition of death (justified or other)\"] = df1[\"Official disposition of death (justified or other)\"].astype('str')\n",
    "df1[\"Symptoms of mental illness?\"] = df1[\"Symptoms of mental illness?\"].astype('str')\n",
    "df1[\"Unarmed/Did Not Have an Actual Weapon\"] = df1[\"Unarmed/Did Not Have an Actual Weapon\"].astype('str')\n",
    "df1[\"Alleged Weapon\"] = df1[\"Alleged Weapon\"].astype('str')\n",
    "df1[\"Fleeing (Source: WaPo)\"] = df1[\"Fleeing (Source: WaPo)\"].astype('str')\n",
    "df1[\"Body Camera (Source: WaPo)\"] = df1[\"Body Camera (Source: WaPo)\"].astype('str')\n",
    "df1[\"Alleged Threat Level (Source: WaPo)\"] = df1[\"Alleged Threat Level (Source: WaPo)\"].astype('str')\n",
    "df1[\"geography\"] = df1[\"geography\"].astype('str')\n",
    "\n",
    "# Add year\n",
    "df1['year'] = pd.DatetimeIndex(df1['Date of Incident (month/day/year)']).year\n"
   ]
  },
  {
   "cell_type": "code",
   "execution_count": 21,
   "metadata": {
    "scrolled": true
   },
   "outputs": [
    {
     "data": {
      "text/plain": [
       "Male           8055\n",
       "Female          425\n",
       "Unknown          17\n",
       "Transgender       9\n",
       "Male              1\n",
       "Name: Victim's gender, dtype: int64"
      ]
     },
     "metadata": {},
     "output_type": "display_data"
    }
   ],
   "source": [
    "df1[\"Victim's gender\"] = df1[\"Victim's gender\"].str.replace('nan', 'Unknown')\n",
    "\n",
    "display(df1[\"Victim's gender\"].value_counts())"
   ]
  },
  {
   "cell_type": "code",
   "execution_count": null,
   "metadata": {},
   "outputs": [],
   "source": [
    "# check float features\n",
    "grid_features = [\"Victim's age\", 'Zipcode', 'WaPo ID (If included in WaPo database)', 'MPV ID', \n",
    "                 'Fatal Encounters ID','Criminal Charges?_bool', 'Symptoms of mental illness?_bool',  \n",
    "                 'Unarmed/Did Not Have an Actual Weapon_bool', 'Fleeing (Source: WaPo)_bool',\n",
    "                 'Body Camera (Source: WaPo)_bool' ]\n",
    "\n",
    "scatter = pd.plotting.scatter_matrix(df1[grid_features], alpha=0.4, figsize=(20,20));\n",
    "for ax in scatter.ravel():\n",
    "    ax.set_xlabel(ax.get_xlabel(), rotation = 90)\n",
    "    ax.set_ylabel(ax.get_ylabel(), rotation = 90)"
   ]
  },
  {
   "cell_type": "markdown",
   "metadata": {
    "button": false,
    "deletable": false,
    "new_sheet": false,
    "run_control": {
     "read_only": false
    }
   },
   "source": [
    "### <div class='exercise'><b>Section 2: Now look at Washington Post Data</b></div>\n",
    "[▲ Return to contents](#Contents)\n",
    "\n",
    "<div class='exercise'>\n",
    "\n",
    "    \n",
    "\n",
    "\n",
    "\n",
    "</div>"
   ]
  },
  {
   "cell_type": "code",
   "execution_count": null,
   "metadata": {},
   "outputs": [],
   "source": [
    "display(data_wapo.head())\n",
    "display(data_wapo.describe())"
   ]
  },
  {
   "cell_type": "markdown",
   "metadata": {},
   "source": [
    "#### Check Overview information about the data\n"
   ]
  },
  {
   "cell_type": "code",
   "execution_count": null,
   "metadata": {},
   "outputs": [],
   "source": [
    "display(data_wapo.columns)"
   ]
  },
  {
   "cell_type": "code",
   "execution_count": null,
   "metadata": {},
   "outputs": [],
   "source": [
    "print('Dataset shape: ', data_wapo.shape)\n",
    "\n",
    "data_wapo.info()"
   ]
  },
  {
   "cell_type": "code",
   "execution_count": null,
   "metadata": {},
   "outputs": [],
   "source": [
    "# do we have any null values?\n",
    "\n",
    "data_wapo.isnull().values.any()\n",
    "\n",
    "# where are they?\n",
    "\n",
    "for col in data_wapo.columns:\n",
    "    null_count = data_wapo[col].isnull().sum()\n",
    "    print(col, \": \", null_count)"
   ]
  },
  {
   "cell_type": "code",
   "execution_count": null,
   "metadata": {},
   "outputs": [],
   "source": [
    "# drop some of the columns which have too many N/A or don't really help us\n",
    "\n",
    "# not really used\n",
    "df2 = data_wapo.drop('name', axis=1)\n"
   ]
  },
  {
   "cell_type": "code",
   "execution_count": null,
   "metadata": {},
   "outputs": [],
   "source": [
    "# Convert dae to datetime pandas value \n",
    "# https://stackoverflow.com/a/33368021/8970591\n",
    "# errors=coerce -> 'if the conversion fails for any particular string then those rows are set to NaT'\n",
    "# errors=raise -> then invalid parsing will raise an exception.\n",
    "df2['date'] = pd.to_datetime(df2['date'], errors='raise')"
   ]
  },
  {
   "cell_type": "code",
   "execution_count": null,
   "metadata": {
    "deletable": false
   },
   "outputs": [],
   "source": [
    "display(df2.columns)\n",
    "sns.pairplot(data=df2)\n"
   ]
  },
  {
   "cell_type": "markdown",
   "metadata": {},
   "source": [
    "#### Inspect data\n",
    "Check value count info for all columns"
   ]
  },
  {
   "cell_type": "code",
   "execution_count": null,
   "metadata": {},
   "outputs": [],
   "source": [
    "for col in df2.columns:\n",
    "    display(df2[col].value_counts())"
   ]
  },
  {
   "cell_type": "code",
   "execution_count": null,
   "metadata": {},
   "outputs": [],
   "source": [
    "\n",
    "display(df2['manner_of_death'].value_counts())"
   ]
  },
  {
   "cell_type": "code",
   "execution_count": null,
   "metadata": {},
   "outputs": [],
   "source": [
    "pd.set_option('display.max_rows', 20)\n",
    "\n",
    "display(df2['armed'].value_counts())\n",
    "print(df2['armed'].unique())"
   ]
  },
  {
   "cell_type": "code",
   "execution_count": null,
   "metadata": {},
   "outputs": [],
   "source": [
    "display(df2['gender'].value_counts())"
   ]
  },
  {
   "cell_type": "code",
   "execution_count": null,
   "metadata": {},
   "outputs": [],
   "source": [
    "display(df2['threat_level'].value_counts())"
   ]
  },
  {
   "cell_type": "markdown",
   "metadata": {},
   "source": [
    "### Additional population data\n",
    "We also believe that population density and classifications that could be made from this information like rural or urban cities could be important in our models. So we scraped the List of United States cities by population wikipedia page to retrieve the densities of the most densely populated cities. This wikipedia page sourced their information from the United States Census Bureau. We matched the city names from our the listed incidents of the Washington Post dataset to the population density from the scraped data and added a new Population density km2 column to our dataset."
   ]
  },
  {
   "cell_type": "markdown",
   "metadata": {},
   "source": [
    "#### Reading our scraped city population data\n",
    "\n",
    "We scraped a wikipedia entry with population densities from cities with our 100k residents. We use this to determine if our incidents happened in urban or dense areas"
   ]
  },
  {
   "cell_type": "code",
   "execution_count": null,
   "metadata": {},
   "outputs": [],
   "source": [
    "# Use the offline reverse_geopy lubrary to match cities to the coordinates\n",
    "# http://jonathansoma.com/lede/foundations/classes/pandas%20columns%20and%20functions/apply-a-function-to-every-row-in-a-pandas-dataframe/\n",
    "def addCityBasedOnCoordinates(row):\n",
    "    # Get coordinate values\n",
    "    lat, long = row['latitude'] , row['longitude']\n",
    "    \n",
    "    # Null check\n",
    "    if str(lat) == 'nan' or str(long) == 'nan':\n",
    "        # Return original city\n",
    "        return row['city']\n",
    "    location_info = reverse_geocode.get((lat, long))\n",
    "    return location_info['city']\n",
    "    \n",
    "\n",
    "# Save the result in a new column\n",
    "df2['city_lat_long'] = df2.apply(addCityBasedOnCoordinates, axis=1)\n",
    "\n",
    "# Inspect the results\n",
    "display(df2.head())"
   ]
  },
  {
   "cell_type": "markdown",
   "metadata": {},
   "source": [
    "### Population density by city name\n",
    "We got the population density estimates from [SimpleMaps](https://simplemaps.com/data/us-cities). They've built this dataset from the ground up using authoritative sources such as the U.S. Geological Survey and U.S. Census Bureau.\n",
    "We are going to use this data to add a city population density column to each incident."
   ]
  },
  {
   "cell_type": "code",
   "execution_count": null,
   "metadata": {},
   "outputs": [],
   "source": [
    "# Data from https://simplemaps.com/data/us-cities\n",
    "city_df = pd.read_csv(f'{data_dir}/uscities-simplemaps.csv')\n",
    "city_df.head()\n"
   ]
  },
  {
   "cell_type": "markdown",
   "metadata": {},
   "source": [
    "### Adding the incident's city population density \n",
    "Now that we have the original city (and sometime county) and backup city names from the coordinates, we can make the cross reference on the city population density dataset. "
   ]
  },
  {
   "cell_type": "code",
   "execution_count": null,
   "metadata": {},
   "outputs": [],
   "source": [
    "# The average city density from each us city, needed for imputation\n",
    "avg_city_dens = city_df['density'].mean()\n",
    "\n",
    "# To store the fails for inspection\n",
    "df_fails = pd.DataFrame(columns=df2.columns)\n",
    "\n",
    "# Use the offline reverse_geopy lubrary to match cities to the coordinates\n",
    "# http://jonathansoma.com/lede/foundations/classes/pandas%20columns%20and%20functions/apply-a-function-to-every-row-in-a-pandas-dataframe/\n",
    "def addCityDensity(row):\n",
    "    global df_fails\n",
    "    \n",
    "    # Grab values to match\n",
    "    state = row['state']\n",
    "    city = row['city']\n",
    "    \n",
    "    # Match based on STATE and city, because a lot of states have cities with the same name\n",
    "    df_matches = city_df.loc[(city_df['state_id'] == state ) & (city_df['state_id'] == state ) & (city_df['city'] == city) ]\n",
    "    \n",
    "    # Try backup cities that were matched by coordinates\n",
    "    if len(df_matches.index) == 0:\n",
    "        city_xtra = row['city_lat_long']\n",
    "        df_matches = city_df.loc[(city_df['state_id'] == state ) & (city_df['city'] == city_xtra) ]\n",
    "\n",
    "    # Null check if no matched at all...\n",
    "    if len(df_matches.index) == 0:\n",
    "        # print(f\"Could not match city: '{city}' or '{city_xtra}' so imputing average....\")\n",
    "        df_fails = df_fails.append(row, ignore_index=True)\n",
    "        return avg_city_dens\n",
    "    \n",
    "    # Only happened once for a place in Florida and since the wsp doesn't have county, we impute the avg\n",
    "    elif len(df_matches.index) > 1:\n",
    "        # display(df_matches)\n",
    "        mean_similar_matches = df_matches['density'].mean()\n",
    "        match_cnt = len(df_matches.index)\n",
    "        print(f\"Multiple matches ({match_cnt}) for -> '{(city)} - {state}' so imputing their average: {round(mean_similar_matches, 2)}\")\n",
    "        return mean_similar_matches\n",
    "\n",
    "    # Return first match\n",
    "    return df_matches['density'].iloc[0]\n",
    "\n",
    "\n",
    "# Save the result in a new column\n",
    "df2['city_density'] = df2.apply(addCityDensity, axis=1)\n",
    "amount_total =  len(df2.index)\n",
    "amount_fail = len(df_fails.index)\n",
    "\n",
    "# Output basic stats\n",
    "print(f\"\\n{amount_fail} from the total of {amount_total} did not match any city name from the original cities and coordinates based cities\")\n",
    "print(f\"So we have imputed the overal city density for them of: {round(avg_city_dens, 2)}\\n\")\n",
    "\n",
    "# Inspect the new df and the rows which did not match\n",
    "display(df2.head())\n",
    "display(df_fails.head())"
   ]
  },
  {
   "cell_type": "markdown",
   "metadata": {},
   "source": [
    "### Adding merging avg household income by closest coordinate match\n",
    "\n",
    "We matches the US postal codes mapped to coordinates with the dat from [geonames](http://download.geonames.org/export/zip/)\n",
    "\n",
    "Now we can create a new zipcode column by finding the neirest postal_code (zipcode) for the given coordinates from each shooting.\n",
    "We fist tried to search the neirest location with [apply and Harversine Dinstance](https://medium.com/analytics-vidhya/finding-nearest-pair-of-latitude-and-longitude-match-using-python-ce50d62af546), but this unfortuunatley took too long. This took to long becaus each of the 4k+ indicendents need to 1 row of the 50k+ US postal codes where you also need to compare them to get the closest distance.\n",
    "\n",
    "So we endid up using geopandas, scripy's cKDTree by first converting the lat and long coordinates from both datasets int geomerty Points inside GeoDataFrames. And then we could use all the build in functionality from these libraries, we got most of the code [from here](https://gis.stackexchange.com/a/301935). We did have to make some changes because we needed it to work with our coordinates."
   ]
  },
  {
   "cell_type": "code",
   "execution_count": null,
   "metadata": {},
   "outputs": [],
   "source": [
    "# Custom function to get nan stats for empty rows\n",
    "def nan_row_stats(df_missing):\n",
    "    # Get the rows with all null values\n",
    "    idx = df_missing.index[df_missing.isnull().all(1)]\n",
    "    nans = df_missing.iloc[idx]\n",
    "    if len(nans) > 1:\n",
    "        print(\"Dataframe has rows with each column value being empty\")\n",
    "        display(nans)\n",
    "    else:\n",
    "        print(f\"Dataframe with {len(df_missing)} rows, does not have rows with all empty values\")\n",
    "        \n",
    "# Custom function to get nan stats for values\n",
    "def nan_vals_stats(df_missing, show_summary=False, show_rows=False):\n",
    "    # Get the missing values per each column \n",
    "    missing_series = df_missing.isna().sum()\n",
    "\n",
    "    # Concatunate each column's type so we have a better idea for imputation\n",
    "    missing_types_df = pd.concat([missing_series.rename('Missing'), df_missing.dtypes.rename('Dtype')], axis=1)\n",
    "    missing_types_df.sort_values(by=['Missing'], ascending=False, inplace=True)\n",
    "    display(missing_types_df)\n",
    "    \n",
    "    # Get the column names where values are missing\n",
    "    missing_colnames = missing_types_df[missing_types_df['Missing']>0].index.tolist()\n",
    "    \n",
    "    if len(missing_colnames) > 0:\n",
    "        # Output missing column's stats for imputaiton \n",
    "        if show_summary:\n",
    "            # Get the basic information of our missing columns\n",
    "            display(df_missing[missing_colnames].describe())\n",
    "\n",
    "        # Also output missing rows, needed to determine adequate imputation method\n",
    "        if show_rows:\n",
    "            null_data_df = df_missing[df_missing.isnull().any(axis=1)]\n",
    "            display(null_data_df)\n",
    "        \n",
    "    return missing_colnames"
   ]
  },
  {
   "cell_type": "code",
   "execution_count": null,
   "metadata": {
    "scrolled": true
   },
   "outputs": [],
   "source": [
    "# Add the year column we can use to match the right df\n",
    "df_wsp = df2\n",
    "\n",
    "df_wsp['year'] = pd.DatetimeIndex(df_wsp['date']).year\n",
    "display(df_wsp['year'].value_counts())\n",
    "\n",
    "# Read our yearly census data\n",
    "# Get the income data \n",
    "df_inc_2015 = pd.read_csv(f\"{data_dir}/census_household_inc_median_2015.csv\", encoding='utf-8')\n",
    "df_inc_2016 = pd.read_csv(f\"{data_dir}/census_household_inc_median_2016.csv\", encoding='utf-8')\n",
    "df_inc_2017 = pd.read_csv(f\"{data_dir}/census_household_inc_median_2017.csv\", encoding='utf-8')\n",
    "df_inc_2018 = pd.read_csv(f\"{data_dir}/census_household_inc_median_2018.csv\", encoding='utf-8')\n",
    "\n",
    "# Set into a dict -> Exception for file name to match, since 2019 & 2020 not available yet\n",
    "inc_dict = {\n",
    "    2015 : df_inc_2015,\n",
    "    2016 : df_inc_2016,\n",
    "    2017 : df_inc_2017,\n",
    "    2018 : df_inc_2018,\n",
    "    2019 : df_inc_2018,\n",
    "    2020 : df_inc_2018,\n",
    "}\n",
    "\n",
    "# Validate df\n",
    "df_inc_2018.head()\n"
   ]
  },
  {
   "cell_type": "code",
   "execution_count": null,
   "metadata": {},
   "outputs": [],
   "source": [
    "df_inc_plotting = df_inc_2018.sort_values(by='median_household_inc', ascending=False)\n",
    "df_inc_plotting.head()"
   ]
  },
  {
   "cell_type": "code",
   "execution_count": null,
   "metadata": {},
   "outputs": [],
   "source": [
    "import geopandas as gpd\n",
    "from scipy.spatial import cKDTree\n",
    "from shapely.geometry import Point\n",
    "\n",
    "# Convert to the right dfs\n",
    "df_inc_small = df_inc_2018[[\"median_household_inc\", \"longitude\", \"latitude\"]]\n",
    "\n",
    "# Temporarely remove rows that don't have lat/long coordinates\n",
    "df_wsp_no_coordinates = df_wsp.loc[df_wsp['latitude'].isnull()]\n",
    "df_wsp_geo = df_wsp[pd.notnull(df_wsp['latitude'])]\n",
    "\n",
    "# Output info\n",
    "print(f\"Full amount: {len(df_wsp.index)} and Amount geo wsp: {len(df_wsp_geo.index)}\")\n",
    "\n",
    "\n",
    "# https://gis.stackexchange.com/questions/222315/geopandas-find-nearest-point-in-other-dataframe \n",
    "def ckdnearest(gdA, gdB):\n",
    "    nA = np.array(list(gdA.geometry.apply(lambda x: (x.x, x.y))))\n",
    "    nB = np.array(list(gdB.geometry.apply(lambda x: (x.x, x.y))))\n",
    "    btree = cKDTree(nB)\n",
    "    dist, idx = btree.query(nA, k=1)\n",
    "    gdf = pd.concat(\n",
    "        [gdA.reset_index(drop=True), \n",
    "         gdB.loc[idx, gdB.columns == 'median_household_inc'].reset_index(drop=True),\n",
    "         pd.Series(dist, name='inc_coor_dist_match')], axis=1)\n",
    "    \n",
    "    # Remove the geometry col after usage\n",
    "    gdf.drop(columns=['geometry'], inplace=True)\n",
    "    \n",
    "    return pd.DataFrame(gdf)\n",
    "\n",
    "\n",
    "def match_avg_inc(year, year_inc_df):\n",
    "    # Grab all incidents 1 year\n",
    "    wsp_year_df = df_wsp_geo.loc[df_wsp_geo['year'] == year]\n",
    "    \n",
    "    # https://geopandas.org/gallery/create_geopandas_from_pandas.html#from-longitudes-and-latitudes\n",
    "    gdf_wsp = gpd.GeoDataFrame(\n",
    "        wsp_year_df, geometry=gpd.points_from_xy(wsp_year_df.longitude, wsp_year_df.latitude))\n",
    "    inc_wsp = gpd.GeoDataFrame(\n",
    "        year_inc_df, geometry=gpd.points_from_xy(year_inc_df.longitude, year_inc_df.latitude))\n",
    "\n",
    "    # Output dfs before the operation\n",
    "    # display(gdf_wsp.head())\n",
    "    # display(wsp_year_df.head())\n",
    "\n",
    "    # display(ckdnearest(gdf_wsp, inc_wsp))\n",
    "    return ckdnearest(gdf_wsp, inc_wsp)\n",
    "    \n",
    "    "
   ]
  },
  {
   "cell_type": "code",
   "execution_count": null,
   "metadata": {},
   "outputs": [],
   "source": [
    "# To store each year's result\n",
    "wsp_year_dfs = []\n",
    "\n",
    "# Match the closest coordinates incomes to the right years\n",
    "for year, year_inc_df in inc_dict.items():\n",
    "    print(f\"Matching income for year -> {year}\")\n",
    "    df_inc_year = match_avg_inc(year, year_inc_df)\n",
    "    wsp_year_dfs.append(df_inc_year)\n",
    "    # display(df_inc_year)\n",
    "#     break\n",
    "    \n",
    "# Concatunate back together and sort back to original order\n",
    "df_wsp_inc = pd.concat(wsp_year_dfs, axis=0)\n",
    "\n",
    "# Add back the rows with no coordinates\n",
    "df_wsp_inc = pd.concat([df_wsp_inc, df_wsp_no_coordinates], axis=0)\n",
    "\n",
    "# Sort by data and reset the index to be normally indexed\n",
    "df_wsp_inc.sort_values(by=['date'])\n",
    "df_wsp_inc.reset_index(inplace=True)\n",
    "\n",
    "# Validate that we did not loss any rows\n",
    "print(f\"Before amount: {len(df_wsp.index)} & end amount: {len(df_wsp_inc.index)}\")\n",
    "    \n",
    "# Validate of each ZCTA is matched\n",
    "display(df_wsp_inc)\n",
    "nan_vals_stats(df_wsp_inc)"
   ]
  },
  {
   "cell_type": "code",
   "execution_count": null,
   "metadata": {},
   "outputs": [],
   "source": [
    "# Creating income groups\n",
    "\n",
    "def set_inc_groups(x):\n",
    "    if x < 0:\n",
    "        return 'none'\n",
    "    elif 0 < x <= 25000:\n",
    "        return '25k_less'\n",
    "    elif 25000 < x < 50000:\n",
    "        return '25k_50k'\n",
    "    elif 50000 < x < 75000:\n",
    "        return '50k_75k'\n",
    "    elif 75000 < x < 100000:\n",
    "        return '75k_100k'\n",
    "    elif x >= 100000:\n",
    "        return '100k_plus'\n",
    "    \n",
    "    \n",
    "def set_poverty_groups(x):\n",
    "    pov_threshold = 25000\n",
    "    if x < 0:\n",
    "        return 'none'\n",
    "    elif 0 < x < pov_threshold:\n",
    "        return 'low_income'\n",
    "    elif x >= pov_threshold:\n",
    "        return 'not_low_income'\n",
    "\n",
    "df2['inc_group'] = df2['median_household_inc'].apply(set_inc_groups)\n",
    "\n",
    "df2.head(20)"
   ]
  },
  {
   "cell_type": "markdown",
   "metadata": {},
   "source": [
    "### Adding the 'urban' classifier\n",
    "\n",
    "We used a simple metric of a population km2 density above 2900 to be an 'urban' city. I got the idea from:\n",
    "https://medium.com/codait/got-zip-code-data-prep-it-for-analytics-7022b47652d9\n",
    "\n",
    "But we can probably make the classification more accurate or perhaps add more classes or create our own density based classes which could perhaps by good predictors for our model"
   ]
  },
  {
   "cell_type": "code",
   "execution_count": null,
   "metadata": {},
   "outputs": [],
   "source": [
    "# Add population density\n",
    "# Classification from: https://medium.com/codait/got-zip-code-data-prep-it-for-analytics-7022b47652d9\n",
    "df2 = df_wsp_inc\n",
    "\n",
    "# Mappping\n",
    "# 2 = Urban (dens >2900)\n",
    "# 1 = Suburban (100< dense < 2900)\n",
    "# 0 = Rural (dens < 100)\n",
    "\n",
    "def func(x):\n",
    "    if x > 2900:\n",
    "        return 'urban'\n",
    "    elif 100 < x <= 2900:\n",
    "        return 'suburban'\n",
    "    elif x <= 100:\n",
    "        return 'rural'\n",
    "\n",
    "df2['urban'] = df2['city_density'].apply(func)\n",
    "\n",
    "df2.head()"
   ]
  },
  {
   "cell_type": "markdown",
   "metadata": {},
   "source": [
    "### Adding the 'party' classifier\n",
    "\n",
    "This project statement originated with a discussion about Black Lives Matter and other political movements. While this analysis is focuesed more on race and time distributions, the \"party\" classifier uses the political affiliation in different areas of the country to attempt to identify whether political viewpoints are reflected in the likelihood of police violence and the response to those events.\n",
    "\n",
    "Used voting records over the timeframe of the data to classify by state. (Need to boil this down to County if possible)\n",
    "\n",
    "Reference: https://www.nytimes.com/2016/08/23/upshot/50-years-of-electoral-college-maps-how-the-us-turned-red-and-blue.html\n"
   ]
  },
  {
   "cell_type": "code",
   "execution_count": null,
   "metadata": {},
   "outputs": [],
   "source": [
    "# Add year\n",
    "# df2['year'] = pd.DatetimeIndex(df2['date']).year\n",
    "\n",
    "# which states are blue?\n",
    "blue_states = {2012: ['CA', 'CO', 'CT', 'DE', 'DC', 'FL', 'HI', 'IL', 'IA', 'ME', 'MD', 'MA', 'MI', 'MN', 'NV', 'NH', 'NJ', 'NM', 'NY', 'OH', 'OR', 'PA', 'RI', 'VT', 'VA', 'WA', 'WI'],\n",
    "               2013: ['CA', 'CO', 'CT', 'DE', 'DC', 'FL', 'HI', 'IL', 'IA', 'ME', 'MD', 'MA', 'MI', 'MN', 'NV', 'NH', 'NJ', 'NM', 'NY', 'OH', 'OR', 'PA', 'RI', 'VT', 'VA', 'WA', 'WI'],\n",
    "               2014: ['CA', 'CO', 'CT', 'DE', 'DC', 'FL', 'HI', 'IL', 'IA', 'ME', 'MD', 'MA', 'MI', 'MN', 'NV', 'NH', 'NJ', 'NM', 'NY', 'OH', 'OR', 'PA', 'RI', 'VT', 'VA', 'WA', 'WI'],\n",
    "               2015: ['CA', 'CO', 'CT', 'DE', 'DC', 'FL', 'HI', 'IL', 'IA', 'ME', 'MD', 'MA', 'MI', 'MN', 'NV', 'NH', 'NJ', 'NM', 'NY', 'OH', 'OR', 'PA', 'RI', 'VT', 'VA', 'WA', 'WI'],\n",
    "               2016: ['CA', 'CO', 'CT', 'DE', 'DC', 'HI', 'IL', 'ME', 'MD', 'MA', 'MN', 'NV', 'NH', 'NJ', 'NM', 'NY', 'OR', 'RI', 'VT', 'VA', 'WA'],\n",
    "               2017: ['CA', 'CO', 'CT', 'DE', 'DC', 'HI', 'IL', 'ME', 'MD', 'MA', 'MN', 'NV', 'NH', 'NJ', 'NM', 'NY', 'OR', 'RI', 'VT', 'VA', 'WA'],\n",
    "               2018: ['CA', 'CO', 'CT', 'DE', 'DC', 'HI', 'IL', 'ME', 'MD', 'MA', 'MN', 'NV', 'NH', 'NJ', 'NM', 'NY', 'OR', 'RI', 'VT', 'VA', 'WA'],\n",
    "               2019: ['CA', 'CO', 'CT', 'DE', 'DC', 'HI', 'IL', 'ME', 'MD', 'MA', 'MN', 'NV', 'NH', 'NJ', 'NM', 'NY', 'OR', 'RI', 'VT', 'VA', 'WA'],\n",
    "               2020: ['AZ', 'CA', 'CO', 'CT', 'DE', 'DC', 'GA', 'HI', 'IL', 'ME', 'MD', 'MA', 'MI', 'MN', 'NV', 'NH', 'NJ', 'NM', 'NY', 'OR', 'PA', 'RI', 'VT', 'VA', 'WA', 'WI'] \n",
    "              }\n",
    "\n",
    "# process\n",
    "def f1(x):\n",
    "    return 1 if x.State in blue_states[x.year] else 0\n",
    "def f2(x):\n",
    "    return 1 if x.state in blue_states[x.year] else 0\n",
    "\n",
    "df2['party'] = df2.apply(f2, axis=1)\n",
    "df1['party'] = df1.apply(f1, axis=1)\n",
    "\n",
    "# process further\n",
    "#party_df[['shootings_black', 'shootings_white', 'shootings_other', 'rate_black', 'rate_white', 'rate_other' ]] = party_df[['shootings_black', 'shootings_white', 'shootings_other', 'rate_black', 'rate_white', 'rate_other']].fillna(0)\n",
    "    \n",
    "\n",
    "display(df2.head())\n",
    "\n"
   ]
  },
  {
   "cell_type": "markdown",
   "metadata": {},
   "source": [
    "#### Need to recast some of the object types as correct values"
   ]
  },
  {
   "cell_type": "code",
   "execution_count": null,
   "metadata": {},
   "outputs": [],
   "source": [
    "# Data type conversions\n",
    "# df2['name'] = df2['name'].astype('category')\n",
    "df2['manner_of_death'] = df2['manner_of_death'].astype('category')\n",
    "df2['armed'] = df2['armed'].astype('str')\n",
    "df2['gender'] = df2['gender'].astype('str')\n",
    "df2['race'] = df2['race'].astype('str')\n",
    "df2['city'] = df2['state'].astype('str')\n",
    "df2['threat_level'] = df2['threat_level'].astype('str')\n",
    "df2['flee'] = df2['flee'].astype('str')\n",
    "df2['signs_of_mental_illness'] = df2['signs_of_mental_illness'].astype('int')\n",
    "df2['body_camera'] = df2['body_camera'].astype('str')\n",
    "df2['is_geocoding_exact'] = df2['is_geocoding_exact'].astype('str')\n",
    "\n",
    "# check again\n",
    "df2.dtypes"
   ]
  },
  {
   "cell_type": "markdown",
   "metadata": {
    "button": false,
    "deletable": false,
    "new_sheet": false,
    "run_control": {
     "read_only": false
    }
   },
   "source": [
    "### <div class='exercise'><b>Section 3: Make some Plots!</b></div>\n",
    "[▲ Return to contents](#Contents)\n",
    "\n",
    "<div class='exercise'>\n",
    "\n",
    "</div>"
   ]
  },
  {
   "cell_type": "code",
   "execution_count": null,
   "metadata": {},
   "outputs": [],
   "source": [
    "def plot_value_counts_barchart(df_plot, class_key, verbose=False, normalize=False,\n",
    "                               is_custom=False, custom_values=None):\n",
    "    # Grab the value counts, and use custom ones if needed\n",
    "    # e.g. date or categroical group\n",
    "    if is_custom:\n",
    "        df_values = custom_values\n",
    "    else:\n",
    "        df_values = df_plot[class_key].value_counts(normalize=normalize)\n",
    "    \n",
    "    if verbose:\n",
    "        display(df_values)\n",
    "    \n",
    "    # Create the plot ax object\n",
    "    ax = df_values.plot(kind='bar', figsize=(14,8))\n",
    "    \n",
    "    # Set and rotate the labels for better readability \n",
    "#     ax.set_xticklabels(preds, rotation=45, direction=\"in\", rotation_mode=\"anchor\")\n",
    "    ax.tick_params(axis='x', rotation=45, direction=\"in\",)\n",
    "    \n",
    "    # Set the labels\n",
    "    ax.set_xlabel(class_key.capitalize(), fontsize=18)\n",
    "    ax.set_ylabel(\"Frequency\", fontsize=18)\n",
    "    \n",
    "    # Create the title extenstion and then set title\n",
    "    title_ext_norm = \" - Normalized\" if normalize == True else \"\"\n",
    "    ax.set_title(f\"Incident frequency by {class_key.capitalize()}{title_ext_norm}\", fontsize=20)\n",
    "    \n",
    "    plt.show()"
   ]
  },
  {
   "cell_type": "markdown",
   "metadata": {},
   "source": [
    "### State by state \n",
    "We see that CA, TX and FL by far have the most police indcident. If you look at the normalized (so by ratio), chart you see a more even distribution."
   ]
  },
  {
   "cell_type": "code",
   "execution_count": null,
   "metadata": {
    "deletable": false
   },
   "outputs": [],
   "source": [
    "# WSP: Get incident state counts\n",
    "per_state_df = df2.groupby([\"state\"])\n",
    "\n",
    "# Plot state by state count \n",
    "plot_value_counts_barchart(df2, 'state', verbose=False, normalize=False)\n",
    "\n",
    "# Plot state by state count \n",
    "plot_value_counts_barchart(df2, 'state', verbose=False, normalize=True)"
   ]
  },
  {
   "cell_type": "code",
   "execution_count": null,
   "metadata": {},
   "outputs": [],
   "source": [
    "# Get the population of each state from the 2019 Cencus data\n",
    "us_state_abbrev = {\n",
    "    'Alabama': 'AL',\n",
    "    'Alaska': 'AK',\n",
    "    'American Samoa': 'AS',\n",
    "    'Arizona': 'AZ',\n",
    "    'Arkansas': 'AR',\n",
    "    'California': 'CA',\n",
    "    'Colorado': 'CO',\n",
    "    'Connecticut': 'CT',\n",
    "    'Delaware': 'DE',\n",
    "    'District of Columbia': 'DC',\n",
    "    'Florida': 'FL',\n",
    "    'Georgia': 'GA',\n",
    "    'Guam': 'GU',\n",
    "    'Hawaii': 'HI',\n",
    "    'Idaho': 'ID',\n",
    "    'Illinois': 'IL',\n",
    "    'Indiana': 'IN',\n",
    "    'Iowa': 'IA',\n",
    "    'Kansas': 'KS',\n",
    "    'Kentucky': 'KY',\n",
    "    'Louisiana': 'LA',\n",
    "    'Maine': 'ME',\n",
    "    'Maryland': 'MD',\n",
    "    'Massachusetts': 'MA',\n",
    "    'Michigan': 'MI',\n",
    "    'Minnesota': 'MN',\n",
    "    'Mississippi': 'MS',\n",
    "    'Missouri': 'MO',\n",
    "    'Montana': 'MT',\n",
    "    'Nebraska': 'NE',\n",
    "    'Nevada': 'NV',\n",
    "    'New Hampshire': 'NH',\n",
    "    'New Jersey': 'NJ',\n",
    "    'New Mexico': 'NM',\n",
    "    'New York': 'NY',\n",
    "    'North Carolina': 'NC',\n",
    "    'North Dakota': 'ND',\n",
    "    'Northern Mariana Islands':'MP',\n",
    "    'Ohio': 'OH',\n",
    "    'Oklahoma': 'OK',\n",
    "    'Oregon': 'OR',\n",
    "    'Pennsylvania': 'PA',\n",
    "    'Puerto Rico': 'PR',\n",
    "    'Rhode Island': 'RI',\n",
    "    'South Carolina': 'SC',\n",
    "    'South Dakota': 'SD',\n",
    "    'Tennessee': 'TN',\n",
    "    'Texas': 'TX',\n",
    "    'Utah': 'UT',\n",
    "    'Vermont': 'VT',\n",
    "    'Virgin Islands': 'VI',\n",
    "    'Virginia': 'VA',\n",
    "    'Washington': 'WA',\n",
    "    'West Virginia': 'WV',\n",
    "    'Wisconsin': 'WI',\n",
    "    'Wyoming': 'WY'\n",
    "}\n",
    "population_summary = population_df[population_df['STATE']!=0][['NAME','POPESTIMATE2019']]\n",
    "population_summary['abbrev'] = population_summary['NAME'].map(us_state_abbrev)\n",
    "population_summary.set_index('abbrev',inplace=True)"
   ]
  },
  {
   "cell_type": "code",
   "execution_count": null,
   "metadata": {},
   "outputs": [],
   "source": [
    "state_df= pd.concat([population_summary,df2['state'].groupby([df2.state]).agg('count')],axis=1).drop(index='PR')\n",
    "state_df['inc_per_million'] = state_df['state']/state_df['POPESTIMATE2019']*1000000\n",
    "ax = state_df.drop(columns=['NAME','POPESTIMATE2019','state']).plot(kind='bar', figsize=(14,8))\n",
    "ax.tick_params(axis='x', rotation=45, direction=\"in\",)\n",
    "ax.set_xlabel(\"State\", fontsize=18)\n",
    "ax.set_ylabel(\"Number of Incidents per 1M Residents\", fontsize=18)\n",
    "ax.set_title(\"Incidents per 1M Residents by State\", fontsize=22)\n",
    "ax.legend(fontsize=18)\n",
    "plt.show()"
   ]
  },
  {
   "cell_type": "markdown",
   "metadata": {},
   "source": [
    "### Year by year for all incidents\n",
    "There doesn't seem to be a very clear indication that the indicents grew on year to year basis \n",
    "\n",
    "This data was sourced at the 10th month of 2020, so 2020 could at the end of this year also be similar to the previous years"
   ]
  },
  {
   "cell_type": "code",
   "execution_count": null,
   "metadata": {},
   "outputs": [],
   "source": [
    "# Plot state by year \n",
    "df_by_year = df2['date'].groupby([df2.date.dt.year]).agg('count')\n",
    "plot_value_counts_barchart(df2, 'year', is_custom=True, custom_values=df_by_year)"
   ]
  },
  {
   "cell_type": "markdown",
   "metadata": {},
   "source": [
    "### Incidents by race\n",
    "\n",
    "This is the [original classification](https://github.com/washingtonpost/data-police-shootings):\n",
    "race:\n",
    "\n",
    "`race`:\n",
    "- `W`: White, non-Hispanic\n",
    "- `B`: Black, non-Hispanic\n",
    "- `A`: Asian\n",
    "- `N`: Native American\n",
    "- `H`: Hispanic\n",
    "- `O`: Other\n",
    "- `None`: unknown\n",
    "\n",
    "We want add weights the incident based on the actual amount of each race that lives in the US.\n",
    "\n",
    "Used data [from wikipedia](https://en.wikipedia.org/wiki/Race_and_ethnicity_in_the_United_States#Racial_categories):\n",
    "- `W`: 0.601\n",
    "- `B`: 0.134\n",
    "- `A`: 0.059\n",
    "- `N`: 0.013\n",
    "- `H`: 0.185\n",
    "- `O`: 0.008"
   ]
  },
  {
   "cell_type": "code",
   "execution_count": null,
   "metadata": {},
   "outputs": [],
   "source": [
    "# Get weighted values\n",
    "df_by_race = df2['race'].value_counts()\n",
    "display(df_by_race.head())\n",
    "\n",
    "# https://www.worldometers.info/world-population/us-population\n",
    "total_pop = 331002651\n",
    "\n",
    "# Add the weighted race values from wikipedia x populatio\n",
    "race_ratios = pd.Series({\n",
    "    'W': 0.601,\n",
    "    'B': 0.134,\n",
    "    'A': 0.059,\n",
    "    'N': 0.013,\n",
    "    'H': 0.185,\n",
    "    'O': 0.008,\n",
    "}) * total_pop\n",
    "\n",
    "# print(race_ratios)\n",
    "\n",
    "# Divide the indicent counts by their representation amount \n",
    "df_by_race_ratio = (df_by_race/race_ratios) * 100\n",
    "display(df_by_race_ratio.head())\n",
    "\n",
    "\n",
    "# Plot state by race\n",
    "plot_value_counts_barchart(df2, 'race')\n",
    "\n",
    "# Plot state by income\n",
    "# df2.median_household_inc.plot.bar()\n",
    "# plt.show()\n",
    "\n",
    "# Indicent plot by ratio race in US \n",
    "df_by_race_ratio.sort_values(ascending=False, inplace=True)\n",
    "plot_value_counts_barchart(df2, 'Race ratio', is_custom=True, custom_values=df_by_race_ratio)\n",
    "\n"
   ]
  },
  {
   "cell_type": "code",
   "execution_count": null,
   "metadata": {},
   "outputs": [],
   "source": [
    "race_year_df = df2.groupby(['race','year'], as_index=False).count()\n",
    "plt.figure(figsize=(14,8))\n",
    "plt.plot(race_year_df[race_year_df['race']=='A']['year'],race_year_df[race_year_df['race']=='A']['id'], label='Asian')\n",
    "plt.plot(race_year_df[race_year_df['race']=='B']['year'],race_year_df[race_year_df['race']=='B']['id'], label='Black')\n",
    "plt.plot(race_year_df[race_year_df['race']=='W']['year'],race_year_df[race_year_df['race']=='W']['id'], label='White')\n",
    "plt.plot(race_year_df[race_year_df['race']=='N']['year'],race_year_df[race_year_df['race']=='N']['id'], label='Native American')\n",
    "plt.plot(race_year_df[race_year_df['race']=='H']['year'],race_year_df[race_year_df['race']=='H']['id'], label='Hispanic')\n",
    "plt.plot(race_year_df[race_year_df['race']=='O']['year'],race_year_df[race_year_df['race']=='O']['id'], label='Other')\n",
    "plt.plot(race_year_df[race_year_df['race']=='nan']['year'],race_year_df[race_year_df['race']=='nan']['id'], label='Unknown')\n",
    "plt.xlim(2015,2020)\n",
    "plt.xlabel(\"Year\", fontsize=18)\n",
    "plt.ylabel(\"Number of Cases\", fontsize=18)\n",
    "plt.title(\"Changes in Number of Cases for All Racial Groups (2015-2020)\", fontsize=22)\n",
    "plt.legend(fontsize=16)\n",
    "plt.show()"
   ]
  },
  {
   "cell_type": "markdown",
   "metadata": {},
   "source": [
    "### Incidents by age\n"
   ]
  },
  {
   "cell_type": "code",
   "execution_count": null,
   "metadata": {},
   "outputs": [],
   "source": [
    "plt.figure(figsize=(14,8))\n",
    "plt.hist(df2['age'],bins=range(10,100,10))\n",
    "plt.xlabel(\"Age\", fontsize=18)\n",
    "plt.ylabel(\"Incident Count\", fontsize=18)\n",
    "plt.title(\"Distribution of Incidents Among Age Groups\", fontsize=22)\n",
    "plt.show()\n"
   ]
  },
  {
   "cell_type": "markdown",
   "metadata": {},
   "source": [
    "### Creating a mapped visualzation\n",
    "\n",
    "\n",
    "#### The state of our visualizations\n",
    "We create a US map so we can better inspect where these indicents occur. We only just started working with geopandas and all it's required depencies, so our visualizations are not that great yet. We do however plan to make more specific state based visualizations, which we can use to inspect where incidents most occur and determine is a precictor like 'urban' can be of importance.\n",
    "\n",
    "#### Imputing missing coordinates\n",
    "We miss about 600 latitude and longituge points from are dataset, which you can see in this notebook. So for now we did not use the rows with missing coordinates. We do however plan to impute these coordinates by the coordinates we can cross reference from each corresponding city. This means we'll have can reduce these 600 missing coordinates to 0, since no incident has a missing value for city. We plan to use [geopy](https://geopy.readthedocs.io/en/stable/) for this."
   ]
  },
  {
   "cell_type": "code",
   "execution_count": null,
   "metadata": {},
   "outputs": [],
   "source": [
    "# Right way to install geopands in existing conda env\n",
    "# Had to do it with pip, alse needed pip install descartes\n",
    "# https://stackoverflow.com/questions/34427788/how-to-successfully-install-pyproj-and-geopandas\n",
    "import geopandas\n",
    "\n",
    "# Create a new df withouth the rows that miss the required rows for mapping\n",
    "df_wsp_coord_cleared = df2[df2.longitude.notnull()]\n",
    "\n",
    "# A GeoDataFrame needs a shapely object. We use geopandas points_from_xy()\n",
    "# to transform Longitude and Latitude into a list of shapely.Point\n",
    "gdf = geopandas.GeoDataFrame(df_wsp_coord_cleared,\n",
    "                             geometry=geopandas.points_from_xy(df_wsp_coord_cleared.longitude,\n",
    "                                                               df_wsp_coord_cleared.latitude))\n",
    "# Output the results for inspection\n",
    "display(gdf.head())"
   ]
  },
  {
   "cell_type": "code",
   "execution_count": null,
   "metadata": {},
   "outputs": [],
   "source": [
    "# Docs:https://geopandas.org/gallery/create_geopandas_from_pandas.html\n",
    "# Other source:https://jcutrer.com/python/learn-geopandas-plotting-usmaps\n",
    "# https://towardsdatascience.com/geopandas-101-plot-any-data-with-a-latitude-and-longitude-on-a-map-98e01944b972\n",
    "# Get the dataset for the naturalearth_lowres\n",
    "world = geopandas.read_file(geopandas.datasets.get_path('naturalearth_lowres'))\n",
    "\n",
    "# We restrict to US.\n",
    "ax = world[world.name == \"United States of America\"].plot(\n",
    "    color='white', edgecolor='black')\n",
    "\n",
    "# We can now plot our ``GeoDataFrame``.\n",
    "gdf.plot(ax=ax, color='red')\n",
    "\n",
    "# Output our first simple US map\n",
    "plt.show()"
   ]
  },
  {
   "cell_type": "markdown",
   "metadata": {},
   "source": [
    "#### Additional Investigative visualizations\n",
    "\n",
    "Variety of plots attempting to gain further insights into the data\n"
   ]
  },
  {
   "cell_type": "code",
   "execution_count": null,
   "metadata": {},
   "outputs": [],
   "source": [
    "# your code here\n",
    "print(df2.columns)\n",
    "\n",
    "df2.groupby('year').race.value_counts().unstack(0).plot.bar()\n",
    "df2.groupby('year').manner_of_death.value_counts().unstack(0).plot.bar()\n",
    "df2.groupby('year').armed.value_counts().unstack(0).plot.bar()\n",
    "df2.groupby('year').age.value_counts().unstack(0).plot.bar()\n",
    "df2.groupby('year').gender.value_counts().unstack(0).plot.bar()\n",
    "df2.groupby('year').signs_of_mental_illness.value_counts().unstack(0).plot.bar()\n",
    "df2.groupby('year').threat_level.value_counts().unstack(0).plot.bar()\n",
    "df2.groupby('year').flee.value_counts().unstack(0).plot.bar()"
   ]
  },
  {
   "cell_type": "code",
   "execution_count": null,
   "metadata": {},
   "outputs": [],
   "source": [
    "# your code here\n",
    "\n",
    "print(df1.columns)\n",
    "# More groupings \n",
    "df1.groupby('year').geography.value_counts().unstack(0).plot.bar()\n",
    "df1.groupby('year')[\"Victim's gender\"].value_counts().unstack(0).plot.bar()\n",
    "df1.groupby('year')[\"State\"].value_counts().unstack(0).plot.bar()\n",
    "df1.groupby('year')[\"Cause of death\"].value_counts().unstack(0).plot.bar()\n",
    "df1.groupby('year')[\"Alleged Threat Level (Source: WaPo)\"].value_counts().unstack(0).plot.bar()\n",
    "df1.groupby('year')[\"Fleeing (Source: WaPo)\"].value_counts().unstack(0).plot.bar()\n"
   ]
  },
  {
   "cell_type": "code",
   "execution_count": null,
   "metadata": {},
   "outputs": [],
   "source": [
    "# your code here\n",
    "\n",
    "# Calculate correlations\n",
    "corr = df1.corr()\n",
    " \n",
    "# Heatmap\n",
    "sns.heatmap(corr)"
   ]
  },
  {
   "cell_type": "code",
   "execution_count": null,
   "metadata": {
    "deletable": false
   },
   "outputs": [],
   "source": [
    "# your code here\n",
    "\n",
    "# Calculate correlations\n",
    "corr = df2.corr()\n",
    " \n",
    "# Heatmap\n",
    "sns.heatmap(corr)\n"
   ]
  },
  {
   "cell_type": "markdown",
   "metadata": {
    "deletable": false
   },
   "source": [
    "### <div class='exercise'><b>Section 4: Initial Look at Models</b></div>\n",
    "[▲ Return to contents](#Contents)\n",
    "\n",
    "<div class='exercise'>\n",
    "\n",
    "</div>\n",
    "\n"
   ]
  },
  {
   "cell_type": "markdown",
   "metadata": {},
   "source": [
    "*This initial look at the models explores the regression specification for Modified Question #2, evaluated by racial category of police shooting victim*"
   ]
  },
  {
   "cell_type": "code",
   "execution_count": null,
   "metadata": {},
   "outputs": [],
   "source": [
    "# For our model, we need the distribution of racial groups in each state.  \n",
    "# To get this data, we downloaded a CSV file from the following URL,\n",
    "# based on the 2019 estimates by the US Census Bureau.\n",
    "\n",
    "# https://www.kff.org/other/state-indicator/distribution-by-raceethnicity/?currentTimeframe=0&sortModel=%7B%22colId%22:%22Location%22,%22sort%22:%22asc%22%7D "
   ]
  },
  {
   "cell_type": "code",
   "execution_count": null,
   "metadata": {},
   "outputs": [],
   "source": [
    "racial_dist_df = pd.read_csv(f'{data_dir}/raw_data.csv')\n",
    "# Drop US and PR\n",
    "racial_dist_df.drop(index=[0,52], inplace=True)\n",
    "racial_dist_df['state'] = racial_dist_df['Location'].map(us_state_abbrev)\n",
    "racial_dist_df.set_index('state',inplace=True)\n",
    "racial_dist_df = racial_dist_df.replace(np.nan,0)\n",
    "racial_dist_df = racial_dist_df.replace('<.01',0)\n",
    "racial_dist_df['Native Hawaiian/Other Pacific Islander'] = racial_dist_df['Native Hawaiian/Other Pacific Islander'].astype(float)\n",
    "racial_dist_df['other'] = racial_dist_df['Native Hawaiian/Other Pacific Islander'] + racial_dist_df['Multiple Races']\n",
    "racial_dist_df = racial_dist_df.rename(columns={'White':'race_W_ratio', 'Black': 'race_B_ratio', 'Hispanic': 'race_H_ratio', 'Asian': 'race_A_ratio', 'American Indian/Alaska Native': 'race_N_ratio', 'other': 'race_O_ratio'})"
   ]
  },
  {
   "cell_type": "code",
   "execution_count": null,
   "metadata": {},
   "outputs": [],
   "source": [
    "model_df = pd.get_dummies(data=df2[['year','race','state']], columns=['race'])\n",
    "model_df = model_df.groupby(['state','year'], as_index=False).sum()\n",
    "model_df['total_incidents'] = model_df.race_A + model_df.race_B + model_df.race_H + model_df.race_N + model_df.race_O + model_df.race_W + model_df.race_nan\n",
    "model_df = model_df.join(population_summary['POPESTIMATE2019'], on='state')\n",
    "model_df = model_df.join(racial_dist_df[['race_W_ratio','race_B_ratio','race_H_ratio','race_A_ratio','race_N_ratio','race_O_ratio']], on='state')\n",
    "model_df['black_inc_per_pop'] = model_df['race_B'] / (model_df['POPESTIMATE2019'] * model_df['race_B_ratio'])\n",
    "model_df['white_inc_per_pop'] = model_df['race_W'] / (model_df['POPESTIMATE2019'] * model_df['race_W_ratio'])\n",
    "model_df['asian_inc_per_pop'] = model_df['race_A'] / (model_df['POPESTIMATE2019'] * model_df['race_A_ratio'])\n",
    "model_df['native_inc_per_pop'] = model_df['race_N'] / (model_df['POPESTIMATE2019'] * model_df['race_N_ratio'])\n",
    "model_df['hispanic_inc_per_pop'] = model_df['race_H'] / (model_df['POPESTIMATE2019'] * model_df['race_H_ratio'])\n",
    "model_df['other_inc_per_pop'] = model_df['race_O'] / (model_df['POPESTIMATE2019'] * model_df['race_O_ratio'])\n",
    "model_df.head(10)"
   ]
  },
  {
   "cell_type": "code",
   "execution_count": null,
   "metadata": {
    "deletable": false
   },
   "outputs": [],
   "source": [
    "# your code here\n",
    "from linearmodels import PanelOLS\n",
    "import statsmodels.formula.api as smf"
   ]
  },
  {
   "cell_type": "code",
   "execution_count": null,
   "metadata": {},
   "outputs": [],
   "source": [
    "# your code here\n",
    "model_black = smf.ols(formula='black_inc_per_pop ~ 1 + C(state) + C(year)', data = model_df).fit()\n",
    "print(model_black.summary())"
   ]
  },
  {
   "cell_type": "code",
   "execution_count": null,
   "metadata": {
    "deletable": false
   },
   "outputs": [],
   "source": [
    "# your code here\n",
    "model_white = smf.ols(formula='white_inc_per_pop ~ 1 + C(state) + C(year)', data = model_df).fit()\n",
    "print(model_white.summary())"
   ]
  },
  {
   "cell_type": "code",
   "execution_count": null,
   "metadata": {},
   "outputs": [],
   "source": [
    "# your code here\n",
    "model_hispanic = smf.ols(formula='hispanic_inc_per_pop ~ 1 + C(state) + C(year) ', data = model_df).fit()\n",
    "print(model_hispanic.summary())"
   ]
  },
  {
   "cell_type": "code",
   "execution_count": null,
   "metadata": {},
   "outputs": [],
   "source": [
    "# your code here\n",
    "model_otherrace = smf.ols(formula='other_inc_per_pop ~ 1 + C(state) + C(year)', data = model_df).fit()\n",
    "print(model_otherrace.summary())"
   ]
  },
  {
   "cell_type": "markdown",
   "metadata": {
    "button": false,
    "deletable": false,
    "new_sheet": false,
    "run_control": {
     "read_only": false
    }
   },
   "source": [
    "### <div class='exercise'><b>Section 5: Extending The Models Further</b></div>\n",
    "[▲ Return to contents](#Contents)\n",
    "<div class='exercise'>\n",
    "\n",
    "</div>\n"
   ]
  },
  {
   "cell_type": "markdown",
   "metadata": {
    "deletable": false
   },
   "source": [
    "This section will predict race based on the WaPo dataset, using the following methodologies:\n",
    "\n",
    "#### Models\n",
    " * Logistic Regression Baseline Model\n",
    " * Logistirc Regression Lasso Regularized Model with Cross-Validation\n",
    " * Random Forest\n",
    " * Neural Net\n"
   ]
  },
  {
   "cell_type": "code",
   "execution_count": null,
   "metadata": {
    "scrolled": true
   },
   "outputs": [],
   "source": [
    "# do we have any null values?\n",
    "df2.isnull().values.any()\n",
    "print(\"Null values in the Dataset:\")\n",
    "\n",
    "# where are they?\n",
    "for col in df2.columns:\n",
    "    null_count = df2[col].isnull().sum()\n",
    "    print(col, \": \", null_count)\n",
    "    \n",
    "# Only a few missing values, lets drop those\n",
    "df2 = df2.dropna()\n",
    "print(\"\\n\\nModified dataframe shape after dropping NaN:\")\n",
    "display(df2.shape)"
   ]
  },
  {
   "cell_type": "code",
   "execution_count": null,
   "metadata": {},
   "outputs": [],
   "source": [
    "# Preprocessing x variable\n",
    "x=df2.drop(['date', 'id', 'longitude', 'latitude', 'city_lat_long', 'inc_coor_dist_match',\n",
    "            'manner_of_death','armed', 'gender', 'race', 'city', 'state', 'index',\n",
    "            'inc_group', 'median_household_inc', 'urban','threat_level','flee', 'body_camera', \n",
    "            'is_geocoding_exact', 'year'], axis=1)\n",
    "cat_columns = df2[['manner_of_death','armed', 'gender', 'state', 'threat_level','flee',\n",
    "                   'body_camera', 'is_geocoding_exact', 'year', 'race']]\n",
    "cat_onehot = pd.get_dummies(data=cat_columns)\n",
    "'index'\n",
    "x = pd.concat([x.reset_index(drop=True), cat_onehot.reset_index(drop=True)], axis=1)"
   ]
  },
  {
   "cell_type": "code",
   "execution_count": null,
   "metadata": {},
   "outputs": [],
   "source": [
    "# First need to redefine and split the data into train and test sets\n",
    "\n",
    "from sklearn.model_selection import train_test_split\n",
    "from sklearn.linear_model import LogisticRegression\n",
    "from sklearn.metrics import roc_curve, roc_auc_score, accuracy_score\n",
    "\n",
    "from sklearn.inspection import permutation_importance\n",
    "from sklearn.preprocessing import PolynomialFeatures\n",
    "from sklearn.ensemble import RandomForestClassifier\n",
    "\n",
    "\n",
    "# initialize\n",
    "test_size = 0.2\n",
    "random_state=42\n",
    "\n",
    "# set X without response or unused predictors\n",
    "X = x.drop(['race_A', 'race_B', 'race_H', 'race_N', 'race_O', 'race_W', 'race_nan'], axis=1)\n",
    "y = x['race_B']\n",
    "\n",
    "display(X.head())\n",
    "\n",
    "# Split train and test data\n",
    "X_train, X_test, y_train, y_test  = train_test_split(X, \n",
    "                                                     y, \n",
    "                                                     test_size=test_size, \n",
    "                                                     random_state = random_state,\n",
    "                                                     )\n",
    "\n",
    "print(\"Initial Dataframe shape: \", df2.shape)\n",
    "print(\"X_train shape: \", X_train.shape, \"\\nX_test shape: \", X_test.shape, \"\\ny_train shape: \", y_train.shape, \"\\ny_test shape: \", y_test.shape)\n"
   ]
  },
  {
   "cell_type": "code",
   "execution_count": null,
   "metadata": {},
   "outputs": [],
   "source": [
    "# your code here\n",
    "logit = LogisticRegression(penalty=\"none\", max_iter = 1000)\n",
    "logit.fit(X_train, y_train)\n",
    "\n",
    "logit_train_accuracy = logit.score(X_train,y_train)\n",
    "logit_test_accuracy = logit.score(X_test,y_test)\n",
    "\n",
    "print(f\"The train accuracy is {logit_train_accuracy:.2f}%\")\n",
    "print(f\"The test accuracy is {logit_test_accuracy:.2f}%\")"
   ]
  },
  {
   "cell_type": "code",
   "execution_count": null,
   "metadata": {},
   "outputs": [],
   "source": [
    "from sklearn.linear_model import LogisticRegressionCV\n",
    "from sklearn.linear_model import Lasso\n",
    "from sklearn.model_selection import cross_validate\n",
    "\n",
    "Cs = [1e-4, 1e-3, 1e-2, 1e-1, 1, 1e1, 1e2, 1e3, 1e4, 1e6, 1e10]\n",
    "kfold = 5\n",
    "training_error, cross_validation_error, testing_error = [],[],[]\n",
    "\n",
    "# Loop to get different model scores\n",
    "for c in Cs:\n",
    "    logit_lasso = LogisticRegression(C=c, penalty='l1', solver='liblinear')\n",
    "    logit_lasso.fit(X_train, y_train)\n",
    "\n",
    "    logit_lasso_train_accuracy = logit_lasso.score(X_train, y_train)\n",
    "    logit_lasso_test_accuracy = logit_lasso.score(X_test, y_test)\n",
    "\n",
    "    logit_lasso_coefficients = np.hstack(\n",
    "        [logit_lasso.intercept_.reshape(-1, 1), logit_lasso.coef_]\n",
    "    ).T\n",
    "\n",
    "    #Perform cross-validation on the training data with 3 folds and get the mse_scores\n",
    "    acc_score_train = cross_validate(logit_lasso, X_train, y_train, cv=kfold, scoring='accuracy')['test_score']\n",
    "    train_score = logit_lasso.score(X_train, y_train)*100\n",
    "    test_score = logit_lasso.score(X_test, y_test)*100\n",
    "    \n",
    "    #Compute the train and validation MSE\n",
    "    training_error.append(train_score)\n",
    "    testing_error.append(test_score)\n",
    "    \n",
    "    #Compute the mean of the cross validation error and store in list \n",
    "    #Remember to take into account the sign of the MSE metric returned by the cross_validate function \n",
    "    cross_validation_error.append(np.mean(acc_score_train)*100)\n",
    "    \n",
    "    #print(\n",
    "    #\"The regularization parameter C chosen by this model for each class \"\n",
    "    #\"was:\\n\\n\\t{}\\n\\n\"\n",
    "    #\"The accuracy scores for this model are:\"\n",
    "    #\"\\n\\n\\tTrain\\t{:.4f}\\n\\tTest\\t{:.4f}\\n\"\n",
    "    #.format(logit_lasso.C_, logit_lasso_train_accuracy, logit_lasso_test_accuracy)\n",
    "    #)"
   ]
  },
  {
   "cell_type": "code",
   "execution_count": null,
   "metadata": {
    "scrolled": true
   },
   "outputs": [],
   "source": [
    "#The best degree with the highest training accuracy\n",
    "max_train_acc = max(training_error)\n",
    "best_train_c = Cs[training_error.index(max_train_acc)]\n",
    "\n",
    "\n",
    "#The best degree with the highest testing accuracy\n",
    "max_test_acc = max(testing_error)\n",
    "best_test_c = Cs[testing_error.index(max_test_acc)]\n",
    "\n",
    "#The best degree with the lowest cross-validation error\n",
    "max_cross_val_acc = max(cross_validation_error)\n",
    "best_cross_val_c = Cs[cross_validation_error.index(max_cross_val_acc)]\n",
    "\n",
    "print(f\"The best C-value Lasso model using training dataset is c={best_train_c}  with Accuracy of:  {max_train_acc:.2f}%\")\n",
    "print(f\"The best C-value Lasso model using testing dataset is c={best_test_c} with Accuracy of: {max_test_acc:.2f}%\")\n",
    "print(f\"The best C-value Lasso model using cross-validation is c={best_cross_val_c} with Accuracy of: {max_cross_val_acc:.2f}%\")\n",
    "\n",
    "\n",
    "# visualize results using plots\n",
    "fig, ax = plt.subplots(figsize=(12,8))\n",
    "#ax.plot(range(maxdeg), validation_error, label = 'Validation error')\n",
    "plt.title('Accuracy Scores vs. Lasso C Value in Race Prediction Model', fontsize=22)\n",
    "#Plot the cross-validation error with labels\n",
    "ax.plot(Cs, cross_validation_error, '-.', label = 'Cross-Validation error')\n",
    "ax.plot(Cs, training_error, '-.', label = 'Training error')\n",
    "ax.plot(Cs, testing_error, '-.', label = 'Testing error')\n",
    "plt.axvline(Cs[cross_validation_error.index(max(cross_validation_error))], 0, 10, color = 'r', label = f'Max CV acc at C= {Cs[cross_validation_error.index(max(cross_validation_error))]}')\n",
    "\n",
    "# Set the plot labels and legends\n",
    "ax.set_xlabel('C Value', fontsize=18)\n",
    "ax.set_ylabel('Accuracy Score [%]', fontsize=18)\n",
    "ax.set_xscale('log')\n",
    "ax.legend(loc = 'best', fontsize=16)\n",
    "plt.show()"
   ]
  },
  {
   "cell_type": "code",
   "execution_count": null,
   "metadata": {},
   "outputs": [],
   "source": [
    "# def get_perm_imp():\n",
    "# You can use the default number of n_repeats (5) and your estimator's default scorer\n",
    "# To speed up the time it takes to run your permutations, you can try setting n_jobs=-1\n",
    "# to take full advantage of all of your available processor cores.\n",
    "per_imp_train = permutation_importance(logit_lasso, X_train, y_train, \n",
    "                                n_repeats=5, # Default\n",
    "                                scoring='accuracy',\n",
    "                                n_jobs=-1, #Takes as many threads as possible\n",
    "                                random_state=42)\n",
    "\n",
    "# https://scikit-learn.org/0.22/auto_examples/inspection/plot_permutation_importance.html\n",
    "len_data = len(per_imp_train.importances_mean) # Needed for negative indexing\n",
    "sorted_per_imp_index = per_imp_train.importances_mean.argsort()[-10:len_data]\n",
    "\n",
    "# Get the actual mean permutation importance values and their corresponding feature names\n",
    "relat_imp_feat_names = X.columns[sorted_per_imp_index]\n",
    "relat_imp_means = per_imp_train.importances_mean[sorted_per_imp_index].tolist()\n",
    "\n",
    "# Get the plots ready\n",
    "fig, ax = plt.subplots(figsize = (14,8))\n",
    "\n",
    "y_ticks = np.arange(0, len(relat_imp_feat_names))\n",
    "ax.barh(y_ticks, relat_imp_means)\n",
    "ax.set_yticklabels(relat_imp_feat_names, fontsize=18)\n",
    "ax.set_yticks(y_ticks)\n",
    "ax.tick_params(axis=\"x\", labelsize=16)\n",
    "ax.set_xlabel(\"Relative Importance\", fontsize=18)\n",
    "ax.set_title(\"Training Data: Permutation Importances\", fontsize=22)\n",
    "fig.tight_layout()\n",
    "plt.show()"
   ]
  },
  {
   "cell_type": "code",
   "execution_count": null,
   "metadata": {},
   "outputs": [],
   "source": [
    "%%time\n",
    "# your code here\n",
    "\n",
    "# run permutation importance\n",
    "perm_results = permutation_importance(logit_lasso, X_train, y_train, n_jobs=-1)\n",
    "\n",
    "# calculate relative importance of top 10 predictors in descending order\n",
    "relimp10 = np.flip(np.sort(perm_results.importances_mean)[-10:])/perm_results.importances_mean.max()\n",
    "\n",
    "# identify indices of top 10 predictors in descending order\n",
    "relimp10_idx = np.flip(np.argsort(perm_results.importances_mean)[-10:])\n",
    "\n",
    "# identify top 10 predictor names based on sorted top 10 indices\n",
    "relimp10_preds = [X_train.columns[i] for i in relimp10_idx]"
   ]
  },
  {
   "cell_type": "code",
   "execution_count": null,
   "metadata": {},
   "outputs": [],
   "source": [
    "\n",
    "# plot results of top 10 predictors\n",
    "fig, ax = plt.subplots(figsize=(10, 6))\n",
    "\n",
    "plt.title(\n",
    "    \"Top 10 predictors by relative importance\\n\"\n",
    "    \"as identfied using \\\"permutation_importance\\\"\",\n",
    "    fontsize=22,\n",
    ")\n",
    "\n",
    "ax.barh(relimp10_preds[::-1], relimp10[::-1], alpha=0.5)\n",
    "\n",
    "ax.tick_params(labelsize=12)\n",
    "ax.set_xlabel(\"relative feature importance\", fontsize=16)\n",
    "ax.tick_params(axis=\"x\", labelsize=14)\n",
    "ax.tick_params(axis=\"y\", labelsize=14)\n",
    "ax.grid(':', alpha=0.4)\n",
    "        \n",
    "plt.tight_layout()\n",
    "plt.show();"
   ]
  },
  {
   "cell_type": "code",
   "execution_count": null,
   "metadata": {},
   "outputs": [],
   "source": [
    "imp = permutation_importance(logit_lasso, X_train, y_train, n_jobs=-1)\n",
    "\n",
    "imp_sorted_idx = imp.importances_mean.argsort()\n",
    "len_data = len(imp.importances_mean) # Needed for negative indexing\n"
   ]
  },
  {
   "cell_type": "code",
   "execution_count": null,
   "metadata": {},
   "outputs": [],
   "source": [
    "#y_ticks = np.arange(0, 20)\n",
    "#fig, ax = plt.subplots()\n",
    "#ax.barh(y_ticks, imp.importances_mean[imp_sorted_idx[156:166]])\n",
    "#ax.set_yticklabels(X_train.columns[imp_sorted_idx[156:166]])\n",
    "#ax.set_yticks(y_ticks)\n",
    "#ax.set_title(\"Logistic Lasso CV Feature Importance -- Predicting Black Victim of Police Killing\")\n",
    "#ax.set_ylabel('Predictor')\n",
    "#ax.set_xlabel('Relative Feature Importance')\n",
    "#fig.tight_layout()\n",
    "#plt.show()"
   ]
  },
  {
   "cell_type": "code",
   "execution_count": null,
   "metadata": {},
   "outputs": [],
   "source": [
    "# your code here\n",
    "\n",
    "y_pred = logit_lasso.predict(X_train).flatten()\n",
    "# initialize\n",
    "x_plot = X_train['city_density']\n",
    "y_plot = X_train['age']\n",
    "z = y_pred\n",
    "\n",
    "# plot results\n",
    "fig = plt.figure(figsize=(10,8))\n",
    "cm = plt.cm.get_cmap('viridis')\n",
    "scatter = plt.scatter(x_plot, y_plot, c=z, vmin=0, vmax=1, s=35, cmap=cm)\n",
    "#plt.colorbar()\n",
    "plt.title('Prediction using City Density and Age, Top 2 Predictors', fontsize=18)\n",
    "plt.ylabel('Predictor variable: Age', fontsize=18)\n",
    "plt.xlabel('Predictor variable: City Density', fontsize=18)\n",
    "plt.tick_params(labelsize=16)\n",
    "plt.legend(*scatter.legend_elements(), loc='best', fontsize=16)\n",
    "plt.show()\n"
   ]
  },
  {
   "cell_type": "code",
   "execution_count": null,
   "metadata": {},
   "outputs": [],
   "source": [
    "depths = list(range(1, 40))\n",
    "\n",
    "def calc_meanstd(X_train, y_train, depths):\n",
    "    # your code here\n",
    "    \n",
    "    # initialize\n",
    "    cvmeans, cvstds, train_scores, cv_scores= [], [], [], []\n",
    "    \n",
    "    # fit basic decision tree for each depth\n",
    "    for d in depths:\n",
    "        dtree = RandomForestClassifier(max_depth=d)\n",
    "        dtree.fit(X_train,y_train)\n",
    "    \n",
    "        # training accuracy scores\n",
    "        score = dtree.score(X_train, y_train)*100\n",
    "        train_scores.append(score)\n",
    "    \n",
    "        # now check cross validation score\n",
    "        kfold = 5 \n",
    "        cv_score = cross_val_score(dtree, X_train, y_train, cv=kfold, scoring='accuracy')*100\n",
    "\n",
    "        \n",
    "        # create lists for mean and stddev\n",
    "        cvmeans.append(cv_score.mean())\n",
    "        cvstds.append(cv_score.std())\n",
    "    \n",
    "    # set as nparrays for future use\n",
    "    cvmeans = np.array(cvmeans)\n",
    "    cvstds = np.array(cvstds)\n",
    "    \n",
    "    # end of your code here\n",
    "    return cvmeans, cvstds, train_scores\n",
    "\n",
    "cvmeans, cvstds, train_scores= calc_meanstd(X_train, y_train, depths)\n",
    "\n",
    "# now plot\n",
    "fig = plt.figure(figsize=(12,8))\n",
    "plt.plot(depths, cvmeans, '*-', label=\"CV Acc\")\n",
    "plt.fill_between(depths, cvmeans - 2*cvstds, cvmeans + 2*cvstds, alpha=0.3, label='CV +/- 2SD')\n",
    "ylim = plt.ylim()\n",
    "plt.plot(depths, train_scores, '-+', label=\"Train Acc\")\n",
    "plt.vlines(20, 70, 90, color = 'r', label = f'Best Depth')\n",
    "plt.legend(fontsize=12)\n",
    "plt.title(\"Training and Cross Validation Error for Random Forest Decision Tree Model\", fontsize=18)\n",
    "plt.ylabel(\"Accuracy [%]\", fontsize=14)\n",
    "plt.xlabel(\"Decision Tree Max Depth\", fontsize=14)\n",
    "plt.xticks(depths)\n",
    "plt.ylim(70, 90)\n",
    "plt.xlim(1, 40)\n",
    "plt.show()\n"
   ]
  },
  {
   "cell_type": "code",
   "execution_count": null,
   "metadata": {},
   "outputs": [],
   "source": [
    "# initialize\n",
    "tree_depth = 20\n",
    "#seed = 0\n",
    "n_estimators = round(np.sqrt(X_train.shape[1]))\n",
    "\n",
    "random_forest = RandomForestClassifier(max_depth=tree_depth, \n",
    "                                       #random_state=seed,\n",
    "                                       max_features='sqrt',\n",
    "                                       n_estimators=n_estimators)\n",
    "\n",
    "# Fit the model on the training set\n",
    "random_forest.fit(X_train, y_train)\n",
    "\n",
    "# scores\n",
    "random_forest_train_accuracy = random_forest.score(X_train, y_train)\n",
    "random_forest_test_accuracy = random_forest.score(X_test, y_test)\n",
    "\n",
    "# print results\n",
    "print(f'Random Forest Train Accuracy: {random_forest_train_accuracy:.2f}')\n",
    "print(f'Random Forest Test Accuracy: {random_forest_test_accuracy:.2f}')"
   ]
  },
  {
   "cell_type": "code",
   "execution_count": null,
   "metadata": {},
   "outputs": [],
   "source": [
    "# try neural net\n",
    "\n",
    "# couple extra imports\n",
    "from tensorflow import keras\n",
    "from tensorflow.keras import layers\n",
    "from tensorflow.keras import models\n",
    "\n",
    "# initialize\n",
    "# The number of nodes in a hidden layer\n",
    "n_hidden = 10\n",
    "# The number of nodes in the input layer (features)\n",
    "n_input = len(X_train.columns)\n",
    "# The number of nodes in the output layer\n",
    "n_output = 1\n",
    "\n",
    "# First we instantiate a Keras model\n",
    "NN_model = models.Sequential(name='ANN')\n",
    "\n",
    "# Adding Layers\n",
    "NN_model.add(layers.Dense(n_hidden, \n",
    "                          activation='relu', \n",
    "                          input_shape=[n_input,], \n",
    "                          name='hidden1'))\n",
    "NN_model.add(layers.Dense(n_hidden, \n",
    "                          activation='relu',  \n",
    "                          name='hidden2'))\n",
    "\n",
    "# Now add the output layer\n",
    "NN_model.add(layers.Dense(n_output, \n",
    "                          activation='sigmoid',  \n",
    "                          name='output'))\n",
    "\n",
    "# initialize\n",
    "epochs = 50\n",
    "\n",
    "# Compilation\n",
    "NN_model.compile(loss='binary_crossentropy',\n",
    "                 optimizer='adam',\n",
    "                 metrics=['accuracy'])\n",
    "\n",
    "#View model summary\n",
    "#display(NN_model.summary())\n",
    "\n",
    "#Fit the model on the training data\n",
    "history_NN = NN_model.fit(X_train.values, \n",
    "             y_train.values, \n",
    "             epochs=epochs,\n",
    "             verbose=0,\n",
    "             validation_split=0.2)\n",
    "\n",
    "# evaluate\n",
    "NN_train_accuracy = NN_model.evaluate(X_train.values,y_train.values)[1]\n",
    "NN_test_accuracy = NN_model.evaluate(X_test.values,y_test.values)[1]\n",
    "\n",
    "# print results\n",
    "print(f'\\nThe training set accuracy for the model is: {NN_train_accuracy:.2f}%')\n",
    "print(f'The test set accuracy for the model is: {NN_test_accuracy:.2f}%')"
   ]
  },
  {
   "cell_type": "code",
   "execution_count": null,
   "metadata": {},
   "outputs": [],
   "source": [
    "# plot train and val acc as a function of epochs\n",
    "# your code here\n",
    "# Plot the MSE of the model\n",
    "plt.rcParams[\"figure.figsize\"] = (10,8)\n",
    "plt.title(\"Train and Validation Loss as Function of Epochs - Neural Network Model Predicting Black Victim of Police Killing\")\n",
    "plt.semilogy(history_NN.history['loss'], label='Train Loss', color='#FF9A98')\n",
    "plt.semilogy(history_NN.history['val_loss'],  label='Validation Loss', color='#75B594')\n",
    "plt.legend()\n",
    "\n",
    "# Set the axes labels\n",
    "plt.xlabel('Epochs')\n",
    "plt.ylabel('Log MSE Loss')\n",
    "plt.legend()\n",
    "plt.show()"
   ]
  },
  {
   "cell_type": "code",
   "execution_count": null,
   "metadata": {},
   "outputs": [],
   "source": [
    "display(history_NN.history)"
   ]
  },
  {
   "cell_type": "code",
   "execution_count": null,
   "metadata": {},
   "outputs": [],
   "source": [
    "# plot train and val acc as a function of epochs\n",
    "\n",
    "# your code here\n",
    "fig, ax = plt.subplots(1,2,figsize = (16,8))\n",
    "ax[0].plot(history_NN.history['loss'], 'g', alpha=0.5, label='Training Loss')\n",
    "ax[0].plot(history_NN.history['val_loss'], 'darkblue', alpha=0.5, label='Validation Loss')\n",
    "ax[1].plot(history_NN.history['acc'], 'g', alpha=0.5, label='Training Accuracy')\n",
    "ax[1].plot(history_NN.history['val_acc'], 'darkblue', alpha=0.5, label='Validation Accuracy')\n",
    "ax[0].legend(fontsize=16)\n",
    "ax[1].legend(fontsize=16)\n",
    "ax[0].set_xlabel('Epochs', fontsize = 16)\n",
    "ax[0].set_ylabel('Loss', fontsize = 16)\n",
    "ax[0].set_title('Loss Function vs. Epoch', fontsize = 16)\n",
    "ax[1].set_xlabel('Epochs', fontsize = 16)\n",
    "ax[1].set_ylabel('Accuracy %', fontsize = 16)\n",
    "ax[0].set_ylim(0,2)\n",
    "ax[1].set_title('Prediction Accuracy vs. Epoch', fontsize = 18)\n",
    "fig.suptitle('Neural Network Model Predicting Black Victim of Police Killing', fontsize = 22)"
   ]
  },
  {
   "cell_type": "code",
   "execution_count": null,
   "metadata": {},
   "outputs": [],
   "source": [
    "# compare various models\n",
    "acc_dict_train = {'logit': logit_train_accuracy,\n",
    "                #  'polyreg3': polyreg3_train_accuracy,\n",
    "                  'logit_lasso_CV': logit_lasso_train_accuracy,\n",
    "                  'random_forest': random_forest_train_accuracy, \n",
    "                  'neural_network': NN_train_accuracy\n",
    "                 }\n",
    "acc_dict_test = {'logit': logit_test_accuracy,\n",
    "                # 'polyreg3': polyreg3_test_accuracy,\n",
    "                 'logit_lasso_CV': logit_lasso_test_accuracy,\n",
    "                 'random_forest': random_forest_test_accuracy,\n",
    "                 'neural_network': NN_test_accuracy\n",
    "                 }\n",
    "\n",
    "\n",
    "\n",
    "# Look at our projections so far\n",
    "X = np.arange(len(acc_dict_train))\n",
    "\n",
    "fig = plt.figure(figsize=(12,8))\n",
    "plt.scatter(X, acc_dict_train.values(), color='darkblue', label=\"Train Set\", s = 75)\n",
    "plt.scatter(X, acc_dict_test.values(), color='green', label='Test Set', s = 75)\n",
    "\n",
    "plt.title('Test and Train Set Accuracy Scores of Various Models Predicting Black Victim of Police Killing', fontsize=18)\n",
    "plt.axvline(1, 0, 100, color = 'r', label = f'Best Test Model')\n",
    "plt.xlabel('Model', fontsize=16)\n",
    "plt.ylabel('Accuracy Score [%]', fontsize=16)\n",
    "plt.xticks(X, acc_dict_train.keys())\n",
    "plt.tick_params(labelsize=14)\n",
    "plt.ylim(0.74,0.89)\n",
    "plt.legend(fontsize=16)\n",
    "plt.show()"
   ]
  },
  {
   "cell_type": "code",
   "execution_count": null,
   "metadata": {},
   "outputs": [],
   "source": [
    "# your code here\n",
    "# create predicted yhat variables\n",
    "yhat_logit = logit.predict_proba(X_test)[:,1]\n",
    "yhat_logit_lasso = logit_lasso.predict_proba(X_test)[:,1]\n",
    "yhat_rf = random_forest.predict_proba(X_test)[:,1]\n",
    "yhat_NN = NN_model.predict_proba(X_test.values)\n",
    "\n",
    "# \n",
    "fpr_logit, tpr_logit, thresholds_logit = roc_curve(y_test, yhat_logit)\n",
    "fpr_logit_lasso, tpr_logit_lasso, thresholds_logit_lasso = roc_curve(y_test, yhat_logit_lasso)\n",
    "fpr_rf, tpr_rf, thresholds_rf = roc_curve(y_test, yhat_rf)\n",
    "fpr_NN, tpr_NN, thresholds_NN = roc_curve(y_test, yhat_NN)"
   ]
  },
  {
   "cell_type": "code",
   "execution_count": null,
   "metadata": {},
   "outputs": [],
   "source": [
    "# ROC Curve\n",
    "x=np.arange(0,100)/100\n",
    "plt.plot(x,x,'--',color=\"gray\",alpha=0.3)\n",
    "plt.plot(fpr_logit,tpr_logit,label=\"logit\")\n",
    "plt.plot(fpr_logit_lasso,tpr_logit_lasso,label=\"logit_lasso\")\n",
    "plt.plot(fpr_rf,tpr_rf,label=\"random_forest\")\n",
    "plt.plot(fpr_NN,tpr_NN,label=\"neural_network\")\n",
    "plt.ylabel(\"True Positive Rate\", fontsize=16)\n",
    "plt.xlabel(\"False Positive Rate\", fontsize=16)\n",
    "plt.tick_params(labelsize=14)\n",
    "plt.title(\"ROC Curve for Predicting Black Victim of Police Killing Across Various Models\", fontsize=18)\n",
    "plt.legend(fontsize=16)\n",
    "plt.show()"
   ]
  },
  {
   "cell_type": "markdown",
   "metadata": {},
   "source": [
    "### <div class='exercise'><b>Section 6: Other Supporting Models and Analysis</b></div>\n",
    "[▲ Return to contents](#Contents)\n",
    "<div class='exercise'>\n",
    "\n",
    "</div>\n"
   ]
  },
  {
   "cell_type": "markdown",
   "metadata": {},
   "source": [
    "This section will investigate additional models using the Washington Post and the Mapping Police Violence datasets.\n",
    "\n",
    "#### Models\n",
    " * Logistic Regression baseline\n",
    " * Polynomial Features (3rd order) Regression\n",
    " * Lasso Regularized Model\n",
    " * Random Forest\n",
    " * Neural Net\n",
    " \n",
    "#### attempts:\n",
    "1. Predict mental illness based on other WaPo predictors.\n",
    "2. Predict justification of shootings with police violence predictors\n",
    "3. Adjusted model for mentall illness using different predictors\n"
   ]
  },
  {
   "cell_type": "markdown",
   "metadata": {},
   "source": [
    "#### Moving on to Predicting Mental Illness\n",
    "I'm really interested in understanding how mental illness factors into these crimes and subsequent shootings."
   ]
  },
  {
   "cell_type": "code",
   "execution_count": null,
   "metadata": {},
   "outputs": [],
   "source": [
    "display(df2.head())\n",
    "\n",
    "# do we have any null values?\n",
    "df2_encoded = df2.copy()\n",
    "df2_encoded = df2_encoded.dropna()\n",
    "\n",
    "\n",
    "from sklearn.preprocessing import LabelEncoder\n",
    "# preprocess categorical\n",
    "cat_vars = ['manner_of_death','armed', 'gender', 'race', 'city', 'state', 'threat_level', \n",
    "            'flee', 'body_camera', 'is_geocoding_exact', 'urban', 'year', 'inc_group']\n",
    "\n",
    "le = LabelEncoder()\n",
    "mapping = {}\n",
    "\n",
    "# Assigning numerical values and storing in another column\n",
    "for var in cat_vars:\n",
    "    \n",
    "    # transform categorical\n",
    "    df2_encoded[var] = le.fit_transform(df2_encoded[var])\n",
    "    \n",
    "    # verify mappings for later filtering\n",
    "    mapping[var] = dict(zip(le.classes_, le.transform(le.classes_)))\n",
    "\n",
    "# mapping?\n",
    "print(\"Mapping:\")\n",
    "print(mapping)"
   ]
  },
  {
   "cell_type": "code",
   "execution_count": null,
   "metadata": {},
   "outputs": [],
   "source": [
    "# initialize\n",
    "test_size = 0.2\n",
    "random_state=42\n",
    "# columns\n",
    "display(df2_encoded.head())\n",
    "# ['id', 'date', 'manner_of_death', 'armed', 'age', 'gender', 'race', 'city', 'state', 'signs_of_mental_illness', \n",
    "# 'threat_level', 'flee', 'body_camera', 'longitude', 'latitude', 'is_geocoding_exact']\n",
    "\n",
    "# set X without response or unused predictors\n",
    "X = df2_encoded.drop(['id', 'date', 'city', 'signs_of_mental_illness', 'is_geocoding_exact', 'latitude', 'longitude', 'city_lat_long'], axis=1)\n",
    "y = df2_encoded['signs_of_mental_illness']\n",
    "\n",
    "\n",
    "# Split train and test data\n",
    "X_train, X_test, y_train, y_test  = train_test_split(X, \n",
    "                                                     y, \n",
    "                                                     test_size=test_size, \n",
    "                                                     random_state = random_state,\n",
    "                                                     )\n",
    "\n",
    "print(\"Initial Dataframe shape: \", df2_encoded.shape)\n",
    "print(\"X_train shape: \", X_train.shape, \"\\nX_test shape: \", X_test.shape, \"\\ny_train shape: \", y_train.shape, \"\\ny_test shape: \", y_test.shape)\n"
   ]
  },
  {
   "cell_type": "code",
   "execution_count": null,
   "metadata": {},
   "outputs": [],
   "source": [
    "# logistic regression model with L2 ridge regularization\n",
    "logreg = LogisticRegression(penalty='l2',  \n",
    "                            max_iter=2000,\n",
    "                            C=1.0)\n",
    "\n",
    "# fit on scaled training data\n",
    "logreg.fit(X_train,y_train)\n",
    "\n",
    "# Check accuracy score\n",
    "logreg_train_accuracy = logreg.score(X_train, y_train)*100\n",
    "logreg_test_accuracy = logreg.score(X_test, y_test)*100\n",
    "\n",
    "# Print results\n",
    "print(\"Ridge Model Accuracy Results:\")\n",
    "print(f'  Logisitic Train Accuracy: {logreg_train_accuracy:.2f}%')\n",
    "print(f'  Logisitic Test Accuracy: {logreg_test_accuracy:.2f}%')"
   ]
  },
  {
   "cell_type": "code",
   "execution_count": null,
   "metadata": {},
   "outputs": [],
   "source": [
    "# find predictors\n",
    "importance = permutation_importance(logreg,\n",
    "                                    X_train,\n",
    "                                    y_train,\n",
    "                                    n_repeats=5\n",
    "                                   )\n",
    "\n",
    "# take top 10\n",
    "#importance = np.sort(importance)[:10]\n",
    "cols = X.columns\n",
    "\n",
    "# summarize feature importance\n",
    "#for i,v in enumerate(importance.importances_mean):\n",
    "#    print(f'Feature {i}: {cols[i]}   Score: {v:.4f}')\n",
    "\n",
    "# plot feature importance\n",
    "fig = plt.figure(figsize=(10,8))\n",
    "plt.bar([x for x in range(len(importance.importances_mean))], importance.importances_mean, color='darkblue', label='all predictors')\n",
    "plt.title('Logistic Regression Feature Importance', fontsize=22)\n",
    "plt.xticks(np.arange(len(cols)), cols, rotation=45, horizontalalignment='right')\n",
    "plt.ylabel('Importance', fontsize=16)\n",
    "plt.xlabel('Predictors', fontsize=16)\n",
    "plt.tick_params(labelsize=14)\n",
    "plt.legend()\n",
    "plt.show()"
   ]
  },
  {
   "cell_type": "code",
   "execution_count": null,
   "metadata": {},
   "outputs": [],
   "source": [
    "# predict using test set\n",
    "y_pred_test = logreg.predict(X_test)\n",
    "y_pred_wh = logreg.predict(X_test[y_test==0])\n",
    "y_pred_bl = logreg.predict(X_test[y_test==1])\n",
    "\n",
    "# get performance by class\n",
    "print('\\nOverall Test Set Performance')\n",
    "cm1 = pd.crosstab(y_test, \n",
    "                  y_pred_test, \n",
    "                  margins=True, \n",
    "                  rownames=['Actual'], \n",
    "                  colnames=['Predicted'])\n",
    "display(cm1)"
   ]
  },
  {
   "cell_type": "code",
   "execution_count": null,
   "metadata": {},
   "outputs": [],
   "source": [
    "# Try polynomial features up to 3rd order polynomials\n",
    "degree = 3\n",
    "\n",
    "# define data\n",
    "X_train_poly = PolynomialFeatures(degree=degree,\n",
    "                                  include_bias=False).fit_transform(X_train)\n",
    "X_test_poly = PolynomialFeatures(degree=degree,\n",
    "                                 include_bias=False).fit_transform(X_test)\n",
    "# fit model\n",
    "polyreg3 = LogisticRegression(penalty='none', \n",
    "                              max_iter = 5000).fit(X_train_poly, y_train)\n",
    "\n",
    "# Check accuracy score\n",
    "polyreg3_train_accuracy = polyreg3.score(X_train_poly, y_train)*100\n",
    "polyreg3_test_accuracy = polyreg3.score(X_test_poly, y_test)*100\n",
    "\n",
    "# Print results\n",
    "print(\"Polynomial Features Logistic Regression Model Accuracy Results:\")\n",
    "print(f'  Logisitic Train Accuracy with 3rd Order Polynomial Features: {polyreg3_train_accuracy:.2f}%')\n",
    "print(f'  Logisitic Test Accuracy with 3rd Order Polynomial Features: {polyreg3_test_accuracy:.2f}%')"
   ]
  },
  {
   "cell_type": "code",
   "execution_count": null,
   "metadata": {},
   "outputs": [],
   "source": [
    "# Try Regularized Model\n",
    "# Best model based on cross validation accuracy\n",
    "c = 1\n",
    "\n",
    "# generate model\n",
    "logit_lasso = LogisticRegression(C=c, \n",
    "                                 penalty='l1', \n",
    "                                 solver='saga', \n",
    "                                 max_iter = 5000).fit(X_train, y_train)\n",
    "\n",
    "#Perfromance Evaluation\n",
    "logit_lasso_train_accuracy = logit_lasso.score(X_train, y_train)*100\n",
    "logit_lasso_test_accuracy = logit_lasso.score(X_test, y_test)*100\n",
    "\n",
    "# Beta Values\n",
    "intercept = logit_lasso.intercept_[0]\n",
    "betas = logit_lasso.coef_[0]\n",
    "\n",
    "# Print results\n",
    "print(\"Best (C=100) Lasso Model Estimated Coefficients:\")\n",
    "print(f'Intercept: {intercept:.4f}')\n",
    "#for idx, val in enumerate(betas):\n",
    "    #print(f'Beta {idx+1} value: {val:.4f}')\n",
    "print(f'Best Lasso Train Accuracy: {logit_lasso_train_accuracy:.2f}%')\n",
    "print(f'Best Lasso Test Accuracy: {logit_lasso_test_accuracy:.2f}%')"
   ]
  },
  {
   "cell_type": "code",
   "execution_count": null,
   "metadata": {},
   "outputs": [],
   "source": [
    "# initialize\n",
    "tree_depth = 10\n",
    "seed = 0\n",
    "n_estimators = 55\n",
    "\n",
    "random_forest = RandomForestClassifier(max_depth=tree_depth, \n",
    "                                       #random_state=seed,\n",
    "                                       max_features='sqrt',\n",
    "                                       n_estimators=n_estimators)\n",
    "\n",
    "# Fit the model on the training set\n",
    "random_forest.fit(X_train, y_train)\n",
    "\n",
    "# scores\n",
    "random_forest_train_accuracy = random_forest.score(X_train, y_train)*100\n",
    "random_forest_test_accuracy = random_forest.score(X_test, y_test)*100\n",
    "\n",
    "# print results\n",
    "print(f'Random Forest Train Accuracy: {random_forest_train_accuracy:.2f}%')\n",
    "print(f'Random Forest Test Accuracy: {random_forest_test_accuracy:.2f}%')"
   ]
  },
  {
   "cell_type": "code",
   "execution_count": null,
   "metadata": {},
   "outputs": [],
   "source": [
    "# try neural net\n",
    "\n",
    "# couple extra imports\n",
    "from tensorflow import keras\n",
    "from tensorflow.keras import layers\n",
    "from tensorflow.keras import models\n",
    "\n",
    "# initialize\n",
    "# The number of nodes in a hidden layer\n",
    "n_hidden = 15\n",
    "# The number of nodes in the input layer (features)\n",
    "n_input = len(X_train.columns)\n",
    "# The number of nodes in the output layer\n",
    "n_output = 1\n",
    "\n",
    "# First we instantiate a Keras model\n",
    "NN_model = models.Sequential(name='ANN')\n",
    "\n",
    "# Adding Layers\n",
    "NN_model.add(layers.Dense(n_hidden, \n",
    "                          activation='relu', \n",
    "                          input_shape=[n_input,], \n",
    "                          name='hidden1'))\n",
    "NN_model.add(layers.Dense(n_hidden, \n",
    "                          activation='relu',  \n",
    "                          name='hidden2'))\n",
    "\n",
    "# Now add the output layer\n",
    "NN_model.add(layers.Dense(n_output, \n",
    "                          activation='sigmoid',  \n",
    "                          name='output'))\n",
    "\n",
    "# initialize\n",
    "epochs = 200\n",
    "\n",
    "# Compilation\n",
    "NN_model.compile(loss='binary_crossentropy',\n",
    "                 optimizer='adam',\n",
    "                 metrics=['accuracy'])\n",
    "\n",
    "#View model summary\n",
    "display(NN_model.summary())\n",
    "\n",
    "#Fit the model on the training data\n",
    "NN_model.fit(X_train, \n",
    "             y_train, \n",
    "             epochs=epochs,\n",
    "             verbose=0,\n",
    "             validation_split=0.2)\n",
    "\n",
    "# evaluate\n",
    "NN_train_accuracy = NN_model.evaluate(X_train,y_train)[1]*100\n",
    "NN_test_accuracy = NN_model.evaluate(X_test,y_test)[1]*100\n",
    "\n",
    "# print results\n",
    "print(f'\\nThe training set accuracy for the model is: {NN_train_accuracy:.2f}%')\n",
    "print(f'The test set accuracy for the model is: {NN_test_accuracy:.2f}%')"
   ]
  },
  {
   "cell_type": "code",
   "execution_count": null,
   "metadata": {},
   "outputs": [],
   "source": [
    "# compare various models\n",
    "acc_dict_train = {'logreg': logreg_train_accuracy,\n",
    "                  'polyreg3': polyreg3_train_accuracy,\n",
    "                  'logit_lasso': logit_lasso_train_accuracy,\n",
    "                  'random_forest': random_forest_train_accuracy, \n",
    "                  'neural_network': NN_train_accuracy\n",
    "                 }\n",
    "acc_dict_test = {'logreg': logreg_test_accuracy,\n",
    "                 'polyreg3': polyreg3_test_accuracy,\n",
    "                 'logit_lasso': logit_lasso_test_accuracy,\n",
    "                 'random_forest': random_forest_test_accuracy,\n",
    "                 'neural_network': NN_test_accuracy\n",
    "                 }\n",
    "\n",
    "\n",
    "# Look at our projections so far\n",
    "X = np.arange(len(acc_dict_train))\n",
    "\n",
    "fig = plt.figure(figsize=(12,8))\n",
    "plt.plot(X, acc_dict_train.values(), '--.', color='g', label=\"Training\")\n",
    "plt.plot(X, acc_dict_test.values(), '--.', color='darkblue', label='Testing')\n",
    "plt.title('Predicting Mental Health Issues using All Fatal Police Shooting Predictors', fontsize=20)\n",
    "plt.axvline(0, 0, 100, color = 'r', label = f'Best Test Model')\n",
    "plt.xlabel('Model', fontsize=16)\n",
    "plt.ylabel('Accuracy Score [%]', fontsize=16)\n",
    "plt.tick_params(labelsize=14)\n",
    "plt.xticks(X, acc_dict_train.keys())\n",
    "plt.ylim(55,85)\n",
    "plt.legend(fontsize=16)\n",
    "plt.show()"
   ]
  },
  {
   "cell_type": "markdown",
   "metadata": {},
   "source": [
    "### Attempt 2\n",
    "\n",
    "#### Predicting Justification of Violence by Race \n",
    "All of the above models were marginal at best, displaying no clear relationship between predictors and race"
   ]
  },
  {
   "cell_type": "code",
   "execution_count": null,
   "metadata": {},
   "outputs": [],
   "source": [
    "# preprocess categorical\n",
    "\n",
    "cat_vars = [\"Victim's gender\",\"Victim's race\", 'State', 'Cause of death', \n",
    "            'Official disposition of death (justified or other)', 'Criminal Charges?', 'Symptoms of mental illness?', \n",
    "            'Unarmed/Did Not Have an Actual Weapon', 'Alleged Weapon', 'Alleged Threat Level (Source: WaPo)', \n",
    "            'Fleeing (Source: WaPo)', 'Body Camera (Source: WaPo)', 'geography', 'year']\n",
    "\n",
    "le = LabelEncoder()\n",
    "mapping = {}\n",
    "\n",
    "# Assigning numerical values and storing in another column\n",
    "for var in cat_vars:\n",
    "    \n",
    "    # transform categorical\n",
    "    df1[var] = le.fit_transform(df1[var])\n",
    "    \n",
    "    # verify mappings for later filtering\n",
    "    mapping[var] = dict(zip(le.classes_, le.transform(le.classes_)))\n",
    "\n",
    "# mapping?\n",
    "print(\"Mapping:\")\n",
    "print(mapping)"
   ]
  },
  {
   "cell_type": "code",
   "execution_count": null,
   "metadata": {},
   "outputs": [],
   "source": [
    "# initialize\n",
    "test_size = 0.2\n",
    "random_state=42\n",
    "\n",
    "# columns\n",
    "# ['Victim's age', 'Victim's gender', 'Victim's race', 'Date of Incident (month/day/year)', 'City', 'State', \n",
    "#'Zipcode', 'County', 'Agency responsible for death', 'Cause of death', \n",
    "# 'Official disposition of death (justified or other)', 'Criminal Charges?', 'Symptoms of mental illness?', \n",
    "#'Unarmed/Did Not Have an Actual Weapon', 'Alleged Weapon', 'Alleged Threat Level (Source: WaPo)', \n",
    "#'Fleeing (Source: WaPo)', 'Body Camera (Source: WaPo)', 'WaPo ID (If included in WaPo database)', \n",
    "#'geography', 'MPV ID', 'Fatal Encounters ID', 'Criminal Charges?_bool', 'Symptoms of mental illness?_bool', \n",
    "#'Unarmed/Did Not Have an Actual Weapon_bool', 'Fleeing (Source: WaPo)_bool', 'Body Camera (Source: WaPo)_bool', 'year']\n",
    "\n",
    "# set X without response or unused predictors\n",
    "X = df1.drop(['Date of Incident (month/day/year)', 'City', 'Zipcode', 'County', 'Agency responsible for death', \n",
    "              'WaPo ID (If included in WaPo database)', 'MPV ID', 'Fatal Encounters ID', \n",
    "              'Official disposition of death (justified or other)'], axis=1)\n",
    "y = df1['Official disposition of death (justified or other)']\n",
    "\n",
    "\n",
    "# Split train and test data\n",
    "X_train, X_test, y_train, y_test  = train_test_split(X, \n",
    "                                                     y, \n",
    "                                                     test_size=test_size, \n",
    "                                                     random_state = random_state,\n",
    "                                                     stratify=df1[\"Victim's race\"]\n",
    "                                                     )\n",
    "\n",
    "print(\"Initial Dataframe shape: \", df1.shape)\n",
    "print(\"X_train shape: \", X_train.shape, \"\\nX_test shape: \", X_test.shape, \"\\ny_train shape: \", y_train.shape, \"\\ny_test shape: \", y_test.shape)"
   ]
  },
  {
   "cell_type": "code",
   "execution_count": null,
   "metadata": {},
   "outputs": [],
   "source": [
    "# logistic regression model with L2 ridge regularization\n",
    "logreg = LogisticRegression(penalty='l2',  \n",
    "                            max_iter=2000,\n",
    "                            C=1.0)\n",
    "\n",
    "# fit on scaled training data\n",
    "logreg.fit(X_train,y_train)\n",
    "\n",
    "# Check accuracy score\n",
    "logreg_train_accuracy = logreg.score(X_train, y_train)*100\n",
    "logreg_test_accuracy = logreg.score(X_test, y_test)*100\n",
    "\n",
    "# Print results\n",
    "print(\"Ridge Model Accuracy Results:\")\n",
    "print(f'  Logisitic Train Accuracy: {logreg_train_accuracy:.2f}%')\n",
    "print(f'  Logisitic Test Accuracy: {logreg_test_accuracy:.2f}%')"
   ]
  },
  {
   "cell_type": "code",
   "execution_count": null,
   "metadata": {},
   "outputs": [],
   "source": [
    "# find predictors\n",
    "importance = permutation_importance(logreg,\n",
    "                                    X_train,\n",
    "                                    y_train,\n",
    "                                    n_repeats=5\n",
    "                                   )\n",
    "\n",
    "# take top 10\n",
    "#importance = np.sort(importance)[:10]\n",
    "cols = X_train.columns\n",
    "\n",
    "# summarize feature importance\n",
    "#for i,v in enumerate(importance.importances_mean):\n",
    "#    print(f'Feature {i}: {cols[i]}   Score: {v:.4f}')\n",
    "\n",
    "# plot feature importance\n",
    "fig = plt.figure(figsize=(10,8))\n",
    "plt.bar([x for x in range(len(importance.importances_mean))], importance.importances_mean, color='darkblue', label='all predictors')\n",
    "plt.title('Logistic Regression Feature Importance', fontsize=22)\n",
    "plt.xticks(np.arange(len(cols)), cols, rotation=45, horizontalalignment='right')\n",
    "plt.ylabel('Importance', fontsize=16)\n",
    "plt.xlabel('Predictors', fontsize=16)\n",
    "plt.legend(fontsize=16)\n",
    "plt.show()"
   ]
  },
  {
   "cell_type": "code",
   "execution_count": null,
   "metadata": {},
   "outputs": [],
   "source": [
    "# predict using test set\n",
    "y_pred_test = logreg.predict(X_test)\n",
    "\n",
    "\n",
    "# get performance by class\n",
    "print('\\nOverall Test Set Performance')\n",
    "cm1 = pd.crosstab(y_test, \n",
    "                  y_pred_test, \n",
    "                  margins=True, \n",
    "                  rownames=['Actual'], \n",
    "                  colnames=['Predicted'])\n",
    "display(cm1)"
   ]
  },
  {
   "cell_type": "code",
   "execution_count": null,
   "metadata": {},
   "outputs": [],
   "source": [
    "# Try polynomial features up to 3rd order polynomials\n",
    "degree = 3\n",
    "\n",
    "# define data\n",
    "X_train_poly = PolynomialFeatures(degree=degree,\n",
    "                                  include_bias=False).fit_transform(X_train)\n",
    "X_test_poly = PolynomialFeatures(degree=degree,\n",
    "                                 include_bias=False).fit_transform(X_test)\n",
    "# fit model\n",
    "polyreg3 = LogisticRegression(penalty='none', \n",
    "                              max_iter = 5000).fit(X_train_poly, y_train)\n",
    "\n",
    "# Check accuracy score\n",
    "polyreg3_train_accuracy = polyreg3.score(X_train_poly, y_train)*100\n",
    "polyreg3_test_accuracy = polyreg3.score(X_test_poly, y_test)*100\n",
    "\n",
    "# Print results\n",
    "print(\"Polynomial Features Logistic Regression Model Accuracy Results:\")\n",
    "print(f'  Logisitic Train Accuracy with 3rd Order Polynomial Features: {polyreg3_train_accuracy:.2f}%')\n",
    "print(f'  Logisitic Test Accuracy with 3rd Order Polynomial Features: {polyreg3_test_accuracy:.2f}%')"
   ]
  },
  {
   "cell_type": "code",
   "execution_count": null,
   "metadata": {},
   "outputs": [],
   "source": [
    "# Try Regularized Model\n",
    "c = 1\n",
    "\n",
    "# generate model\n",
    "logit_lasso = LogisticRegression(C=c, \n",
    "                                 penalty='l1', \n",
    "                                 solver='saga', \n",
    "                                 max_iter = 2000).fit(X_train, y_train)\n",
    "\n",
    "#Perfromance Evaluation\n",
    "logit_lasso_train_accuracy = logit_lasso.score(X_train, y_train)*100\n",
    "logit_lasso_test_accuracy = logit_lasso.score(X_test, y_test)*100\n",
    "\n",
    "# Beta Values\n",
    "intercept = logit_lasso.intercept_[0]\n",
    "betas = logit_lasso.coef_[0]\n",
    "\n",
    "# Print results\n",
    "print(\"Best (C=100) Lasso Model Estimated Coefficients:\")\n",
    "print(f'Intercept: {intercept:.4f}')\n",
    "#for idx, val in enumerate(betas):\n",
    "    #print(f'Beta {idx+1} value: {val:.4f}')\n",
    "print(f'Best Lasso Train Accuracy: {logit_lasso_train_accuracy:.2f}%')\n",
    "print(f'Best Lasso Test Accuracy: {logit_lasso_test_accuracy:.2f}%')"
   ]
  },
  {
   "cell_type": "code",
   "execution_count": null,
   "metadata": {},
   "outputs": [],
   "source": [
    "# initialize\n",
    "tree_depth = 10\n",
    "seed = 0\n",
    "n_estimators = 55\n",
    "\n",
    "random_forest = RandomForestClassifier(max_depth=tree_depth, \n",
    "                                       #random_state=seed,\n",
    "                                       max_features='sqrt',\n",
    "                                       n_estimators=n_estimators)\n",
    "\n",
    "# Fit the model on the training set\n",
    "random_forest.fit(X_train, y_train)\n",
    "\n",
    "# scores\n",
    "random_forest_train_accuracy = random_forest.score(X_train, y_train)*100\n",
    "random_forest_test_accuracy = random_forest.score(X_test, y_test)*100\n",
    "\n",
    "# print results\n",
    "print(f'Random Forest Train Accuracy: {random_forest_train_accuracy:.2f}%')\n",
    "print(f'Random Forest Test Accuracy: {random_forest_test_accuracy:.2f}%')"
   ]
  },
  {
   "cell_type": "code",
   "execution_count": null,
   "metadata": {},
   "outputs": [],
   "source": [
    "# compare various models\n",
    "acc_dict_train = {'logreg': logreg_train_accuracy,\n",
    "                  'polyreg3': polyreg3_train_accuracy,\n",
    "                  'logit_lasso': logit_lasso_train_accuracy,\n",
    "                  'random_forest': random_forest_train_accuracy, \n",
    "                  #'neural_network': NN_train_accuracy\n",
    "                 }\n",
    "acc_dict_test = {'logreg': logreg_test_accuracy,\n",
    "                 'polyreg3': polyreg3_test_accuracy,\n",
    "                 'logit_lasso': logit_lasso_test_accuracy,\n",
    "                 'random_forest': random_forest_test_accuracy,\n",
    "                 #'neural_network': NN_test_accuracy\n",
    "                 }\n",
    "\n",
    "\n",
    "# Look at our projections so far\n",
    "X = np.arange(len(acc_dict_train))\n",
    "\n",
    "fig = plt.figure(figsize=(12,8))\n",
    "plt.plot(X, acc_dict_train.values(), '--.', color='g', label=\"Training\")\n",
    "plt.plot(X, acc_dict_test.values(), '--.', color='darkblue', label='Testing')\n",
    "plt.title('Predicting Judicial Outcome of Whether Killing Was Justified', fontsize=22)\n",
    "plt.axvline(3, 0, 100, color = 'r', label = f'Best Test Model')\n",
    "plt.xlabel('Model', fontsize=16)\n",
    "plt.ylabel('Accuracy Score [%]', fontsize=16)\n",
    "plt.tick_params(labelsize=14)\n",
    "plt.xticks(X, acc_dict_train.keys())\n",
    "plt.ylim(60,85)\n",
    "plt.legend(fontsize=16)\n",
    "plt.show()"
   ]
  },
  {
   "cell_type": "markdown",
   "metadata": {},
   "source": [
    "### Attempt 3\n",
    "\n",
    "#### One more Model attempting to predict Mental Illness\n",
    "New model using different predictors to attempt to make better predictions for mental illness"
   ]
  },
  {
   "cell_type": "code",
   "execution_count": null,
   "metadata": {},
   "outputs": [],
   "source": [
    "races_keep = ['B']\n",
    "df2['is_african_american'] = df2['race'].isin(races_keep).astype(np.int8)\n",
    "df2['is_african_american'].value_counts()\n",
    "\n",
    "df3 = df2.drop(['date', 'longitude', 'latitude', 'city',\n",
    "                'index', 'id', 'state', 'inc_coor_dist_match', \n",
    "                'is_geocoding_exact','year', 'race', 'city_lat_long'], axis=1)\n",
    "\n",
    "df3.head()"
   ]
  },
  {
   "cell_type": "code",
   "execution_count": null,
   "metadata": {},
   "outputs": [],
   "source": [
    "nan_row_stats(df3)\n",
    "nan_vals_stats(df3)"
   ]
  },
  {
   "cell_type": "code",
   "execution_count": null,
   "metadata": {},
   "outputs": [],
   "source": [
    "# Drop null values\n",
    "df4 = df3.dropna()\n",
    "nan_vals_stats(df4)"
   ]
  },
  {
   "cell_type": "code",
   "execution_count": null,
   "metadata": {},
   "outputs": [],
   "source": [
    "# Custom one hot encoding function for non numerical columns/features\n",
    "def one_hot_encode(df_one_hot, cols, drop_orig = False, force_lc = False, output_stats = True):\n",
    "    encoded_cols_added = 0\n",
    "    amount_cols_before = len(df_one_hot.columns)\n",
    "    \n",
    "    for col in cols:\n",
    "        dummies = pd.get_dummies(df_one_hot[col], prefix=col)\n",
    "        print(f\"Predictor '{col}' has {len(dummies.columns)} categories added\")\n",
    "        df_one_hot = pd.concat([df_one_hot, dummies], axis=1)\n",
    "        encoded_cols_added += len(dummies.columns)\n",
    "    \n",
    "    # Drop original columns\n",
    "    if drop_orig:\n",
    "        df_one_hot = df_one_hot.drop(cols, axis=1)\n",
    "    \n",
    "    # Output changes made\n",
    "    if output_stats:\n",
    "        print(f\"Dropped original -> {drop_orig}\")\n",
    "        print(f\"Added {encoded_cols_added} one hot encoded cols.\")\n",
    "        print(f\"Started with {amount_cols_before} to a total of {len(df_one_hot.columns)} columns\")\n",
    "    \n",
    "    # Lowercase all columns if required\n",
    "    if force_lc:\n",
    "        df_one_hot.columns= df_one_hot.columns.str.lower()\n",
    "    \n",
    "    return df_one_hot"
   ]
  },
  {
   "cell_type": "code",
   "execution_count": null,
   "metadata": {},
   "outputs": [],
   "source": [
    "# Categorical variables to process\n",
    "cat_vars = ['manner_of_death','armed', 'gender', \n",
    "            'threat_level', 'flee', 'body_camera', 'urban']\n",
    "\n",
    "\n",
    "# Enocde all the data\n",
    "encoded_df = one_hot_encode(df4, cat_vars, drop_orig = True, force_lc = True)\n",
    "\n",
    "# Validate data mutation and output the rest\n",
    "display(encoded_df.head())"
   ]
  },
  {
   "cell_type": "markdown",
   "metadata": {},
   "source": [
    "### Create model data"
   ]
  },
  {
   "cell_type": "code",
   "execution_count": null,
   "metadata": {},
   "outputs": [],
   "source": [
    "# Grab predictors, response and stratify variable\n",
    "X = encoded_df.drop('signs_of_mental_illness', axis=1)\n",
    "y = encoded_df[['signs_of_mental_illness']]\n",
    "\n",
    "# Create series to make sure is_african_american and mental_illness are stratified\n",
    "# https://stackoverflow.com/a/51525992/8970591\n",
    "strat_mental_health_aa = encoded_df['signs_of_mental_illness'].astype(str) + \\\n",
    "                         encoded_df['is_african_american'].astype(str)\n",
    "\n",
    "\n",
    "\n",
    "# Split the data 70/30\n",
    "X_train, X_test, y_train, y_test = train_test_split(X, y, test_size=0.30, \n",
    "                                                    stratify=strat_mental_health_aa,\n",
    "                                                    random_state=42)\n",
    "\n",
    "\n",
    "# Lastly output the shapes for validation\n",
    "print(\"Shape all data:\")\n",
    "print(encoded_df.shape)\n",
    "\n",
    "print(\"\\nShape X_train and y_train:\")\n",
    "print(X_train.shape, y_train.shape)\n",
    "\n",
    "print(\"\\nShape X_test and y_test:\")\n",
    "print(X_test.shape, y_test.shape)"
   ]
  },
  {
   "cell_type": "code",
   "execution_count": null,
   "metadata": {},
   "outputs": [],
   "source": [
    "# Re-usable function to output the model's coefficents and intercept\n",
    "def output_model_coef(model, predictors, reg_type = \"Logisitc\"):\n",
    "    # Get the coefficient estimates\n",
    "    for i in range(len(predictors)):\n",
    "        if i == 0:\n",
    "            print(f\"{reg_type} Regression est. B0 (Intercept): {model.intercept_[0]:.4f}\")\n",
    "\n",
    "        coef_val = model.coef_.flat[i]\n",
    "        print(f\"{reg_type} Regression est. B{i + 1} ({predictors[i]}): {coef_val:.4f}\")"
   ]
  },
  {
   "cell_type": "code",
   "execution_count": null,
   "metadata": {},
   "outputs": [],
   "source": [
    "# Values to use\n",
    "Cs = [1e-4,1e-3,1e-2,1e-1,1e0,1e1,1e2,1e3,1e4]\n",
    "penalty = 'l1' # l1 -> L1 -> LASSO\n",
    "solver = 'liblinear' # -> You will get warning because LASSO can only work with this solver\n",
    "folds = 3\n",
    "\n",
    "# Fit a well-tuned Lasso-like logistic regression model from all 12 predictors in it\n",
    "# The default scoring option used is accuracy_score\n",
    "# Source: https://scikit-learn.org/stable/modules/generated/sklearn.linear_model.LogisticRegressionCV.html\n",
    "logit_lasso = LogisticRegressionCV(\n",
    "    Cs=Cs, cv=folds, penalty=penalty, solver='liblinear'\n",
    ").fit(X_train, y_train)\n",
    "\n",
    "# Print out the coefficient estimates\n",
    "output_model_coef(logit_lasso, X.columns, \"Lasso-like Logistic Regression\")\n",
    "\n",
    "# Get the classification scores\n",
    "logit_lasso_train_score = logit_lasso.score(X_train, y_train) * 100\n",
    "logit_lasso_test_score = logit_lasso.score(X_test, y_test) * 100\n",
    "\n",
    "# Add a new line for better readability of the output\n",
    "print(\"\\n\")\n",
    "\n",
    "# Report the classification accuracy on train and test for this model.\n",
    "print(f\"Training Set Accuracy Lasso-like Logistic Regression full: {logit_lasso_train_score:.4f}%\")\n",
    "print(f\"Testing Set Accuracy Lasso-like Logistic Regression full: {logit_lasso_test_score:.4f}%\")"
   ]
  },
  {
   "cell_type": "code",
   "execution_count": null,
   "metadata": {},
   "outputs": [],
   "source": [
    "# Custom function to visualize importance predictors\n",
    "def preds_importance_barchart(lasso_coef, preds):\n",
    "    # Create a bar chart to visualize importance of our scaled predictors\n",
    "    fig, ax = plt.subplots(figsize = (14,6),facecolor='w')\n",
    "\n",
    "    ax.bar(np.arange(lasso_coef.size), lasso_coef)\n",
    "    ax.set_xticks(np.arange(len(preds)))\n",
    "    ax.set_xticklabels(preds,  rotation=45, ha=\"right\", rotation_mode=\"anchor\")\n",
    "\n",
    "    # Add the labelsb\n",
    "    ax.set_title('Importance bar chart standadized Lasso-like Logistic Regression full',fontsize= 15)\n",
    "    ax.set_xlabel('Beta est.', fontsize=15)\n",
    "    ax.set_ylabel('Predictor', fontsize=15)\n",
    "    \n",
    "\n",
    "    \n",
    "# Grab the coefficients\n",
    "lasso_coef = logit_lasso.coef_[0]\n",
    "preds_importance_barchart(lasso_coef, X.columns)"
   ]
  },
  {
   "cell_type": "code",
   "execution_count": null,
   "metadata": {},
   "outputs": [],
   "source": [
    "# You can use the default number of n_repeats (5) and your estimator's default scorer\n",
    "# To speed up the time it takes to run your permutations, you can try setting n_jobs=-1\n",
    "# to take full advantage of all of your available processor cores.\n",
    "per_imp_train = permutation_importance(logit_lasso, X_train, y_train, \n",
    "                                n_repeats=5, # Default\n",
    "                                scoring='accuracy',\n",
    "                                n_jobs=-1, #Takes as many threads as possible\n",
    "                                random_state=42)\n",
    "\n",
    "# https://scikit-learn.org/0.22/auto_examples/inspection/plot_permutation_importance.html\n",
    "len_data = len(per_imp_train.importances_mean) # Needed for negative indexing\n",
    "sorted_per_imp_index = per_imp_train.importances_mean.argsort()[-10:len_data]\n",
    "\n",
    "# Get the actual mean permutation importance values and their corresponding feature names\n",
    "relat_imp_feat_names = X.columns[sorted_per_imp_index]\n",
    "relat_imp_means = per_imp_train.importances_mean[sorted_per_imp_index].tolist()\n",
    "\n",
    "# Get the plots ready\n",
    "fig, ax = plt.subplots(figsize = (14,8))\n",
    "\n",
    "y_ticks = np.arange(0, len(relat_imp_feat_names))\n",
    "ax.barh(y_ticks, relat_imp_means)\n",
    "ax.set_yticklabels(relat_imp_feat_names)\n",
    "ax.set_yticks(y_ticks)\n",
    "ax.set_title(\"Train Permutation Importances\", fontsize=20)\n",
    "fig.tight_layout()\n",
    "plt.show()\n"
   ]
  },
  {
   "cell_type": "code",
   "execution_count": null,
   "metadata": {},
   "outputs": [],
   "source": [
    "# Get indices per race     \n",
    "race_indices_c = X_test[\"is_african_american\"] == 1\n",
    "race_indices_aa = X_test[\"is_african_american\"] == 0\n",
    "\n",
    "# Reshape\n",
    "y_train_shape = y_train.values.reshape(-1,)\n",
    "y_test_shape = y_test.values.reshape(-1,)\n",
    "\n",
    "# Match true values per race\n",
    "y_test_race_c = y_test_shape[race_indices_c]\n",
    "y_test_race_aa = y_test_shape[race_indices_aa]\n",
    "print(y_test_race_c)\n",
    "print(y_test_race_aa)\n",
    "\n",
    "\n",
    "def perf_measure(y_actual, y_hat):\n",
    "    TP = 0\n",
    "    FP = 0\n",
    "    TN = 0\n",
    "    FN = 0\n",
    "\n",
    "    for i in range(len(y_hat)): \n",
    "        if y_actual[i]==y_hat[i]==1:\n",
    "            TP += 1\n",
    "        if y_hat[i]==1 and y_actual[i]!=y_hat[i]:\n",
    "            FP += 1\n",
    "        if y_actual[i]==y_hat[i]==0:\n",
    "            TN += 1\n",
    "        if y_hat[i]==0 and y_actual[i]!=y_hat[i]:\n",
    "            FN += 1\n",
    "\n",
    "    return (TP, FP, TN, FN)\n",
    "\n",
    "\n",
    "def get_fp_race_groups(y_true, y_pred):\n",
    "    # Get the values we need\n",
    "    TP, FP, TN, FN = perf_measure(y_true, y_pred)\n",
    "    \n",
    "    # FPR -> False postive rate\n",
    "    # It’s the probability that a false alarm will be raised\n",
    "    # that a positive result will be given when the true value is negative.\n",
    "    FPR = FP/(FP+TN)\n",
    "    \n",
    "    # FNR -> False negative rate -> Miss rate\n",
    "    # The probability that a true positive will be missed by the test.\n",
    "    FNR = FN/(FN+TP)\n",
    "    \n",
    "    return FPR, FNR\n",
    "\n",
    "\n",
    "# https://stackoverflow.com/a/53124075/8970591\n",
    "def percentage(part,whole):\n",
    "    if whole == 0:\n",
    "        if part == 0:\n",
    "            return float(\"nan\")\n",
    "        return float(\"inf\")\n",
    "    return float(part) / float(whole)\n",
    "\n",
    "\n",
    "\n",
    "def output_error_scores(logit, X_test_logit, logit_name=\"\"):\n",
    "    # Get the predictions\n",
    "    y_test_preds = logit.predict(X_test_logit)\n",
    "\n",
    "    # Match race based predictions\n",
    "    y_pred_race_c = y_test_preds[race_indices_c]\n",
    "    y_pred_race_aa = y_test_preds[race_indices_aa]\n",
    "\n",
    "    # 2) False Positive Rate(FPR) as a percentage for the groups (*note a positive here is two_year_recid==1)\n",
    "    # 3) False Negative Rate(FNR) as a percentage for the groups\n",
    "    # Get both rates\n",
    "    FPR_race_c, FNR_race_c = get_fp_race_groups(y_test_race_c, y_pred_race_c)\n",
    "    FPR_race_aa, FNR_race_aa = get_fp_race_groups(y_test_race_aa, y_pred_race_aa)\n",
    "\n",
    "    # Output FPR & FNR results\n",
    "    print(f\"Log. Regress ({logit_name}) -> False Positive Rate(FPR) Non African-American: \\t{FPR_race_c}\")\n",
    "    print(f\"Log. Regress ({logit_name}) -> False Negative Rate(FNR) Non African-American: \\t{FNR_race_c} \\n\")\n",
    "    print(f\"Log. Regress ({logit_name}) -> False Positive Rate(FPR) African-American: \\t{FPR_race_aa}\")\n",
    "    print(f\"Log. Regress ({logit_name}) -> False Negative Rate(FNR) African-American: \\t{FNR_race_aa} \\n\")\n",
    "\n",
    "    # 4) Ratios of Error Rates:\n",
    "    ratio_err_rate_FPR = percentage(FPR_race_aa,  FPR_race_c)\n",
    "    ratio_err_rate_FNR = percentage(FNR_race_aa, FNR_race_c)\n",
    "\n",
    "    # Ouput the restults\n",
    "    print(f\"Log. Regress ({logit_name}) -> Ratio of the FPR between African-American and Non African-American groups: \\t{ratio_err_rate_FPR}\")\n",
    "    print(f\"Log. Regress ({logit_name}) -> Ratio of the FNR between African-American and Non African-American groups: \\t{ratio_err_rate_FNR}\")"
   ]
  },
  {
   "cell_type": "code",
   "execution_count": null,
   "metadata": {},
   "outputs": [],
   "source": [
    "# Report all the scores\n",
    "output_error_scores(logit_lasso, X_test, logit_name=\"LASSO Mental health\")"
   ]
  },
  {
   "cell_type": "code",
   "execution_count": null,
   "metadata": {},
   "outputs": [],
   "source": [
    "# Get the predicted probabilities\n",
    "y_pred_proba = logit_lasso.predict_proba(X_test)\n",
    "y_pred_proba_race_c = y_pred_proba[race_indices_c][:,1]\n",
    "y_pred_proba_race_aa = y_pred_proba[race_indices_aa][:,1]\n",
    "\n",
    "# Create a bar chart to visualize importance of our scaled predictors\n",
    "fig, ax = plt.subplots(figsize = (14,10),facecolor='w')\n",
    "\n",
    "# Get ROC curve metrics\n",
    "fpr_c, tpr_c, thresholds_c = roc_curve(y_test_race_c, y_pred_proba_race_c)\n",
    "fpr_aa, tpr_aa, thresholds_aa = roc_curve(y_test_race_aa, y_pred_proba_race_aa)\n",
    "\n",
    "# Add ROC lines to the plot\n",
    "ax.plot(fpr_c, tpr_c, label='Non African-American')\n",
    "ax.plot(fpr_aa, tpr_aa, label='African-American')\n",
    "\n",
    "# Log the model's AUC for both races\n",
    "print(F\"Log. Regress (no race) -> AUC for Causcasian:       \\t{auc(fpr_c, tpr_c)}\")\n",
    "print(F\"Log. Regress (no race) -> AUC for African-American: \\t{auc(fpr_aa, tpr_aa)}\")\n",
    "\n",
    "# Add coin flip indicator, so 50/50\n",
    "x=np.arange(0,100)/100\n",
    "plt.plot(x,x,'--',color=\"gray\",alpha=0.3)\n",
    "\n",
    "# Add the labels and show the graph\n",
    "ax.set_ylabel(\"True Positive Rate (Sensitivity)\",fontsize= 15)\n",
    "ax.set_xlabel(\"False Positive Rate (1 - Specificity)\",fontsize= 15)\n",
    "ax.set_title(\"Comparative ROC plot for 2 different races on the Test set for Log. Regress (no race)\",fontsize= 20)\n",
    "ax.legend()\n",
    "plt.show()"
   ]
  },
  {
   "cell_type": "markdown",
   "metadata": {
    "button": false,
    "deletable": false,
    "editable": false,
    "jupyter": {
     "outputs_hidden": true
    },
    "new_sheet": false,
    "run_control": {
     "read_only": false
    }
   },
   "source": [
    "### End of Notebook"
   ]
  }
 ],
 "metadata": {
  "anaconda-cloud": {},
  "celltoolbar": "Edit Metadata",
  "jupytext": {},
  "kernelspec": {
   "display_name": "cs109a",
   "language": "python",
   "name": "cs109a"
  },
  "language_info": {
   "codemirror_mode": {
    "name": "ipython",
    "version": 3
   },
   "file_extension": ".py",
   "mimetype": "text/x-python",
   "name": "python",
   "nbconvert_exporter": "python",
   "pygments_lexer": "ipython3",
   "version": "3.7.9"
  },
  "latex_envs": {
   "bibliofile": "biblio.bib",
   "cite_by": "apalike",
   "current_citInitial": 1,
   "eqLabelWithNumbers": true,
   "eqNumInitial": 0
  },
  "pycharm": {
   "stem_cell": {
    "cell_type": "raw",
    "metadata": {
     "collapsed": false
    },
    "source": []
   }
  },
  "toc": {
   "base_numbering": 1,
   "nav_menu": {},
   "number_sections": true,
   "sideBar": true,
   "skip_h1_title": false,
   "title_cell": "Table of Contents",
   "title_sidebar": "Contents",
   "toc_cell": false,
   "toc_position": {},
   "toc_section_display": true,
   "toc_window_display": false
  }
 },
 "nbformat": 4,
 "nbformat_minor": 4
}
