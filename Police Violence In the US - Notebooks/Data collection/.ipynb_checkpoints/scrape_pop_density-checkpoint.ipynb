{
 "cells": [
  {
   "cell_type": "code",
   "execution_count": 1,
   "metadata": {},
   "outputs": [],
   "source": [
    "# import the necessary libraries\n",
    "import re\n",
    "import csv\n",
    "import requests\n",
    "import pandas as pd\n",
    "import numpy as np\n",
    "from time import sleep\n",
    "from bs4 import BeautifulSoup"
   ]
  },
  {
   "cell_type": "markdown",
   "metadata": {},
   "source": [
    "### Getting the density data\n",
    "\n",
    "There are 2 wikipedia pages offering the density data:\n",
    "- [List of United States cities by population](https://en.wikipedia.org/wiki/List_of_United_States_cities_by_population)\n",
    "- [List of United States cities by population density\n",
    "](https://en.wikipedia.org/wiki/List_of_United_States_cities_by_population_density)\n",
    "\n",
    "I choose the first one because the second is sources from the 2010 consensus dataset, while the second one is based on more recent data from 2016.\n"
   ]
  },
  {
   "cell_type": "code",
   "execution_count": 2,
   "metadata": {},
   "outputs": [],
   "source": [
    "# NOTE: files will be saved to this directory, so you need to ensure\n",
    "data_dir = \"../Data/\"\n",
    "wiki_file_name = \"wiki-pop-table.html\"\n",
    "wiki_csv_output = \"wiki-table-population.csv\""
   ]
  },
  {
   "cell_type": "code",
   "execution_count": 3,
   "metadata": {},
   "outputs": [
    {
     "name": "stdout",
     "output_type": "stream",
     "text": [
      "Writing html output for file wiki-pop-table.html\n"
     ]
    }
   ],
   "source": [
    "def download_wiki_table():\n",
    "    # Url to scrape\n",
    "    base_url = 'https://en.wikipedia.org/wiki/List_of_United_States_cities_by_population'\n",
    "    wiki_page = requests.get(base_url)\n",
    "    \n",
    "    soup = BeautifulSoup(wiki_page.text, \"html.parser\")\n",
    "\n",
    "#     # To clear unicode\n",
    "#     soup = soup.prettify(\"utf-8\")\n",
    "\n",
    "    # To store our resutls\n",
    "    city_pop_density = {}\n",
    "\n",
    "    # Grab the table from this page\n",
    "    wiki_table = soup.find(\"table\",{\"class\":\"wikitable sortable\"})\n",
    "\n",
    "    # Open a (new) file in the state_dir to save our parsed state's html\n",
    "    with open(f\"{data_dir}{wiki_file_name}\", \"w\") as file:\n",
    "        print(f\"Writing html output for file {wiki_file_name}\")\n",
    "        file.write(str(wiki_table.prettify()))\n",
    "\n",
    "# Write to disk to don't have to repeat each time\n",
    "download_wiki_table()"
   ]
  },
  {
   "cell_type": "code",
   "execution_count": 4,
   "metadata": {},
   "outputs": [],
   "source": [
    "def int_repr(string_num):\n",
    "    if \",\" in string_num:\n",
    "        return int(string_num.replace(',', ''))\n",
    "    else:\n",
    "        return int(string_num)\n",
    "    \n",
    "def remove_end_brackets(string_brackets):\n",
    "    if \"[\" in string_brackets:\n",
    "        return string_brackets[:-3]\n",
    "    else:\n",
    "        return string_brackets\n",
    "    "
   ]
  },
  {
   "cell_type": "code",
   "execution_count": 5,
   "metadata": {},
   "outputs": [
    {
     "name": "stdout",
     "output_type": "stream",
     "text": [
      "Renaming -> New York City\n",
      "Renaming -> Saint Paul\n",
      "Renaming -> Fort Lauderdale\n",
      "ERROR Wrongly formatted city -> 'South Carolina'\n",
      "Pop density miles -> '573/km2'\n",
      "Pop density km -> '32°55′04″N80°03′54″W﻿ / ﻿32.9178°N 80.0650°W﻿ /32.9178; -80.0650﻿ (North Charleston)' \n",
      "\n",
      "Done creaing city information csv with 316 city rows of total 317 US cities\n"
     ]
    }
   ],
   "source": [
    "# Run this when you want to get the items from the downloaded wiki table again\n",
    "def get_city_pop_dens_data(): \n",
    "    \n",
    "    # Load saved html file as bs object, by it's name we saved\n",
    "    wiki_table = BeautifulSoup(open(f\"{data_dir}{wiki_file_name}\"), \"html.parser\")\n",
    "    \n",
    "    with open(f\"{data_dir}{wiki_csv_output}\", 'w', newline='') as file:\n",
    "        # Create the csv writer and add the column names\n",
    "        writer = csv.writer(file)\n",
    "        writer.writerow([\"city\", \"state\", \"pop_est_2019\", \"pop_est_2010\",\n",
    "                         \"pop_dens_2016_mi\", \"pop_dens_2016_km\"])\n",
    "        \n",
    "        # For the stats\n",
    "        row_count = 1\n",
    " \n",
    "        # Rename cities needed to match later on\n",
    "        rename_cities = {\n",
    "            \"Fort Lauderdale\":\"Ft. Lauderdale\",\n",
    "            \"Saint Paul\": \"St. Paul\",\n",
    "            \"New York City\":\"New York\",\n",
    "        }\n",
    "\n",
    "        # Grab eachrow from the table, first row is the header of the table\n",
    "        for row in wiki_table.findAll(\"tr\")[1:]:\n",
    "\n",
    "            # Grab the all the html columns for this row\n",
    "            row_items = row.findAll('td')\n",
    "\n",
    "            # Make sure it's valid\n",
    "            if row_items is not None and len(row_items) > 8:\n",
    "                \n",
    "                # Grabs each row's information we're after\n",
    "                city_name = row_items[1].get_text(strip=True)\n",
    "                state_name = row_items[2].get_text(strip=True)\n",
    "                pop_est_2019 = row_items[3].get_text(strip=True)\n",
    "                pop_est_2010 = row_items[4].get_text(strip=True)\n",
    "                pop_dens_2016_mi_raw = row_items[8].get_text(strip=True)\n",
    "                pop_dens_2016_km_raw = row_items[9].get_text(strip=True)\n",
    "                \n",
    "                if len(pop_dens_2016_mi_raw) > 15 or len(pop_dens_2016_km_raw) > 15:\n",
    "                    print(f\"ERROR Wrongly formatted city -> '{city_name}'\")\n",
    "                    print(f\"Pop density miles -> '{pop_dens_2016_mi_raw}'\")\n",
    "                    print(f\"Pop density km -> '{pop_dens_2016_km_raw}' \\n\")\n",
    "                    row_count -= 1\n",
    "                    continue\n",
    "                \n",
    "                # Remove brackets from cityname if existend\n",
    "                city_name = remove_end_brackets(city_name)\n",
    "                \n",
    "                # Exceptions\n",
    "                if city_name in rename_cities:\n",
    "                    print(F\"Renaming -> {city_name}\")\n",
    "                    city_name = rename_cities[city_name]\n",
    "\n",
    "                \n",
    "                # Remove unicode space characters,see:\n",
    "                # https://stackoverflow.com/a/26068871/8970591\n",
    "                pop_dens_2016_mi_raw = pop_dens_2016_mi_raw.replace(u'\\xa0', ' ')\n",
    "                pop_dens_2016_km_raw = pop_dens_2016_km_raw.replace(u'\\xa0', ' ')\n",
    "\n",
    "                # Get square miles as amount \n",
    "                split_pop_dens_2016_mi = pop_dens_2016_mi_raw.split('/sq')\n",
    "                pop_dens_2016_mi = int_repr(split_pop_dens_2016_mi[0])\n",
    "        \n",
    "                # Get square km as amount \n",
    "                split_pop_dens_2016_km = pop_dens_2016_km_raw.split('/km2')\n",
    "                pop_dens_2016_km = int_repr(split_pop_dens_2016_km[0])\n",
    "\n",
    "                # Validate converted intergers\n",
    "                # print(city_name, pop_dens_2016_mi, pop_dens_2016_km)\n",
    "                \n",
    "                # Append the row with the data\n",
    "                writer.writerow([city_name, state_name, pop_est_2019,\n",
    "                                 pop_est_2010, pop_dens_2016_mi, pop_dens_2016_km])\n",
    "\n",
    "                row_count += 1\n",
    "            else:\n",
    "                # Not finding stats and/or county names, so need to start next iteration\n",
    "                print(\"Error not matching this row\")\n",
    "                continue\n",
    "                \n",
    "        print(f\"Done creaing city information csv with {row_count} city rows of total 317 US cities\")\n",
    "\n",
    "get_city_pop_dens_data()\n"
   ]
  },
  {
   "cell_type": "code",
   "execution_count": null,
   "metadata": {},
   "outputs": [],
   "source": []
  },
  {
   "cell_type": "code",
   "execution_count": null,
   "metadata": {},
   "outputs": [],
   "source": []
  },
  {
   "cell_type": "code",
   "execution_count": null,
   "metadata": {},
   "outputs": [],
   "source": []
  }
 ],
 "metadata": {
  "kernelspec": {
   "display_name": "Python 3",
   "language": "python",
   "name": "python3"
  },
  "language_info": {
   "codemirror_mode": {
    "name": "ipython",
    "version": 3
   },
   "file_extension": ".py",
   "mimetype": "text/x-python",
   "name": "python",
   "nbconvert_exporter": "python",
   "pygments_lexer": "ipython3",
   "version": "3.7.7"
  }
 },
 "nbformat": 4,
 "nbformat_minor": 4
}
